{
 "cells": [
  {
   "cell_type": "markdown",
   "metadata": {
    "slideshow": {
     "slide_type": "slide"
    }
   },
   "source": [
    "> \" The global chatbot market is expected to reach $1.23 billion by 2025  and approximately 45% of end users prefer chatbots as the primary mode of communication for customer service inquiries.\"<br/>\n",
    "> (Source: Business Insider)"
   ]
  },
  {
   "cell_type": "markdown",
   "metadata": {
    "slideshow": {
     "slide_type": "notes"
    }
   },
   "source": [
    "Interactivity- Room check familiarity with chatbots. Ask open ended questions to spark conversation about experiences. Then show the definition of a chatbot."
   ]
  },
  {
   "cell_type": "markdown",
   "metadata": {
    "slideshow": {
     "slide_type": "slide"
    }
   },
   "source": [
    "## Chatbots day 1\n",
    "\n",
    "- **Lesson 1** _Introduction and Python exploration_: Students will discuss the use cases and concepts of the chatbot architecture\n",
    "- **Lesson 2** _Python exploration_: Students will explore the functionality of Rasa chatbot stack components and review Pandas and scikit-learn key features\n",
    "- **Lesson 3** _Key components of a simple bot_: Students will explore the architectural details of a simple bot\n",
    "- **Lesson 4** _Building and modifying a simple bot_: Students will build and modify a `starter-pack` bot\n"
   ]
  },
  {
   "cell_type": "markdown",
   "metadata": {
    "slideshow": {
     "slide_type": "slide"
    }
   },
   "source": [
    "## Helpful symbols\n",
    "\n",
    "#### ![inline-img](img/guided.png) Guided activity we do together       ![inline-img](img/activity.png) Independent activity or practice\n",
    "#### ![inline-img](img/exercise-code.png) Coding exercise new material  ![inline-img](img/examine.png) Examine code, not run it\n",
    "#### ![inline-img](img/KC-small.png) Knowledge check"
   ]
  },
  {
   "cell_type": "markdown",
   "metadata": {
    "slideshow": {
     "slide_type": "slide"
    }
   },
   "source": [
    "## Lesson 1: _introduction_\n",
    "### Students will discuss the use cases and concepts of chatbot architecture\n",
    "\n",
    "#### By the end of lesson 1, students will be able to:\n",
    "\n",
    "| Objectives|Complete|  \n",
    "| --- | --- |\n",
    "|Summarize chatbot case studies in the domain of banking or health| |  \n",
    "|Identify the terms of the chatbot creation life cycle| |\n",
    "|Find references and specifications of chatbot life cycle within chatbot case studies|   |\n",
    "|Discuss the architecture and stack choices of a chatbot|   |"
   ]
  },
  {
   "cell_type": "markdown",
   "metadata": {
    "slideshow": {
     "slide_type": "slide"
    }
   },
   "source": [
    "## What is a chatbot?\n",
    "- A system that incorporates an artificial intelligence toolkit, server logic, and user interface that interact with humans through text or voice messages\n",
    "\n",
    "![centered](img/bot.png)"
   ]
  },
  {
   "cell_type": "markdown",
   "metadata": {
    "slideshow": {
     "slide_type": "slide"
    }
   },
   "source": [
    "## Why a chatbot?\n",
    "- The main idea behind using a bot vs using a conventional UI is to eliminate the necessity to search for a functionality or information\n",
    "- To replace actions that take multiple steps with a question for a bot\n",
    "- To use it as a universal point of entry to a complex system or website"
   ]
  },
  {
   "cell_type": "markdown",
   "metadata": {
    "slideshow": {
     "slide_type": "slide"
    }
   },
   "source": [
    "## Case studies\n",
    "![max-height-500](img/study.png)"
   ]
  },
  {
   "cell_type": "markdown",
   "metadata": {
    "slideshow": {
     "slide_type": "slide"
    }
   },
   "source": [
    "## ![inline-img](img/activity.png) Activity 1\n",
    "\n",
    "### Case Studies:\n",
    "- Case A: [Cornell Bot](https://microsoft.github.io/techcasestudies/bot%20framework/2017/06/15/WeillCornell.html)\n",
    "- Case B: [Erica Part 1](https://www.forbes.com/sites/quora/2016/10/28/meet-erica-bank-of-americas-new-voice-ai-banking-system/#28ab9b6d50db) [Erica Part 2](https://www.bizjournals.com/charlotte/news/2018/05/21/bank-of-america-rolls-out-ai-assistant-erica-to.html)\n",
    "- Case C: [Tia part 1](https://rasa.com/solutions/healthcare/) [Tia part 2](https://www.asktia.com/app/)\n",
    "- Case D: [Cora](https://www.ibm.com/industries/banking-financial-markets/front-office/chatbots-banking)\n",
    "- Case E: [Raiffeisen](https://rasa.com/customers/raiffeisen)\n",
    "- Case F: [Eno](https://www.forbes.com/sites/capitalone/2017/10/19/becoming-a-bot-ai-design-and-the-incomparable-eno/#681ccfffebc2)\n",
    "- Case G: [Helvetia](https://rasa.com/customers/helvetia-claims)\n",
    "- Case H: [SmartCom](https://rasa.com/customers/telecom-upgrades)\n",
    "- Case I: [Travel Bot](https://rasa.com/customers/travel-assistant)"
   ]
  },
  {
   "cell_type": "markdown",
   "metadata": {
    "slideshow": {
     "slide_type": "slide"
    }
   },
   "source": [
    "## ![inline-img](img/activity.png) Activity 1: tasks\n",
    "\n",
    "- Split into 9 groups, each group picks a case study and discusses the following questions (15 min time limit):\n",
    "    - What is the domain of business?\n",
    "    - Challenge bot is addressing?\n",
    "    - What do you find interesting about this case study?\n",
    "    - What may be some of the technical challenges to implementing this chat bot?\n",
    "- Each group presents their answers to the rest of the class (time limit for each presentation is 2 min)"
   ]
  },
  {
   "cell_type": "markdown",
   "metadata": {
    "slideshow": {
     "slide_type": "slide"
    }
   },
   "source": [
    "## Module review\n",
    "\n",
    "| Objectives|Complete|  \n",
    "| --- | --- |\n",
    "|Summarize chatbot case studies in the domain of banking or health| **YES**|  \n",
    "|Identify the terms of the chatbot creation life cycle| |\n",
    "|Find references and specifications of chatbot life cycle within chatbot case studies|   |\n",
    "|Discuss the architecture and stack choices of a chatbot|   |"
   ]
  },
  {
   "cell_type": "markdown",
   "metadata": {
    "slideshow": {
     "slide_type": "slide"
    }
   },
   "source": [
    "### What does it take to develop a bot?\n",
    "\n",
    "![centered](img/chatbot-lifecycle.png)\n"
   ]
  },
  {
   "cell_type": "markdown",
   "metadata": {
    "slideshow": {
     "slide_type": "notes"
    }
   },
   "source": [
    "- Chatbot building is not a once-and-done venture\n",
    "- Careful planning, thoughtful architecture, and impeccable  implementation will not guarantee the success of your bot for a few reasons\n",
    "- Unlike  static applications, chatbots live off the product they themselves produce: conversations with users\n",
    "- That means that chatbots are a product in continuous development, improvement and testing cycle"
   ]
  },
  {
   "cell_type": "markdown",
   "metadata": {
    "slideshow": {
     "slide_type": "slide"
    }
   },
   "source": [
    "### Requirements: make a list and read it twice, based on\n",
    "\n",
    "![centered](img/chatbot-lifecycle-req.png)\n"
   ]
  },
  {
   "cell_type": "markdown",
   "metadata": {
    "slideshow": {
     "slide_type": "notes"
    }
   },
   "source": [
    "### ![inline-img](img/requirements.png)  Requirements: make a list and read it twice, based on\n",
    "- Your target customer\n",
    "- The problem you are trying to solve\n",
    "- The benefits of your solution that you would like to deliver\n",
    "- Scope limitations\n",
    "- Technical restrictions\n",
    "- The mode of delivery of your solution"
   ]
  },
  {
   "cell_type": "markdown",
   "metadata": {
    "slideshow": {
     "slide_type": "slide"
    }
   },
   "source": [
    "### Specifications: let your detail oriented nature shine through \n",
    " \n",
    " ![centered](img/chatbot-lifecycle-spec.png) "
   ]
  },
  {
   "cell_type": "markdown",
   "metadata": {
    "slideshow": {
     "slide_type": "notes"
    }
   },
   "source": [
    "### ![inline-img](img/specifications.png)  Specifications: let your detail oriented nature shine through \n",
    "- General product description for marketing and business development teams that addresses the target customer and the problem solution outlined in the requirements\n",
    "- Detailed product description for development and QA teams that addresses the target customer and the problem solution outlined in the requirements\n",
    "- Features that address the benefits of the solution and user stories that show how your solution is going to solve the problem with your target customer in mind\n",
    "- Feature and business logic limitations and potential for future growth and version development addressing current scope and technical restrictions \n",
    "- Choice of platform(s) and framework(s) to efficiently implement the above"
   ]
  },
  {
   "cell_type": "markdown",
   "metadata": {
    "slideshow": {
     "slide_type": "slide"
    }
   },
   "source": [
    "###  Conversational script: talk the talk and walk the walk \n",
    " ![centered](img/chatbot-lifecycle-conv.png) \n"
   ]
  },
  {
   "cell_type": "markdown",
   "metadata": {
    "slideshow": {
     "slide_type": "notes"
    }
   },
   "source": [
    "### ![inline-img](img/converational-script.png)  Conversational script: talk the talk and walk the walk \n",
    "- Your bot is only as good as the data that powers it, bots are usually referred to as **CUI - Conversational User Interface**\n",
    "- **Conversation with the user is your user interface**, which is not static unlike other applications and user interfaces\n",
    "- Your **conversational script is your set of wireframes**, since the actual user interface in its traditional sense is very limited\n",
    "- Make a diagram if it helps, add visuals, maps, anything that aids the understanding of the flow of conversation and what turns it can take\n",
    "- Your conversational script must represent the actual user conversations, **the end goal of any such script is to guide the user towards accomplishing the desired task**"
   ]
  },
  {
   "cell_type": "markdown",
   "metadata": {
    "slideshow": {
     "slide_type": "slide"
    }
   },
   "source": [
    "### Architecture: blueprint of your bot\n",
    " ![centered](img/chatbot-lifecycle-arch.png) "
   ]
  },
  {
   "cell_type": "markdown",
   "metadata": {
    "slideshow": {
     "slide_type": "notes"
    }
   },
   "source": [
    "### ![inline-img](img/architecture.png)  Architecture: blueprint of your bot\n",
    "- This is where you need to capture the **technical essence of your bot**, so that if needed it can be re-created\n",
    "- Back-end components (platform, framework and library specs)\n",
    "- Services and APIs (hosting, access to your bot and external connections to other systems)\n",
    "- Front-end components if used outside of any messaging platform\n",
    "- *Don't forget to leave room to grow* when planning all of that, scalability is one of the biggest bottlenecks of projects"
   ]
  },
  {
   "cell_type": "markdown",
   "metadata": {
    "slideshow": {
     "slide_type": "slide"
    }
   },
   "source": [
    "### Development: getting your hands dirty\n",
    "![centered](img/chatbot-lifecycle-dev.png) \n"
   ]
  },
  {
   "cell_type": "markdown",
   "metadata": {
    "slideshow": {
     "slide_type": "notes"
    }
   },
   "source": [
    "### ![inline-img](img/development.png) Development: getting your hands dirty\n",
    "- Stage of implementation of **Architecture** and **Specifications** of the bot using your **Conversational script**\n",
    "- Usually tightly connected to **Testing** stage\n"
   ]
  },
  {
   "cell_type": "markdown",
   "metadata": {
    "slideshow": {
     "slide_type": "slide"
    }
   },
   "source": [
    "###  Testing: if you think it works, break it\n",
    " ![centered](img/chatbot-lifecycle-test.png) \n"
   ]
  },
  {
   "cell_type": "markdown",
   "metadata": {
    "slideshow": {
     "slide_type": "notes"
    }
   },
   "source": [
    "### ![inline-img](img/testing.png)  Testing: if you think it works, break it\n",
    "- Stage of active breaking and fixing of the bot, emulating user interactions, improving training data in accordance with your conversational script\n",
    "- Usually tightly connected to **Development** stage\n",
    "- Aside from iterative testing in-between the development and deployment stages, QA of the final product also falls into this stage"
   ]
  },
  {
   "cell_type": "markdown",
   "metadata": {
    "slideshow": {
     "slide_type": "slide"
    }
   },
   "source": [
    "### Deployment: integration with platform, UI and services\n",
    " ![centered](img/chatbot-lifecycle-dep.png) \n"
   ]
  },
  {
   "cell_type": "markdown",
   "metadata": {
    "slideshow": {
     "slide_type": "notes"
    }
   },
   "source": [
    "### ![inline-img](img/deployment.png)  Deployment: integration with platform, UI and services\n",
    "- This is where you connect all of your dots and deploy your entire app to a desired platform\n",
    "- Usually tightly connected to **Development** and **Testing** stages\n"
   ]
  },
  {
   "cell_type": "markdown",
   "metadata": {
    "slideshow": {
     "slide_type": "slide"
    }
   },
   "source": [
    "### Development - Test - Deploy cycle:\n",
    "\n",
    "![centered](img/chatbot-lifecycle-dtd-cyc.png)"
   ]
  },
  {
   "cell_type": "markdown",
   "metadata": {
    "slideshow": {
     "slide_type": "notes"
    }
   },
   "source": [
    "### What the process involving these three stages actually is:\n",
    "\n",
    "![centered](img/dev-cycle-is.png)\n",
    "\n",
    "- Development, testing and deployment are iterative tasks that need refinement \n",
    "- This is where the **robust architecture** you have designed **should be your friend** allowing for easy transition between the three stages and not your enemy \n",
    "- Development and testing environment should allow for easy access and deployment should not require more than a couple of clicks or a `git push -u origin master` away!"
   ]
  },
  {
   "cell_type": "markdown",
   "metadata": {
    "slideshow": {
     "slide_type": "slide"
    }
   },
   "source": [
    "### Publishing: measure twice, cut once\n",
    "\n",
    " ![centered](img/chatbot-lifecycle-pub.png) "
   ]
  },
  {
   "cell_type": "markdown",
   "metadata": {
    "slideshow": {
     "slide_type": "notes"
    }
   },
   "source": [
    "### ![inline-img](img/publishing.png) Publishing: measure twice cut once\n",
    "- Once developed, tested and deployed, the bot's finalized version must be submitted for approval by the messaging platform and/or the app store you have chosen\n",
    "- Rules and requirements differ from platform to platform\n",
    "- They also evolve over time as more regulations about data sharing and all things internet\n",
    "- Depending on the choice of platform and the number of platforms where the bot will be published, this process might take anywhere from days to weeks, be sure to include it into your bot release timeline!"
   ]
  },
  {
   "cell_type": "markdown",
   "metadata": {
    "slideshow": {
     "slide_type": "slide"
    }
   },
   "source": [
    "### Monitoring\n",
    " ![centered](img/chatbot-lifecycle-mon.png) \n"
   ]
  },
  {
   "cell_type": "markdown",
   "metadata": {
    "slideshow": {
     "slide_type": "notes"
    }
   },
   "source": [
    "### ![inline-img](img/monitoring.png)  Monitoring\n",
    "- The overall health of your system (this is usually set up and done within the hosting services)\n",
    "- The actual user conversations (this step is crucial especially for newly published and released bots!)"
   ]
  },
  {
   "cell_type": "markdown",
   "metadata": {
    "slideshow": {
     "slide_type": "slide"
    }
   },
   "source": [
    "### Promoting: don't be shy\n",
    " ![centered](img/chatbot-lifecycle-pro.png) "
   ]
  },
  {
   "cell_type": "markdown",
   "metadata": {
    "slideshow": {
     "slide_type": "notes"
    }
   },
   "source": [
    "### ![inline-img](img/promoting.png)  Promoting: don't be shy\n",
    "- Leverage your platform's or app store's options to make your bot discoverable\n",
    "- Leverage the your marketing team's skills to let your customers know about your bot\n",
    "- Keep those app ratings up by providing the best support \n",
    "- Ask for customer reviews "
   ]
  },
  {
   "cell_type": "markdown",
   "metadata": {
    "slideshow": {
     "slide_type": "slide"
    }
   },
   "source": [
    "### Analyzing: your bot is your best source of data\n",
    " ![centered](img/chatbot-lifecycle-analys.png) "
   ]
  },
  {
   "cell_type": "markdown",
   "metadata": {
    "slideshow": {
     "slide_type": "notes"
    }
   },
   "source": [
    "### ![inline-img](img/analyzing.png)  Analyzing: your bot is your best source of data\n",
    "- Review your bot's conversation logs and usage metrics\n",
    "- The best measure of success is helping your user accomplish a task with the least effort\n",
    "- Pay particular attention to those conversations that are abandoned or broken, they will be your starting point for making improvements and feeding them back into the cycle!"
   ]
  },
  {
   "cell_type": "markdown",
   "metadata": {
    "slideshow": {
     "slide_type": "slide"
    }
   },
   "source": [
    "## ![inline-img](img/activity.png) Activity 2\n",
    "\n",
    "- Return to case study groups\n",
    "- Identify components of chatbot lifecycle within case study\n",
    "- Report out to group"
   ]
  },
  {
   "cell_type": "markdown",
   "metadata": {
    "slideshow": {
     "slide_type": "slide"
    }
   },
   "source": [
    "## Module review\n",
    "\n",
    "| Objectives|Complete|  \n",
    "| --- | --- |\n",
    "|Summarize chatbot case studies in the domain of banking or health| **YES**|  \n",
    "|Identify the terms of the chatbot creation life cycle| **YES** |\n",
    "|Find references and specifications of chatbot life cycle within chatbot case studies| **YES**  |\n",
    "|Discuss the architecture and stack choices of a chatbot|   |"
   ]
  },
  {
   "cell_type": "markdown",
   "metadata": {
    "slideshow": {
     "slide_type": "slide"
    }
   },
   "source": [
    "### ![inline-img](img/architecture.png) Any chatbot needs to be able to answer two questions\n",
    "\n",
    "![centered-max-height-500](img/chatpurpose.png)"
   ]
  },
  {
   "cell_type": "markdown",
   "metadata": {
    "slideshow": {
     "slide_type": "slide"
    }
   },
   "source": [
    "### ![inline-img](img/architecture.png) Technology stack needs three things\n",
    "\n",
    "![centered](img/three_components.png)"
   ]
  },
  {
   "cell_type": "markdown",
   "metadata": {
    "slideshow": {
     "slide_type": "slide"
    }
   },
   "source": [
    "### ![inline-img](img/architecture.png) For each component, there is a choice\n",
    "\n",
    "![choice](img/tool_choice.png)"
   ]
  },
  {
   "cell_type": "markdown",
   "metadata": {
    "slideshow": {
     "slide_type": "notes"
    }
   },
   "source": [
    "## Custom vs platform\n",
    "\n",
    "### Developing a custom bot\n",
    "\n",
    "- **Core dialogue system**: the code base that defines your bot's main business logic\n",
    "- **NLU engine**: the code base that define natural language processing / understanding capabilities\n",
    "- **UI**: the actual user interface of your bot including the dialogue box, buttons and any other features your bot might require\n",
    "- *All of the above*\n",
    "\n",
    "### Using a bot-creation platform\n",
    "\n",
    "- **Core dialogue system** (e.g. Rasa Core)\n",
    "- **NLU engine** (e.g. Rasa NLU)\n",
    "- **UI** (e.g. Facebook messenger, Slack, Telegram, etc.)\n",
    "- *All of the above*\n"
   ]
  },
  {
   "cell_type": "markdown",
   "metadata": {
    "slideshow": {
     "slide_type": "slide"
    }
   },
   "source": [
    "### ![inline-img](img/architecture.png) Build a custom bot or use a bot creation platform? \n",
    "\n",
    "![centered](img/resources.png)\n"
   ]
  },
  {
   "cell_type": "markdown",
   "metadata": {
    "slideshow": {
     "slide_type": "notes"
    }
   },
   "source": [
    "- When making a bot, one can decide to go with any or all of the components of a bot either custom built or using an existing platform or framework \n",
    "- Any combination of custom and platform-based components of a bot is valid\n",
    "- The ultimate goal is to find the one that strikes a balance between the amount of resources required vs benefits of investing into a solution"
   ]
  },
  {
   "cell_type": "markdown",
   "metadata": {
    "slideshow": {
     "slide_type": "slide"
    }
   },
   "source": [
    "### ![inline-img](img/architecture.png) Component parts\n",
    "\n",
    "![centered](img/rasa_components.png)\n",
    "\n"
   ]
  },
  {
   "cell_type": "markdown",
   "metadata": {
    "slideshow": {
     "slide_type": "slide"
    }
   },
   "source": [
    "### ![inline-img](img/architecture.png) For this training, we are using the Rasa stack\n",
    "\n",
    "![centered](img/rasa.png)"
   ]
  },
  {
   "cell_type": "markdown",
   "metadata": {
    "slideshow": {
     "slide_type": "slide"
    }
   },
   "source": [
    "### ![inline-img](img/architecture.png) Components come with abundant documentation\n",
    "\n",
    "![documentation](img/rasa-documentation.png)"
   ]
  },
  {
   "cell_type": "markdown",
   "metadata": {
    "slideshow": {
     "slide_type": "slide"
    }
   },
   "source": [
    "### ![inline-img](img/architecture.png) What else goes into a chatbot?\n",
    "\n",
    "![centered-max-height-500](img/rasa-ai-parts.png)"
   ]
  },
  {
   "cell_type": "markdown",
   "metadata": {
    "slideshow": {
     "slide_type": "slide"
    }
   },
   "source": [
    "### ![inline-img](img/architecture.png) What else goes into a chatbot?\n",
    "\n",
    "![centered-max-height-500](img/rasaactionsteps.png)"
   ]
  },
  {
   "cell_type": "markdown",
   "metadata": {
    "slideshow": {
     "slide_type": "slide"
    }
   },
   "source": [
    "### ![inline-img](img/architecture.png) This is a more complete view of the stack\n",
    "![centered-max-height-500](img/rasamorecomplete.png)"
   ]
  },
  {
   "cell_type": "markdown",
   "metadata": {
    "slideshow": {
     "slide_type": "slide"
    }
   },
   "source": [
    "### ![inline-img](img/examine.png) When we set up Rasa AI, this is the code we ran\n",
    "\n",
    "```\n",
    "conda install pip\n",
    "pip install -U spacy\n",
    "pip install rasa_core==0.9.8\n",
    "pip install rasa_nlu==0.12.3\n",
    "python -m spacy download en\n",
    "python -m spacy download en_core_web_md\n",
    "python -m spacy link en_core_web_md en --force\n",
    "```\n"
   ]
  },
  {
   "cell_type": "markdown",
   "metadata": {
    "slideshow": {
     "slide_type": "slide"
    }
   },
   "source": [
    "## ![inline-img](img/architecture.png) Why Conda & pip?\n",
    "\n",
    "- They are the best complementary systems for general system package management (Anaconda) and Python package management (pip) that make package updates and conflict resolution a less manual and more integrated task\n",
    "\n",
    "![centered-max-height-300](img/rasa-stack-end.png)"
   ]
  },
  {
   "cell_type": "markdown",
   "metadata": {
    "slideshow": {
     "slide_type": "slide"
    }
   },
   "source": [
    "## Module review\n",
    "\n",
    "| Objectives|Complete|  \n",
    "| --- | --- |\n",
    "|Summarize chatbot case studies in the domain of banking or health| **YES**|  \n",
    "|Identify the terms of the chatbot creation life cycle| **YES** |\n",
    "|Find references and specifications of chatbot life cycle within chatbot case studies| **YES** |\n",
    "|Discuss the architecture and stack choices of a chatbot| **YES** |"
   ]
  },
  {
   "cell_type": "markdown",
   "metadata": {
    "slideshow": {
     "slide_type": "slide"
    }
   },
   "source": [
    "## Lesson 1 complete\n",
    "\n",
    "![centered](img/pexels-photo-900102.png)"
   ]
  },
  {
   "cell_type": "markdown",
   "metadata": {
    "slideshow": {
     "slide_type": "slide"
    }
   },
   "source": [
    "## Lesson 2: _Python exploration_\n",
    "### Students will explore the functionality of Rasa chatbot stack components\n",
    "\n",
    "#### By the end of lesson 2, students will be able to:\n",
    "\n",
    "| Objectives|Complete|  \n",
    "| --- | --- |\n",
    "|Summarize use of Python in Rasa AI stack|  |\n",
    "|Summarize Pandas package for data wrangling| |  \n",
    "|Summarize scikit-learn algorithms used in Machine Learning| |\n",
    "|Summarize use of scikit-learn and neural network libraries in Rasa Stack| |"
   ]
  },
  {
   "cell_type": "markdown",
   "metadata": {
    "slideshow": {
     "slide_type": "slide"
    }
   },
   "source": [
    "## Why Python?\n",
    "\n",
    "- Rasa AI is written in python\n",
    "- Python is a de facto standard of building ML models\n",
    "- Keras is a Python wrapper around TensorFlow that is widely used to build NN models to solve NLP problems\n",
    "    - LSTM is a convenient  type of RNN that builds lots of language generating models, which are used to imitate human speech\n",
    "\n",
    "![centered-max-height-300](img/rasa-stack-end.png)"
   ]
  },
  {
   "cell_type": "markdown",
   "metadata": {
    "slideshow": {
     "slide_type": "slide"
    }
   },
   "source": [
    "## Custom functions will be required for actions in this training\n",
    "\n",
    "![centered](img/rasaactionsteps.png)"
   ]
  },
  {
   "cell_type": "markdown",
   "metadata": {
    "slideshow": {
     "slide_type": "slide"
    }
   },
   "source": [
    "## Module review\n",
    "\n",
    "| Objectives|Complete|  \n",
    "| --- | --- |\n",
    "|Summarize use of Python in Rasa AI stack| **YES** |\n",
    "|Summarize Pandas package for data wrangling| |  \n",
    "|Summarize scikit-learn algorithms used in Machine Learning| |\n",
    "|Summarize use of scikit-learn and neural network libraries in Rasa Stack| |"
   ]
  },
  {
   "cell_type": "markdown",
   "metadata": {
    "slideshow": {
     "slide_type": "slide"
    }
   },
   "source": [
    "## Effective querying with pandas\n",
    "\n",
    "![centered](img/pandas-about.png)"
   ]
  },
  {
   "cell_type": "markdown",
   "metadata": {
    "slideshow": {
     "slide_type": "slide"
    }
   },
   "source": [
    "# ![inline-img](img/guided.png) Introduction to pandas\n",
    "\n",
    "```\n",
    "conda install pandas\n",
    "```"
   ]
  },
  {
   "cell_type": "code",
   "execution_count": 1,
   "metadata": {
    "slideshow": {
     "slide_type": "-"
    }
   },
   "outputs": [],
   "source": [
    "import pandas as pd"
   ]
  },
  {
   "cell_type": "markdown",
   "metadata": {
    "slideshow": {
     "slide_type": "-"
    }
   },
   "source": [
    "![centered-max-height-500](img/pandas-bamboo.png)"
   ]
  },
  {
   "cell_type": "markdown",
   "metadata": {
    "slideshow": {
     "slide_type": "slide"
    }
   },
   "source": [
    "## pandas is great for\n",
    "- Loading, saving and converting of different data formats\n",
    "- Viewing, cleaning, and wrangling data\n",
    "- Summarizing, grouping and joining different datasets\n",
    "- Performing basic analyses\n",
    "\n",
    "Functions called pandas will have the prefix `pd` \n",
    "Most functions that can be applied to a data frame will be _appended_ to the dataframe\n",
    "\n",
    "Object properties can also be referenced by following the `.` operator at the end of the dataframe"
   ]
  },
  {
   "cell_type": "markdown",
   "metadata": {
    "slideshow": {
     "slide_type": "slide"
    }
   },
   "source": [
    "## Useful functions to get a dataframe summary\n",
    "\n",
    "| Function | Purpose |\n",
    "| -------- | ------- |\n",
    "| `df.shape` | Returns dimensions of dataset |\n",
    "| `df.dtypes`| Returns the variable type of each column |\n",
    "| `df.describe()` | Returns summary statistics for all numeric columns |\n",
    "| `len(df)` | Returns number of columns in dataset |\n",
    "| `len(df.index)` | Returns the number of rows in dataset |\n",
    "| `df.columns.values` | Will return the column names in dataset|\n",
    "| `df.head(n)` | Returns the top n observations in dataset |\n",
    "| `df.tail(n)` | Returns the last n observations in dataset|"
   ]
  },
  {
   "cell_type": "markdown",
   "metadata": {
    "slideshow": {
     "slide_type": "slide"
    }
   },
   "source": [
    "## Some useful row, column and entry selection methods\n",
    "\n",
    "| Syntax               | What it does                                                                                      |\n",
    "| ---------------------|--------------------------------------------------------------------------------------------------:|\n",
    "| `df[col]`            | Returns column with label `col` as `Series` (i.e. a one-dimensional indexed object like a column) |\n",
    "| `df[[col1, col2]]`   | Returns columns as a new dataframe                                                               |\n",
    "| `s.iloc[0]`          |Selects by position from series                                                                    |\n",
    "| `s.loc['index_one']` | Selects by index from series                                                                      |\n",
    "| `df.iloc[i,:]`       | Selects `ith` row                                                                                 |\n",
    "| `df.iloc[i,i]`       |  Selects `ith` row and `ith` col                                                                  |"
   ]
  },
  {
   "cell_type": "markdown",
   "metadata": {
    "slideshow": {
     "slide_type": "slide"
    }
   },
   "source": [
    "## Some useful data cleaning and manipulation methods\n",
    "\n",
    "| Syntax                             | What it does                                   |\n",
    "| -----------------------------------|-----------------------------------------------:|\n",
    "| `df.columns = ['a','b','c']`       | Renames columns                                |\n",
    "| `pd.isnull()`                      | Checks for null values, returns boolean array  |\n",
    "| `df.dropna()`                      | Drops all rows that contain null values         |\n",
    "| `df.fillna(x)`                     | Replaces all null values with x                |\n",
    "| `df.set_index('column_one')`       | Sets index                                     |\n",
    "| `s.astype(float)`                  | Converts the datatype of the series to float  |\n",
    "| `s.replace(x, y)`                  | Replaces all values in a series equal to x with y|"
   ]
  },
  {
   "cell_type": "markdown",
   "metadata": {
    "slideshow": {
     "slide_type": "slide"
    }
   },
   "source": [
    "## Some useful data wrangling methods\n",
    "\n",
    "| Syntax                             | What it does                                   |\n",
    "| -----------------------------------|-----------------------------------------------:|\n",
    "| `df[df[col] > x]`       | Gets rows where `col` is greater than `x`                                |\n",
    "| `df[(df[col] > x) & (df[col] < y)]`                      | Rows where x > col > y |\n",
    "| `df.sort_values(col1)`                      |Sorts values by col1 in ascending order        |\n",
    "| `df.sort_values(col2,ascending=False)`                     | Sorts values by col2 in descending order               |\n",
    "| `df.sort_values([col1,col2],ascending=[True, False])`       | Sorts values by col1 in ascending order then col2 in descending order                                   |\n",
    "| `df.groupby(col)`                  |  Returns an object grouped by values from one column  |\n",
    "| `df.apply(np.mean)`                  | Apply the function `np.mean()` across each column (`np` here is a short version of `numpy` library that needs to be imported separately!)|"
   ]
  },
  {
   "cell_type": "markdown",
   "metadata": {
    "slideshow": {
     "slide_type": "slide"
    }
   },
   "source": [
    "## Module review\n",
    "\n",
    "| Objectives|Complete|  \n",
    "| --- | --- |\n",
    "|Summarize use of Python in Rasa AI stack| **YES** |\n",
    "|Summarize Pandas package for data wrangling| **YES** |  \n",
    "|Summarize scikit-learn algorithms used in Machine Learning| |\n",
    "|Summarize use of scikit-learn and neural network libraries in Rasa Stack| |"
   ]
  },
  {
   "cell_type": "markdown",
   "metadata": {
    "slideshow": {
     "slide_type": "slide"
    }
   },
   "source": [
    "## ![inline-img](img/guided.png) Effective machine learning with scikit-learn\n",
    "\n",
    "\n",
    "```\n",
    "conda install scikit-learn\n",
    "```\n"
   ]
  },
  {
   "cell_type": "code",
   "execution_count": 2,
   "metadata": {
    "slideshow": {
     "slide_type": "-"
    }
   },
   "outputs": [],
   "source": [
    "import sklearn as sk"
   ]
  },
  {
   "cell_type": "markdown",
   "metadata": {
    "slideshow": {
     "slide_type": "-"
    }
   },
   "source": [
    "![centered](img/scikit.png)"
   ]
  },
  {
   "cell_type": "markdown",
   "metadata": {
    "slideshow": {
     "slide_type": "slide"
    }
   },
   "source": [
    "## scikit-learn is great for ML and includes algorithms that cover\n",
    "\n",
    "| ML methods|   Description  |\n",
    "| ----------|--------------------------------------------:|\n",
    "| **Clustering**| Unsupervised learning methods such as K-means| \n",
    "| **Classification and regression**| Supervised learning methods like generalized linear models, logistic regression, support vector machines, and decision trees |\n",
    "| **Cross validation**|Estimating the performance of supervised models|\n",
    "| **Dimensionality reduction**| Feature selection and feature extraction methods|\n",
    "| **Ensemble methods**| Combining predictions of multiple supervised models|\n",
    "| **Parameter tuning**| Adjusting model parameters to get the most out of models|\n",
    "| **Manifold learning**| Summarizing and depicting complex multi-dimensional data|"
   ]
  },
  {
   "cell_type": "markdown",
   "metadata": {
    "slideshow": {
     "slide_type": "slide"
    }
   },
   "source": [
    "## Some popular and useful functions from scikit-learn\n",
    "\n",
    "| ML methods|  Some useful functions                                 |\n",
    "| ----------|--------------------------------------------:|\n",
    "| **Clustering**| `KMeans`, `SpectralClustering`, `AgglomerativeClustering`, `DBSCAN`, `GaussianMixture`| \n",
    "| **Classification and regression**| `LinearRegression`, `LogisticRegression`, `ElasticNet`,  `SVC`, `NearestNeighbors`, `DecisionTreeClassifier`, `RandomForestClassifier`|\n",
    "| **Cross validation**| `cross_val_score`, `KFold`, `LeaveOneOut`, `GroupKFold`, `TimeSeriesSplit`|\n",
    "| **Dimensionality reduction**| `decomposition.PCA`, `random_projection`, `FeatureAgglomeration`|\n",
    "| **Parameter tuning**| `GridSearchCV`, `RandomizedSearchCV`, `OrthogonalMatchingPursuitCV`|"
   ]
  },
  {
   "cell_type": "markdown",
   "metadata": {
    "slideshow": {
     "slide_type": "slide"
    }
   },
   "source": [
    "## Module review\n",
    "\n",
    "| Objectives|Complete|  \n",
    "| --- | --- |\n",
    "|Summarize use of Python in Rasa AI stack| **YES** |\n",
    "|Summarize Pandas package for data wrangling| **YES** |  \n",
    "|Summarize scikit-learn algorithms used in Machine Learning| **YES** |\n",
    "|Summarize use of scikit-learn and neural network libraries in Rasa Stack| |"
   ]
  },
  {
   "cell_type": "markdown",
   "metadata": {
    "slideshow": {
     "slide_type": "slide"
    }
   },
   "source": [
    "### How does scikit-learn apply to chatbots?\n",
    "\n",
    "![centered](img/rasa-ai-parts.png)"
   ]
  },
  {
   "cell_type": "markdown",
   "metadata": {
    "slideshow": {
     "slide_type": "slide"
    }
   },
   "source": [
    "## Where is scikit-learn used?\n",
    "- Rasa NLU relies on classification algorithms like Support Vector Machines that are a part of `scikit-learn` among other options\n",
    "\n",
    "![centered-max-height-500](img/rasa_core_classification.png)"
   ]
  },
  {
   "cell_type": "markdown",
   "metadata": {
    "slideshow": {
     "slide_type": "slide"
    }
   },
   "source": [
    "## What else can be used in Rasa NLU and Core pipeline?\n",
    "- Neural networks\n",
    "\n",
    "![centered](img/back_propogation_nn.png)"
   ]
  },
  {
   "cell_type": "markdown",
   "metadata": {
    "slideshow": {
     "slide_type": "slide"
    }
   },
   "source": [
    "## Rasa stack has support for Neural Network models\n",
    "\n",
    "![inline-img](img/tensorflow.png)![inline-img](img/keras.png)\n",
    "\n",
    "- **TensorFlow**: the base deep learning framework that allows for distributed processing and data flow graphs, modeled on tensor data objects\n",
    "    - Its core is written in C++ with a layer of Python around it\n",
    "- **Keras**: the wrapper that we will actually be writing code in, easier to build out algorithms that resemble other Python & `scikit-learn` functions you are used to\n",
    "    - It's a few layers up the abstraction chain from the core in C++, but it allows us to train models easily"
   ]
  },
  {
   "cell_type": "markdown",
   "metadata": {
    "slideshow": {
     "slide_type": "notes"
    }
   },
   "source": [
    "**TensorFlow** and **Keras** do not HAVE to go together. Keras can be run on top of other systems (CNTK, Theanos) and you CAN code directly in Tensorflow. If you want to develop your own algorithms, you can do so with Tensorflow\n",
    "TensorFlow now comes with `Keras`,  as its high level API for building and training deep learning models.\n",
    "You can also use `Eager Execution`, another API coded in Python to do more imperative coding without the graphing. \n",
    "\n",
    "**NOTE** - you can also link Keras & Tensorflow into R, C, etc, they do not have to be in the strict Python domain."
   ]
  },
  {
   "cell_type": "markdown",
   "metadata": {
    "slideshow": {
     "slide_type": "slide"
    }
   },
   "source": [
    "## How can you control model parameters for NLU models?\n",
    "\n",
    "- One way to do it is to adjust parameters of any or all components of the NLU pipeline\n",
    "    - Each component that is pre-defined and widely used through Rasa framework has its own configuration parameters\n",
    "    - You can read more about all available standard components and sources how to configure them [here](https://rasa.com/docs/nlu/components/#component-configuration)\n",
    "- Another way is to control NLU pipeline at a more granular level is to define custom component(s) for any/all stages of the pipeline\n",
    "    - You can read more about custom components [here](https://rasa.com/docs/nlu/customcomponents/#section-customcomponents)\n"
   ]
  },
  {
   "cell_type": "markdown",
   "metadata": {
    "slideshow": {
     "slide_type": "slide"
    }
   },
   "source": [
    "## Module review\n",
    "\n",
    "| Objectives|Complete|  \n",
    "| --- | --- |\n",
    "|Summarize use of Python in Rasa AI stack| **YES** |\n",
    "|Summarize Pandas package for data wrangling| **YES** |  \n",
    "|Summarize scikit-learn algorithms used in Machine Learning| **YES** |\n",
    "|Summarize use of scikit-learn and neural network libraries in Rasa Stack| **YES** |"
   ]
  },
  {
   "cell_type": "markdown",
   "metadata": {
    "slideshow": {
     "slide_type": "slide"
    }
   },
   "source": [
    "# Lesson 2 Complete!\n",
    "\n",
    "![centered](img/art-balloons.png)"
   ]
  },
  {
   "cell_type": "markdown",
   "metadata": {
    "slideshow": {
     "slide_type": "slide"
    }
   },
   "source": [
    "# Lesson 3: exploring the architecture of a simple bot\n",
    "\n",
    "## Module review\n",
    "\n",
    "| Objectives|Complete|  \n",
    "| --- | --- |\n",
    "|Navigate to `starter-pack` and explore folder structure| |\n",
    "|Explore elements of Rasa Core architecture|  |\n",
    "|Explore elements of Rasa NLU architecture| |  "
   ]
  },
  {
   "cell_type": "markdown",
   "metadata": {
    "slideshow": {
     "slide_type": "slide"
    }
   },
   "source": [
    "## Key components of a simple bot using Rasa Stack\n",
    "\n",
    "![centered](img/rasa-stack-all-components.png)"
   ]
  },
  {
   "cell_type": "markdown",
   "metadata": {
    "slideshow": {
     "slide_type": "slide"
    }
   },
   "source": [
    "![inline-image](img/rasa-nlu-logo.png)  \n",
    "\n",
    "#### Rasa's stack requires these to be in place to get the NLU up and running:\n",
    "- **NLU training data**\n",
    "- **NLU configuration file**\n",
    "- Optional **Python script(s)** to train the NLU model"
   ]
  },
  {
   "cell_type": "markdown",
   "metadata": {
    "slideshow": {
     "slide_type": "slide"
    }
   },
   "source": [
    "![inline-image](img/rasa-core-logo.png)\n",
    "\n",
    "### To get a Simple Bot up and running, Core needs to have these key ingredients in place:\n",
    "- **Domain**\n",
    "- **Stories**\n",
    "- Minimal **Python script(s)** that train and run your bot"
   ]
  },
  {
   "cell_type": "markdown",
   "metadata": {
    "slideshow": {
     "slide_type": "slide"
    }
   },
   "source": [
    "##  ![inline-img](img/guided.png) To view the structure and files in starter-pack\n",
    "\n",
    "- Navigate to the `starter-pack` directory on your Desktop\n",
    "\n",
    "```\n",
    "cd ~/Desktop/chatbot/starter-pack\n",
    "```"
   ]
  },
  {
   "cell_type": "markdown",
   "metadata": {
    "slideshow": {
     "slide_type": "slide"
    }
   },
   "source": [
    "## ![inline-img](img/guided.png) Check the contents of the repository\n",
    "\n",
    "```\n",
    "ls -al\n",
    "```\n",
    "\n",
    "- You should see something like this:\n",
    "\n",
    "```\n",
    "total 48\n",
    "drwxr-xr-x  4 user user 4096 Jul  5 17:37 .\n",
    "drwxr-xr-x 17 user user 4096 Jul  5 17:37 ..\n",
    "-rw-r--r--  1 user user  283 Jul  5 17:37 actions.py\n",
    "drwxr-xr-x  2 user user 4096 Jul  5 17:37 data\n",
    "-rw-r--r--  1 user user  536 Jul  5 17:37 domain.yml\n",
    "-rw-r--r--  1 user user 2499 Jul  5 17:37 gdrive_service.py\n",
    "drwxr-xr-x  8 user user 4096 Jul  5 17:37 .git\n",
    "-rw-r--r--  1 user user   31 Jul  5 17:37 .gitignore\n",
    "-rw-r--r--  1 user user  878 Jul  5 17:37 Makefile\n",
    "-rw-r--r--  1 user user  205 Jul  5 17:37 nlu_config.yml\n",
    "-rw-r--r--  1 user user  992 Jul  5 17:37 README.md\n",
    "-rw-r--r--  1 user user  170 Jul  5 17:37 requirements.txt\n",
    "```"
   ]
  },
  {
   "cell_type": "markdown",
   "metadata": {
    "slideshow": {
     "slide_type": "slide"
    }
   },
   "source": [
    "##  ![inline-img](img/examine.png) Starter pack components\n",
    "\n",
    "- The `starter-pack` is a tiny bot with very few features; let's start exploring its components \n",
    "\n",
    "![centered-max-height-500](img/starter-pack.png)"
   ]
  },
  {
   "cell_type": "markdown",
   "metadata": {
    "slideshow": {
     "slide_type": "slide"
    }
   },
   "source": [
    "## Module review\n",
    "\n",
    "| Objectives|Complete|  \n",
    "| --- | --- |\n",
    "|Clone `starter-pack` and explore folder structure| **YES** |\n",
    "|Explore elements of Rasa Core architecture| |\n",
    "|Explore elements of Rasa NLU architecture| |  "
   ]
  },
  {
   "cell_type": "markdown",
   "metadata": {
    "slideshow": {
     "slide_type": "slide"
    }
   },
   "source": [
    "![inline-img](img/rasa-core-logo.png)"
   ]
  },
  {
   "cell_type": "markdown",
   "metadata": {
    "slideshow": {
     "slide_type": "slide"
    }
   },
   "source": [
    "## Rasa Core - domain\n",
    "\n",
    "Defines the universe in which your bot operates. It specifies:\n",
    "- User's `intents` that need a bot's response\n",
    "- Important `entities` that are necessary to generate an appropriate response\n",
    "- Information `slots` that you wish to track to give an appropriate response\n",
    "- Utterance `templates` that allow for definition of some standard bot responses\n",
    "- Bot's `actions`"
   ]
  },
  {
   "cell_type": "markdown",
   "metadata": {
    "slideshow": {
     "slide_type": "slide"
    }
   },
   "source": [
    "##  ![inline-img](img/examine.png) Starter pack core components: domain\n",
    "\n",
    "- Specified in `domain.yml` file in the main `starter-pack` directory\n",
    "\n",
    "![centered-max-height-500](img/starter-pack-domain.png)"
   ]
  },
  {
   "cell_type": "markdown",
   "metadata": {
    "slideshow": {
     "slide_type": "slide"
    }
   },
   "source": [
    "## ![inline-img](img/examine.png) This domain file includes\n",
    "\n",
    "- 5 **intents**:\n",
    "    1. `greet`\n",
    "    2. `thank`\n",
    "    3. `bye`\n",
    "    4. `deny`\n",
    "    5. `affirm`\n",
    "    \n",
    "- A placeholder for **entities**\n",
    "- A placeholder for **slots**\n",
    "- 3 standard **templates** (a.k.a. responses) tied to standard bot's **actions**\n",
    "    1. `utter_greet`\n",
    "    2. `utter_thank`\n",
    "    3. `utter_bye`\n",
    "- 3 **standard actions** defined in **templates** and 1 **custom action** defined in `actions.py`"
   ]
  },
  {
   "cell_type": "markdown",
   "metadata": {
    "slideshow": {
     "slide_type": "slide"
    }
   },
   "source": [
    "##  ![inline-img](img/examine.png) Example of intents: defined in the NLU training data\n",
    "\n",
    "- We will discuss them in more detail later\n",
    "\n",
    "![centered-max-height-500](img/starter-pack-data-nlu.png)"
   ]
  },
  {
   "cell_type": "markdown",
   "metadata": {
    "slideshow": {
     "slide_type": "notes"
    }
   },
   "source": [
    "Questions:\n",
    "How many intents are there here?\n"
   ]
  },
  {
   "cell_type": "markdown",
   "metadata": {
    "slideshow": {
     "slide_type": "slide"
    }
   },
   "source": [
    "##  ![inline-img](img/examine.png) Examples of other elements of domain file\n",
    "\n",
    "- This bot does not contain any `entities`, but in other bots, they could be some specific names of restaurants or places, for instance\n",
    "- This bot does not contain any `slots`, but in other bots, slots are \"containers\" in a bot's memory, where the entities mentioned by user are stored, for example `restaurant_name` or `place_name` would store the name of the restaurant or name of the place that was an `entity` mentioned by user\n",
    "- This bot has basic `templates` that simply provide pre-set responses that the bot gives when a certain `action` is performed"
   ]
  },
  {
   "cell_type": "markdown",
   "metadata": {
    "slideshow": {
     "slide_type": "slide"
    }
   },
   "source": [
    "## What is yaml?\n",
    "\n",
    "- It's a human-readable and writable **data serialization language** \n",
    "- It combines the power of computer-readable and ingestible file format with the ease of viewing and writing documents as humans do\n",
    "- Often used to write configuration files for different programs or systems and across many programming languages\n",
    "- It's a **superset of a JSON** file format, which means that **JSON** files are also **YAML** files!\n",
    "- Uses **indentation** and **special characters** to define different types of objects and patterns\n",
    "- Read more on [YAML's official website](http://yaml.org/), try out [this short tutorial](https://learnxinyminutes.com/docs/yaml/) and use [this site](https://codebeautify.org/yaml-validator) to validate your YAML files\n",
    "\n"
   ]
  },
  {
   "cell_type": "markdown",
   "metadata": {
    "slideshow": {
     "slide_type": "slide"
    }
   },
   "source": [
    "## Rasa Core - stories:\n",
    "\n",
    "### A training data sample for the dialogue system, this is a set of conversational scenarios for your bot!\n",
    "\n",
    "- A story starts with a `name` preceded by two hashes `## some_story`; the name is arbitrary, but it should be unique so that it can be used for debugging \n",
    "- The end of a story is denoted by a `new line`, and then a new story starts again with `##`"
   ]
  },
  {
   "cell_type": "markdown",
   "metadata": {
    "slideshow": {
     "slide_type": "slide"
    }
   },
   "source": [
    "## ![inline-img](img/examine.png) Starter pack core components: training data in data/stories.md\n",
    "\n",
    "- There are only **3 stories** covering 3 out of 5 **intents** from `domain.yml`\n",
    "\n",
    "![centered-max-height-500](img/starter-pack-data-stories.png)"
   ]
  },
  {
   "cell_type": "markdown",
   "metadata": {
    "slideshow": {
     "slide_type": "slide"
    }
   },
   "source": [
    "## What is Markdown?\n",
    "\n",
    "- It's a lightweight human-readable and writable **markup language**\n",
    "- It combines the power of computer-readable and ingestible file format with the ease of viewing and writing documents as humans do\n",
    "- Often used to write `README` files\n",
    "- It is written in a plain text editor, but can be easily converted to a variety of file formats like `HTML`, `XML`, `PDF`, `Rich Text Format` with appropriate text formatting\n",
    "- It is often a language of choice for those who wish to write neatly formatted documents for web applications without the use of lengthy and not user-friendly `HTML` tags\n",
    "- Uses **indentation** and **special characters** to define different text formatting patterns\n",
    "- Used by GitHub and many other web-based platforms for creating user-friendly uniformly formatted code base documentation\n",
    "- Read about and practice `Markdown` on [GitHub's website](https://guides.github.com/features/mastering-markdown/), or try out [Markdown official tutorial](https://www.markdownguide.org/getting-started/)\n",
    "\n"
   ]
  },
  {
   "cell_type": "markdown",
   "metadata": {
    "slideshow": {
     "slide_type": "slide"
    }
   },
   "source": [
    "## Rasa core - scripts:\n",
    "\n",
    "### This is where you get to define custom actions of your bot"
   ]
  },
  {
   "cell_type": "markdown",
   "metadata": {
    "slideshow": {
     "slide_type": "slide"
    }
   },
   "source": [
    "##  ![inline-img](img/examine.png) Starter pack core components: custom actions\n",
    "\n",
    "- Bot custom **actions** specified in `actions.py` file in the `main` directory\n",
    "\n",
    "![centered-max-height-500](img/starter-pack-actions.png)"
   ]
  },
  {
   "cell_type": "markdown",
   "metadata": {
    "slideshow": {
     "slide_type": "slide"
    }
   },
   "source": [
    "## Module review\n",
    "\n",
    "| Objectives|Complete|  \n",
    "| --- | --- |\n",
    "|Clone `starter-pack` and explore folder structure| **YES** |\n",
    "|Explore elements of Rasa Core architecture| **YES** |\n",
    "|Explore elements of Rasa NLU architecture| |  "
   ]
  },
  {
   "cell_type": "markdown",
   "metadata": {
    "slideshow": {
     "slide_type": "slide"
    }
   },
   "source": [
    "![inline-image](img/rasa-nlu-logo.png)  "
   ]
  },
  {
   "cell_type": "markdown",
   "metadata": {
    "slideshow": {
     "slide_type": "slide"
    }
   },
   "source": [
    "## NLU training data:\n",
    "\n",
    "### Can be in two formats\n",
    "1. `Markdown`\n",
    "2. `JSON`\n",
    "\n",
    "### Needs to have\n",
    "- **Multiple examples of different phrases** for all `intents` specified in your bot's **domain**\n",
    "- **Annotated `entities`** specified in your bot's **domain** if they appear in those phrases\n",
    "\n",
    "### Nice if it has\n",
    "- **Synonyms** of above phrases\n",
    "- **Regex expressions** specifying common patterns and their variations "
   ]
  },
  {
   "cell_type": "markdown",
   "metadata": {
    "slideshow": {
     "slide_type": "slide"
    }
   },
   "source": [
    "##  ![inline-img](img/examine.png) Starter pack NLU components: training data in data/nlu_data.md\n",
    "\n",
    "- NLU engine training data for classifying user **intents**\n",
    "\n",
    "![centered-max-height-500](img/starter-pack-data-nlu.png)"
   ]
  },
  {
   "cell_type": "markdown",
   "metadata": {
    "slideshow": {
     "slide_type": "notes"
    }
   },
   "source": [
    "### Notes\n",
    "- Review - how many intents are here, how many samples?\n",
    "- Does this look familiar to what we did yesterday?\n",
    "- Anything stick out?"
   ]
  },
  {
   "cell_type": "markdown",
   "metadata": {
    "slideshow": {
     "slide_type": "slide"
    }
   },
   "source": [
    "## NLU training data\n",
    "\n",
    "- Has different examples of phrases for each of the following **intents**\n",
    "    - `bye`\n",
    "    - `greet`\n",
    "    - `thank`, and\n",
    "    - `deny`"
   ]
  },
  {
   "cell_type": "markdown",
   "metadata": {
    "slideshow": {
     "slide_type": "slide"
    }
   },
   "source": [
    "## NLU configuration file:\n",
    "\n",
    "### Is written in\n",
    "1. `YAML`\n",
    "\n",
    "### Needs to have 2 things specified:\n",
    "1. **Pipeline** for NLU processing algorithms\n",
    "2. **Language** in which the NLU model will be trained\n"
   ]
  },
  {
   "cell_type": "markdown",
   "metadata": {
    "slideshow": {
     "slide_type": "slide"
    }
   },
   "source": [
    "##  ![inline-img](img/examine.png) Starter pack NLU components: configuration file in nlu_config.yml\n",
    "\n",
    "![centered-max-height-500](img/starter-pack-nlu-config.png)"
   ]
  },
  {
   "cell_type": "markdown",
   "metadata": {
    "slideshow": {
     "slide_type": "slide"
    }
   },
   "source": [
    "## NLU configuration file\n",
    "\n",
    "- Has **English** as the language for training\n",
    "- Has a **pipeline** of 3 algorithms\n",
    "    - `intent_featurizer_count_vectors`\n",
    "    - `intent_classifier_tensorflow_embedding`, and\n",
    "    -  pre-trained entity recognition algorithm `ner_duckling` with defined `dimensions` (i.e. `email`)\n",
    "- Although quite complex, this pipeline is not really used to its full potential by the bot's training since we don't have any entities defined in either `domain.yml` or annotated in any of the training datasets"
   ]
  },
  {
   "cell_type": "markdown",
   "metadata": {
    "slideshow": {
     "slide_type": "slide"
    }
   },
   "source": [
    "## Once more: key components of a simple bot using Rasa Stack\n",
    "\n",
    "![centered](img/rasa-stack-all-components.png)"
   ]
  },
  {
   "cell_type": "markdown",
   "metadata": {
    "slideshow": {
     "slide_type": "notes"
    }
   },
   "source": [
    "Now that we have gone through each file of the key components of the Rasa Stack, you have a better understanding how the all pieces fit together. These components are not the only ones in our `starter-pack` though, we can use some additional helper files to serve some specific purpose.  "
   ]
  },
  {
   "cell_type": "markdown",
   "metadata": {
    "slideshow": {
     "slide_type": "slide"
    }
   },
   "source": [
    "## Starter pack - optional files and scripts\n",
    "\n",
    "![centered-max-height-500](img/optional-files.png)"
   ]
  },
  {
   "cell_type": "markdown",
   "metadata": {
    "slideshow": {
     "slide_type": "slide"
    }
   },
   "source": [
    "## Google Drive service file\n",
    "\n",
    "![centered-max-height-500](img/gdrive-file.png)\n",
    "\n",
    "- This is an example of using Google API to connect to Google Drive and create a spreadsheet with users' emails. It is not used in this bot example.\n"
   ]
  },
  {
   "cell_type": "markdown",
   "metadata": {
    "slideshow": {
     "slide_type": "slide"
    }
   },
   "source": [
    "## Makefile\n",
    "\n",
    "![centered-max-height-500](img/makefile.png)"
   ]
  },
  {
   "cell_type": "markdown",
   "metadata": {
    "slideshow": {
     "slide_type": "slide"
    }
   },
   "source": [
    "## Makefiles are useful command line utilities that serve \n",
    "\n",
    "- To **create short aliases** for long commands to compile and run programs with various options (e.g. **train-nlu** serves as an alias to a very long command with multiple options)\n",
    "- To **clean and purge** intermediary files produced during program compilation and execution\n",
    "\n",
    "#### We are not going to be using `makefiles` in this course and we will not be discussing them in detail, but you are welcome to explore them!"
   ]
  },
  {
   "cell_type": "markdown",
   "metadata": {
    "slideshow": {
     "slide_type": "slide"
    }
   },
   "source": [
    "## README\n",
    "\n",
    "![centered-max-height-500](img/readme.png)"
   ]
  },
  {
   "cell_type": "markdown",
   "metadata": {
    "slideshow": {
     "slide_type": "slide"
    }
   },
   "source": [
    "## README files\n",
    "\n",
    "- Are optional, but **highly recommended** to be included with any package, program or module\n",
    "- Contain important information about\n",
    "    - **Authors and copyright**\n",
    "    - **How to install and use** the program, package or module\n",
    "    - Any **recommendations and resources** for further exploration or contribution from the authors"
   ]
  },
  {
   "cell_type": "markdown",
   "metadata": {
    "slideshow": {
     "slide_type": "slide"
    }
   },
   "source": [
    "## ![inline-img](img/exercise-code.png) Exercise 1: **review, match & assess**"
   ]
  },
  {
   "cell_type": "markdown",
   "metadata": {
    "slideshow": {
     "slide_type": "slide"
    }
   },
   "source": [
    "## Module review\n",
    "\n",
    "| Objectives|Complete|  \n",
    "| --- | --- |\n",
    "|Clone `starter-pack` and explore folder structure | **YES** |\n",
    "|Explore elements of Rasa Core architecture| **YES** |\n",
    "|Explore elements of Rasa NLU architecture| **YES** |  "
   ]
  },
  {
   "cell_type": "markdown",
   "metadata": {
    "slideshow": {
     "slide_type": "slide"
    }
   },
   "source": [
    "# Lesson 4: building a simple bot\n",
    "\n",
    "## Module review\n",
    "\n",
    "| Objectives|Complete|  \n",
    "| --- | --- |\n",
    "| Install `starter-pack` requirements |  |\n",
    "| Train and test `starter-pack` bot | |  \n",
    "| Visualize stories as a graph with graphviz | |  \n",
    "| Customize, retrain, test and visualize `starter-pack` bot | |  "
   ]
  },
  {
   "cell_type": "markdown",
   "metadata": {
    "slideshow": {
     "slide_type": "slide"
    }
   },
   "source": [
    "## ![inline-img](img/examine.png) Check requirements file\n",
    "\n",
    "- Open `requirements.txt` in your favorite text editor and check that its contents has the following:\n",
    "\n",
    "```\n",
    "gspread==2.0.0\n",
    "oauth2client==4.1.2\n",
    "duckling==1.7.3\n",
    "```"
   ]
  },
  {
   "cell_type": "markdown",
   "metadata": {
    "slideshow": {
     "slide_type": "slide"
    }
   },
   "source": [
    "## Note\n",
    "\n",
    "- We cloned this folder from:\n",
    "\n",
    "```\n",
    "git clone https://github.com/RasaHQ/starter-pack.git\n",
    "```\n",
    "\n",
    "- The original `requirements.txt` included requirements for installing Rasa Core and Rasa NLU\n",
    "- We do not need to install them again, so we removed those lines for this exercise"
   ]
  },
  {
   "cell_type": "markdown",
   "metadata": {
    "slideshow": {
     "slide_type": "slide"
    }
   },
   "source": [
    "## ![inline-img](img/guided.png) Install packages\n",
    "\n",
    "- To install packages specified in the `requirements.txt` file, use `pip install` command with `-r` option:\n",
    "\n",
    "```\n",
    "pip install -r requirements.txt\n",
    "```"
   ]
  },
  {
   "cell_type": "markdown",
   "metadata": {
    "slideshow": {
     "slide_type": "-"
    }
   },
   "source": [
    "- If any of the above commands fail, read error messages and make sure all dependencies are installed (the error message usually points to a module that's missing or wasn't installed properly)"
   ]
  },
  {
   "cell_type": "markdown",
   "metadata": {
    "slideshow": {
     "slide_type": "slide"
    }
   },
   "source": [
    "# Lesson 4: building a simple bot\n",
    "\n",
    "## Module review\n",
    "\n",
    "| Objectives|Complete|  \n",
    "| --- | --- |\n",
    "| Install `starter-pack` requirements | **YES** |\n",
    "| Train and test `starter-pack` bot | |  \n",
    "| Visualize stories as a graph with graphviz | |  \n",
    "| Customize, retrain, test and visualize `starter-pack` bot | |"
   ]
  },
  {
   "cell_type": "markdown",
   "metadata": {
    "slideshow": {
     "slide_type": "slide"
    }
   },
   "source": [
    " # ![inline-img](img/guided.png) Build a bot\n",
    " ## Developing the starter pack _Simple Bot_"
   ]
  },
  {
   "cell_type": "markdown",
   "metadata": {
    "slideshow": {
     "slide_type": "slide"
    }
   },
   "source": [
    "### ![inline-img](img/guided.png) NLU\n",
    "\n",
    "- Train your NLU model based on the pre-populated sample data\n",
    "- Use the following command in terminal\n",
    "\n",
    "```\n",
    "make train-nlu\n",
    "```"
   ]
  },
  {
   "cell_type": "markdown",
   "metadata": {
    "slideshow": {
     "slide_type": "slide"
    }
   },
   "source": [
    "## ![inline-img](img/examine.png) Train NLU command\n",
    "\n",
    "- We have used a convenience command `make train-nlu` defined in **Makefile** \n",
    "- All it does is provides a short alias to the full command below:\n",
    "\n",
    "```\n",
    "python -m rasa_nlu.train -c nlu_config.yml --data data/nlu_data.md -o models --fixed_model_name nlu --project current --verbose\n",
    "```\n",
    "\n",
    "- This command contains the following arguments:\n",
    "    - `python`: call Python interpreter\n",
    "    - `-m rasa_nlu.train`: call Rasa Core training module\n",
    "    - `-c nlu_config.yml`: provide the appropriate NLU configuration file\n",
    "    - `--data data/nlu_data.md`: provide appropriate training data file \n",
    "    - `-o models --fixed_model_name nlu --project current`: provide path to output models, this set of parameters will save it to `./models/current/nlu` relative to your working directory\n",
    "    - `--verbose`: output the model messages to console"
   ]
  },
  {
   "cell_type": "markdown",
   "metadata": {
    "slideshow": {
     "slide_type": "slide"
    }
   },
   "source": [
    "## ![inline-img](img/examine.png) Training NLU console output\n",
    "\n",
    "- This might take a few seconds, your terminal should be populated with a lot of different messages similar to these\n",
    "\n",
    "```\n",
    "python -m rasa_nlu.train -c nlu_config.yml --data data/nlu_data.md -o models --fixed_model_name nlu --project current --verbose\n",
    "...\n",
    "2018-07-05 17:44:55 INFO     rasa_nlu.training_data.loading  - Training data format of data/nlu_data.md is md\n",
    "2018-07-05 17:44:55 INFO     rasa_nlu.training_data.training_data  - Training data stats: \n",
    "\t- intent examples: 60 (4 distinct intents)\n",
    "\t- Found intents: 'bye', 'deny', 'thank', 'greet'\n",
    "\t- entity examples: 0 (0 distinct entities)\n",
    "\t- found entities: \n",
    "\n",
    "2018-07-05 17:44:55 INFO     rasa_nlu.model  - Starting to train component intent_featurizer_count_vectors\n",
    "...\n",
    "2018-07-05 17:45:00 INFO     rasa_nlu.model  - Successfully saved model into '/home/user/Desktop/starter-pack/models/current/nlu'\n",
    "2018-07-05 17:45:00 INFO     __main__  - Finished training\n",
    "```"
   ]
  },
  {
   "cell_type": "markdown",
   "metadata": {
    "slideshow": {
     "slide_type": "slide"
    }
   },
   "source": [
    "### ![inline-img](img/guided.png) CORE \n",
    "\n",
    "- Train your core based on the pre-populated sample data of `stories`\n",
    "- Use the following command in terminal\n",
    "\n",
    "```\n",
    "make train-core\n",
    "```"
   ]
  },
  {
   "cell_type": "markdown",
   "metadata": {
    "slideshow": {
     "slide_type": "slide"
    }
   },
   "source": [
    "## ![inline-img](img/examine.png) Train Core command\n",
    "\n",
    "- We have used a convenience command `make train-core` defined in **Makefile** \n",
    "- All it does is provides a short alias to the full command below:\n",
    "\n",
    "```\n",
    "python -m rasa_core.train -d domain.yml -s data/stories.md -o models/current/dialogue --epochs 200\n",
    "```\n",
    "\n",
    "- This command contains the following arguments:\n",
    "    - `python`: call Python interpreter\n",
    "    - `-m rasa_core.train`: call Rasa Core training module\n",
    "    - `-d domain.yml`: provide the appropriate domain file\n",
    "    - `-s data/stories.md`: provide appropriate stories file \n",
    "    - `-o models/current/dialogue`: provide the output directory for the model\n",
    "    - `--epochs`: number of epochs for training the model (needed for Keras/TensorFlow)"
   ]
  },
  {
   "cell_type": "markdown",
   "metadata": {
    "slideshow": {
     "slide_type": "slide"
    }
   },
   "source": [
    "## ![inline-img](img/examine.png) Training Core console output\n",
    "\n",
    "- This might take a few seconds, your terminal should be populated with a lot of different messages similar to these\n",
    "\n",
    "```\n",
    "python -m rasa_core.train -d domain.yml -s data/stories.md -o models/current/dialogue --epochs 200\n",
    "...\n",
    "Using TensorFlow backend.\n",
    "Processed Story Blocks: 100%|------------------------------------| 3/3 [00:00<00:00, 3055.59it/s, # trackers=1]\n",
    "...\n",
    "_________________________________________________________________\n",
    "Layer (type)                 Output Shape              Param #   \n",
    "=================================================================\n",
    "masking_1 (Masking)          (None, 3, 12)             0         \n",
    "_________________________________________________________________\n",
    "lstm_1 (LSTM)                (None, 32)                5760      \n",
    "_________________________________________________________________\n",
    "dense_1 (Dense)              (None, 6)                 198       \n",
    "_________________________________________________________________\n",
    "activation_1 (Activation)    (None, 6)                 0         \n",
    "=================================================================\n",
    "Total params: 5,958\n",
    "Trainable params: 5,958\n",
    "Non-trainable params: 0\n",
    "_________________________________________________________________\n",
    "Train on 22 samples, validate on 3 samples\n",
    "Epoch 1/200\n",
    "...\n",
    "```"
   ]
  },
  {
   "cell_type": "markdown",
   "metadata": {
    "slideshow": {
     "slide_type": "slide"
    }
   },
   "source": [
    "### ![inline-img](img/examine.png) Model training generates new files\n",
    "\n",
    "If you go back to explore the folder structure, you can see that aside from the files and folders we've downloaded, there is `models/current` directory with 2 sub-folders\n",
    "\n",
    "1. `dialogue`: where Rasa Core training data and models are saved\n",
    "2. `nlu`: where Rasa NLU models are saved\n",
    "\n",
    "![centered-max-height-500](img/models.png)"
   ]
  },
  {
   "cell_type": "markdown",
   "metadata": {
    "slideshow": {
     "slide_type": "slide"
    }
   },
   "source": [
    "### ![inline-img](img/examine.png) NLU models files\n",
    "\n",
    "![centered-max-height-500](img/models-nlu.png)\n"
   ]
  },
  {
   "cell_type": "markdown",
   "metadata": {
    "slideshow": {
     "slide_type": "slide"
    }
   },
   "source": [
    "### ![inline-img](img/examine.png) CORE dialogue model files\n",
    "\n",
    "![centered-max-height-500](img/models-dialogue.png)"
   ]
  },
  {
   "cell_type": "markdown",
   "metadata": {
    "slideshow": {
     "slide_type": "slide"
    }
   },
   "source": [
    "### ![inline-img](img/guided.png)  Run Simple Bot\n",
    "\n",
    "- Run Simple Bot in your terminal\n",
    "\n",
    "```\n",
    "make cmdline\n",
    "```"
   ]
  },
  {
   "cell_type": "markdown",
   "metadata": {
    "slideshow": {
     "slide_type": "slide"
    }
   },
   "source": [
    "## ![inline-img](img/examine.png) Run bot command\n",
    "\n",
    "- We have used a convenience command `make cmdline` defined in **Makefile** \n",
    "- All it does is provides a short alias to the full command below:\n",
    "\n",
    "```\n",
    "python -m rasa_core.run -d models/current/dialogue -u models/current/nlu\n",
    "```\n",
    "\n",
    "- This command contains the following arguments:\n",
    "    - `python`: call Python interpreter\n",
    "    - `-m rasa_core.run`: call Rasa Core module for testing the model\n",
    "    - `-d models/current/dialogue`: provide path to folder where the Core trained model files were generated\n",
    "    - `-u models/current/nlu`: provide path to folder where the NLU trained model files were generated"
   ]
  },
  {
   "cell_type": "markdown",
   "metadata": {
    "slideshow": {
     "slide_type": "slide"
    }
   },
   "source": [
    "### ![inline-img](img/examine.png) Bot is ready\n",
    "\n",
    "- This might take a few seconds. Once your bot is ready, you will be prompted to enter a message\n",
    "\n",
    "```\n",
    "python -m rasa_core.run -d models/current/dialogue -u models/current/nlu\n",
    "...\n",
    "\n",
    "Using TensorFlow backend.\n",
    "2018-07-05 17:52:10.752085: I tensorflow/core/platform/cpu_feature_guard.cc:140] Your CPU supports instructions that this TensorFlow binary was not compiled to use: AVX2 FMA\n",
    "Bot loaded. Type a message and press enter: \n",
    "```"
   ]
  },
  {
   "cell_type": "markdown",
   "metadata": {
    "slideshow": {
     "slide_type": "slide"
    }
   },
   "source": [
    "### ![inline-img](img/guided.png) Simple Bot\n",
    "\n",
    "Type something like this:\n",
    "```\n",
    "hi bot\n",
    "```\n",
    "Hit `ENTER`\n",
    "\n",
    "You should see a response in your console:\n",
    "```\n",
    "Hey, how can I help you?\n",
    "```"
   ]
  },
  {
   "cell_type": "markdown",
   "metadata": {
    "slideshow": {
     "slide_type": "slide"
    }
   },
   "source": [
    "### ![inline-img](img/guided.png) Simple Bot\n",
    "If you type \n",
    "```\n",
    "thanks\n",
    "```\n",
    "\n",
    "You should see a bot respond with \n",
    "```\n",
    "You're welcome!\n",
    "```"
   ]
  },
  {
   "cell_type": "markdown",
   "metadata": {
    "slideshow": {
     "slide_type": "slide"
    }
   },
   "source": [
    "### ![inline-img](img/guided.png) Simple Bot\n",
    "If you say \n",
    "```\n",
    "bye bot\n",
    "```\n",
    "\n",
    "It should reply with \n",
    "```\n",
    "Goodbye\n",
    "```"
   ]
  },
  {
   "cell_type": "markdown",
   "metadata": {
    "slideshow": {
     "slide_type": "slide"
    }
   },
   "source": [
    "### ![inline-img](img/guided.png) Simple Bot\n",
    "To interrupt the currently running process with your bot, use the following key combination\n",
    "```\n",
    "Ctrl + C\n",
    "```\n",
    "\n",
    "It should exit you out of it!"
   ]
  },
  {
   "cell_type": "markdown",
   "metadata": {
    "slideshow": {
     "slide_type": "slide"
    }
   },
   "source": [
    "## Module review\n",
    "\n",
    "| Objectives|Complete|  \n",
    "| --- | --- |\n",
    "| Install `starter-pack` and explore its key components | **YES** |\n",
    "| Train and test `starter-pack` bot | **YES** |  \n",
    "| Visualize stories as a graph with graphviz | |  \n",
    "| Customize, retrain, test and visualize `starter-pack` bot | |"
   ]
  },
  {
   "cell_type": "markdown",
   "metadata": {
    "slideshow": {
     "slide_type": "slide"
    }
   },
   "source": [
    "## Visualizing stories\n",
    "\n",
    "- While we have viewed the chatbot stories in their `.md` format, we can also visualize stories as a graph\n",
    "- We are going to use `graphviz` to visualize our stories\n",
    "- We have already installed the software on the VM for you\n",
    "- To replicate in the future, use the following code:\n",
    "\n",
    "```\n",
    "sudo apt-get install graphviz\n",
    "dot -V\n",
    "alias graphviz='dot'\n",
    "sudo apt-get install python-dev libgraphviz-dev pkg-config\n",
    "pip install pygraphviz\n",
    "```"
   ]
  },
  {
   "cell_type": "markdown",
   "metadata": {
    "slideshow": {
     "slide_type": "slide"
    }
   },
   "source": [
    "### ![inline-img](img/guided.png) Visualize\n",
    "\n",
    "- Run Rasa visualization function and create a graph using the `stories.md` and `domain.yml` files\n",
    "\n",
    "```\n",
    "python -m rasa_core.visualize -d domain.yml -s data/stories.md -o graph.png\n",
    "```"
   ]
  },
  {
   "cell_type": "markdown",
   "metadata": {
    "slideshow": {
     "slide_type": "slide"
    }
   },
   "source": [
    "## ![inline-img](img/examine.png) Story visualization for starter-pack bot\n",
    "\n",
    "![max-height-500](img/starter-pack-graph.png)"
   ]
  },
  {
   "cell_type": "markdown",
   "metadata": {
    "slideshow": {
     "slide_type": "slide"
    }
   },
   "source": [
    "## Module review\n",
    "\n",
    "| Objectives|Complete|  \n",
    "| --- | --- |\n",
    "| Install `starter-pack` and explore its key components | **YES** |\n",
    "| Train and test `starter-pack` bot | **YES** |  \n",
    "| Visualize stories as a graph with graphviz | **YES** |  \n",
    "| Customize, retrain, test and visualize `starter-pack` bot | |"
   ]
  },
  {
   "cell_type": "markdown",
   "metadata": {
    "slideshow": {
     "slide_type": "slide"
    }
   },
   "source": [
    "## Enhancing Core components: domain\n",
    "\n",
    "- Let's add a new utterance to **`templates`** **`utter_ask`** with 3 possible phrases that a bot can randomly pick:\n",
    "    - \"Is there anything else I can help you with?\"\n",
    "    - \"Anything else?\"\n",
    "    - \"What else can I help you with?\"\n",
    "- Since we have added a **`template`** with a new utterance, we need to add that utterance to **`actions`**. This means that instead of 3 standard  **`actions`**, we will now have 4, including:\n",
    "    - **`utter_ask`**\n"
   ]
  },
  {
   "cell_type": "markdown",
   "metadata": {
    "slideshow": {
     "slide_type": "slide"
    }
   },
   "source": [
    "## ![inline-img](img/guided.png) Enhancing domain file\n",
    "\n",
    "![centered-max-height-500](img/starter-pack-customized-domain.png)"
   ]
  },
  {
   "cell_type": "markdown",
   "metadata": {
    "slideshow": {
     "slide_type": "slide"
    }
   },
   "source": [
    "## ![inline-img](img/guided.png) Enhancing Core components: stories\n",
    "\n",
    "- Since we added new **`templates`** and **`actions`** to our `domain`, we need to update the `stories.md` file in the `data` directory\n",
    "- Let's add 2 new stories called **`thank-1`** and **`thank-2`** to the `data/stories.md`. The updated file should look like this:\n",
    "\n",
    "![centered-max-height-300](img/starter-pack-customized-stories.png)\n"
   ]
  },
  {
   "cell_type": "markdown",
   "metadata": {
    "slideshow": {
     "slide_type": "slide"
    }
   },
   "source": [
    "## Enhancing NLU components: training data\n",
    "\n",
    "- Since we have given our bot another **`action`**, it will now ask the user if the user needs anything else\n",
    "- We better be prepared to either get a negative or positive answer\n",
    "- Our domain already has appropriate **`intents`**:\n",
    "    - **`deny`**, and\n",
    "    - **`affirm`**\n",
    "- Our NLU training data contains only expressions for **`intent:deny`**, we need to add some phrases for **`intent:affirm`** so that we can retrain our model"
   ]
  },
  {
   "cell_type": "markdown",
   "metadata": {
    "slideshow": {
     "slide_type": "slide"
    }
   },
   "source": [
    "## ![inline-img](img/guided.png) Enhancing NLU training data\n",
    "\n",
    "![centered-max-height-500](img/starter-pack-customized-nlu-data.png)\n"
   ]
  },
  {
   "cell_type": "markdown",
   "metadata": {
    "slideshow": {
     "slide_type": "slide"
    }
   },
   "source": [
    "## ![inline-img](img/guided.png) Retrain your bot\n",
    "\n",
    "Let's retrain the NLU\n",
    "```\n",
    "make train-nlu\n",
    "```\n",
    "\n",
    "Let's retrain the Core dialogue\n",
    "```\n",
    "make train-core\n",
    "```\n",
    "\n",
    "Let's run the bot again\n",
    "```\n",
    "make cmdline\n",
    "```"
   ]
  },
  {
   "cell_type": "markdown",
   "metadata": {
    "slideshow": {
     "slide_type": "slide"
    }
   },
   "source": [
    "## ![inline-image](img/examine.png) Final output: affirm scenario\n",
    "\n",
    "- Our bot is not very smart yet, but it still performed what we asked it to, given the very limited data\n",
    "- This snapshot shows the conversation with the bot according to `thank-1` scenario from updated `stories.md`, when the user **affirms** after the bot asks\n",
    "\n",
    "![centered](img/affirm-scenario.png)"
   ]
  },
  {
   "cell_type": "markdown",
   "metadata": {
    "slideshow": {
     "slide_type": "slide"
    }
   },
   "source": [
    "## ![inline-image](img/examine.png) Final output: deny scenario\n",
    "\n",
    "- Our bot is not very smart yet, but it still performed what we asked it to given the very limited data\n",
    "- This snapshot shows the conversation with the bot according to `thank-2` scenario from updated `stories.md`, when the user **denies** after the bot asks\n",
    "\n",
    "![centered](img/deny-scenario.png)"
   ]
  },
  {
   "cell_type": "markdown",
   "metadata": {
    "slideshow": {
     "slide_type": "slide"
    }
   },
   "source": [
    "### ![inline-img](img/guided.png) Create a new story graph to visualize the updates\n",
    "\n",
    "```\n",
    "python -m rasa_core.visualize -d domain.yml -s data/stories.md -o graph-v2.png\n",
    "```"
   ]
  },
  {
   "cell_type": "markdown",
   "metadata": {
    "slideshow": {
     "slide_type": "slide"
    }
   },
   "source": [
    "## ![inline-img](img/examine.png) Visualization **after** customization\n",
    "\n",
    "![centered-max-height-500](img/starter-pack-graph2.png)"
   ]
  },
  {
   "cell_type": "markdown",
   "metadata": {},
   "source": [
    "## ![inline-img](img/exercise-code.png) Exercise 2: **train, test & visualize your bot**"
   ]
  },
  {
   "cell_type": "markdown",
   "metadata": {
    "slideshow": {
     "slide_type": "slide"
    }
   },
   "source": [
    "## Module review\n",
    "\n",
    "| Objectives|Complete|  \n",
    "| --- | --- |\n",
    "| Install `starter-pack` and explore its key components | **YES** |\n",
    "| Train and test `starter-pack` bot | **YES** |  \n",
    "| Visualize stories as a graph with graphviz | **YES** |  \n",
    "| Customize, retrain, test and visualize `starter-pack` bot | **YES** |"
   ]
  },
  {
   "cell_type": "markdown",
   "metadata": {
    "slideshow": {
     "slide_type": "slide"
    }
   },
   "source": [
    "# Congratulations on finishing Day 1!\n",
    "\n",
    "![centered-max-height-500](img/finished.png)"
   ]
  }
 ],
 "metadata": {
  "kernelspec": {
   "display_name": "Python 3",
   "language": "python",
   "name": "python3"
  },
  "language_info": {
   "codemirror_mode": {
    "name": "ipython",
    "version": 3
   },
   "file_extension": ".py",
   "mimetype": "text/x-python",
   "name": "python",
   "nbconvert_exporter": "python",
   "pygments_lexer": "ipython3",
   "version": "3.6.5"
  }
 },
 "nbformat": 4,
 "nbformat_minor": 2
}
