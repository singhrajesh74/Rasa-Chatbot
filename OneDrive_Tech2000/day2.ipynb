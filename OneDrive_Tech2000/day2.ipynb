{
 "cells": [
  {
   "cell_type": "markdown",
   "metadata": {
    "slideshow": {
     "slide_type": "slide"
    }
   },
   "source": [
    "# Day 2\n",
    "\n",
    "- **Lesson 1:** _Rasa UI_ students will build & enhance two simple bots using Rasa UI\n",
    "- **Lesson 2:** _Build a Custom `drugbot`_ students will follow the lifecycle steps for creating a custom bot in the pharmaceutical domain"
   ]
  },
  {
   "cell_type": "markdown",
   "metadata": {
    "slideshow": {
     "slide_type": "slide"
    }
   },
   "source": [
    "## Lesson 1: _Rasa UI_\n",
    "### Students will build & enhance two simple bots using Rasa UI\n",
    "#### Students will be able to:\n",
    "\n",
    "| Objective | Complete |\n",
    "| --------- | -------- |\n",
    "| Summarize and explore the capabilities and functionalities of Rasa UI |  |\n",
    "| Demonstrate the use of Rasa NLU, Rasa Core & Rasa UI as HTTP servers |  |\n",
    "| Use Rasa UI to create a simple bot |  |\n",
    "| Use Rasa UI to train and test the Rasa NLU model |  |\n",
    "| Practice replicating `moodbot` with the Rasa UI framework |  |"
   ]
  },
  {
   "cell_type": "markdown",
   "metadata": {
    "slideshow": {
     "slide_type": "slide"
    }
   },
   "source": [
    "## Rasa UI is a user interface for developers\n",
    "\n",
    "- It facilitates server-based management of the Rasa components\n",
    "\n",
    "![centered](img/rasa-system-three-parts.png)"
   ]
  },
  {
   "cell_type": "markdown",
   "metadata": {
    "slideshow": {
     "slide_type": "slide"
    }
   },
   "source": [
    "## Rasa UI: sample view\n",
    "\n",
    "![centered-max-height-500](img/rasaui-github1.png)"
   ]
  },
  {
   "cell_type": "markdown",
   "metadata": {
    "slideshow": {
     "slide_type": "slide"
    }
   },
   "source": [
    "## Rasa UI: web app designed on top of and for Rasa NLU to\n",
    "- Develop\n",
    "- Edit\n",
    "- Train\n",
    "- Test\n",
    "- Monitor, and \n",
    "- Maintain bots\n",
    "\n",
    "**Source code and instructions**: https://github.com/paschmann/rasa-ui<br/>\n",
    "**Rasa UI contributers**: Paul Aschmann & Pradeep Mamillapalli"
   ]
  },
  {
   "cell_type": "markdown",
   "metadata": {
    "slideshow": {
     "slide_type": "slide"
    }
   },
   "source": [
    "## Rasa UI: features\n",
    "- Integration of training data stored in a Postgres database\n",
    "- Easy to use UI for managing training data, initiating training jobs, intent parsing using different available models\n",
    "- Easy to review Rasa NLU configuration and component pipelines\n",
    "- Convenient for housekeeping of log requests to track usage, history, and improvements\n",
    "- An overview of usage and statistics with dashboard and insights"
   ]
  },
  {
   "cell_type": "markdown",
   "metadata": {
    "slideshow": {
     "slide_type": "slide"
    }
   },
   "source": [
    "## Rasa UI: sample view\n",
    "\n",
    "![centered-max-height-500](img/rasaui-github2.png)"
   ]
  },
  {
   "cell_type": "markdown",
   "metadata": {
    "slideshow": {
     "slide_type": "slide"
    }
   },
   "source": [
    "## Rasa UI: installation\n",
    "\n",
    "- We have already installed the necessary components of Rasa UI on the VM\n",
    "- We will still review the process for future use \n",
    "- You can also find information about installation and configuration on the application's [Wiki GitHub](https://github.com/paschmann/rasa-ui/wiki) page"
   ]
  },
  {
   "cell_type": "markdown",
   "metadata": {
    "slideshow": {
     "slide_type": "slide"
    }
   },
   "source": [
    "## Rasa UI: prerequisites \n",
    "\n",
    "- Rasa NLU\n",
    "- PostgreSQL\n",
    "- Node.js and npm\n",
    "- Rasa Core (optional, only if enabled in Rasa UI and/or used in your bot's architecture)\n",
    "- PgAdmin4 (optional, only if you intend to manage your database through a user-friendly interface)\n",
    "- Docker (optional, only if used to install and configure Rasa UI and other bot components through it)"
   ]
  },
  {
   "cell_type": "markdown",
   "metadata": {
    "slideshow": {
     "slide_type": "slide"
    }
   },
   "source": [
    "## Module completion checklist\n",
    "\n",
    "| Objective | Complete |\n",
    "| --------- | -------- |\n",
    "| Summarize and explore the capabilities and functionalities of Rasa UI | **YES** |\n",
    "| Demonstrate the use of Rasa NLU, Rasa Core & Rasa UI as HTTP servers |  |\n",
    "| Use Rasa UI to create a simple bot |  |\n",
    "| Use Rasa UI to train and test the Rasa NLU model |  |\n",
    "| Practice replicating `moodbot` with the Rasa UI framework |  |"
   ]
  },
  {
   "cell_type": "markdown",
   "metadata": {
    "slideshow": {
     "slide_type": "slide"
    }
   },
   "source": [
    "## Rasa NLU: using as HTTP server\n",
    "\n",
    "- Rasa NLU can be used as a classic HTTP server\n",
    "- You can find more information and documentation on https://nlu.rasa.com/http.html\n",
    "\n",
    "![centered-max-height-500](img/rasa-nlu-as-server.png)"
   ]
  },
  {
   "cell_type": "markdown",
   "metadata": {
    "slideshow": {
     "slide_type": "slide"
    }
   },
   "source": [
    "## ![inline-img](img/guided.png) Rasa NLU: start HTTP server\n",
    "\n",
    "In your terminal, navigate to a folder `rasamodels` inside of your `chatbot` directory\n",
    "\n",
    "```\n",
    "cd ~/Desktop/chatbot/rasamodels\n",
    "```\n",
    "\n",
    "Check the contents of the folder\n",
    "\n",
    "```\n",
    "ls -al\n",
    "```\n",
    "\n",
    "You should have the following in it\n",
    "\n",
    "```\n",
    "total 20                                                                           \n",
    "drwxr-xr-x 4 user user 4096 Jul 19 14:33 .                                       \n",
    "drwxr-xr-x 4 user user 4096 Jul 19 14:33 ..                                      \n",
    "drwxr-xr-x 2 user user 4096 Jul 17 12:04 data                                    \n",
    "drwxr-xr-x 4 user user 4096 Jul 17 12:08 models                                  \n",
    "-rw-r--r-- 1 user user  121 Jul 17 10:06 nlu_config.yml \n",
    "```"
   ]
  },
  {
   "cell_type": "markdown",
   "metadata": {
    "slideshow": {
     "slide_type": "slide"
    }
   },
   "source": [
    "## ![inline-img](img/guided.png)Rasa NLU: start HTTP server\n",
    "\n",
    "To start your server, execute the following command\n",
    "\n",
    "```\n",
    "python -m rasa_nlu.server -c nlu_config.yml --path models/nlu\n",
    "```\n",
    "\n",
    "- Where `-c` parameter points to the NLU configuration file `nlu_config.yml`, that is located in `rasamodels` directory, and\n",
    "- `--path` parameter points to the directory `models/nlu` where our NLU models are saved and/or will be saved after we re-train our models through Rasa UI"
   ]
  },
  {
   "cell_type": "markdown",
   "metadata": {
    "slideshow": {
     "slide_type": "slide"
    }
   },
   "source": [
    "## ![inline-img](img/guided.png)Rasa NLU: start HTTP server\n",
    "\n",
    "If your server was successfully started, then you should see the following if you paste `http://localhost:5000` into your browser\n",
    "\n",
    "![centered](img/rasa-nlu-hello.png)\n",
    "\n",
    "A message like this should also appear in your console where the server is currently running\n",
    "\n",
    "```\n",
    "2018-07-19 15:15:54-0400 [-] \"127.0.0.1\" - - [19/Jul/2018:19:15:54 +0000] \n",
    "\"GET /favicon.ico HTTP/1.1\" 404 233 \"http://localhost:5000/\" \n",
    "\"Mozilla/5.0 (X11; Linux x86_64) \n",
    "AppleWebKit/537.36 (KHTML, like Gecko) \n",
    "Chrome/67.0.3396.99 Safari/537.36\" \n",
    "```"
   ]
  },
  {
   "cell_type": "markdown",
   "metadata": {
    "slideshow": {
     "slide_type": "slide"
    }
   },
   "source": [
    "## Rasa Core: using as HTTP server\n",
    "\n",
    "- Rasa Core can also be used as a classic HTTP server\n",
    "- You can find more information and documentation on https://core.rasa.com/http.html\n",
    "\n",
    "![centered-max-height-500](img/rasa-core-server.png)"
   ]
  },
  {
   "cell_type": "markdown",
   "metadata": {
    "slideshow": {
     "slide_type": "slide"
    }
   },
   "source": [
    "## ![inline-img](img/guided.png) Rasa Core: start HTTP server\n",
    "\n",
    "Open a new terminal and navigate to the folder `rasamodels` inside of your `chatbot` directory\n",
    "\n",
    "```\n",
    "cd ~/Desktop/chatbot/rasamodels\n",
    "```\n",
    "\n",
    "From your `chatbot/rasamodels` directory execute the following command to start your server\n",
    "\n",
    "```\n",
    "python -m rasa_core.server -d models/dialogue/test -o rasa-core.log\n",
    "```\n",
    "\n",
    "- Where the `-d` parameter points to the directory is where a trained dialogue model lives \n",
    "- `-o` parameter points to the file where the server is going to save the log of requests (optional)"
   ]
  },
  {
   "cell_type": "markdown",
   "metadata": {
    "slideshow": {
     "slide_type": "slide"
    }
   },
   "source": [
    "## ![inline-img](img/guided.png)Rasa Core: start HTTP server\n",
    "\n",
    "If your server was successfully started, then you should see the following if you paste `http://localhost:5005` into your browser\n",
    "\n",
    "![centered](img/rasa-core-hello.png)\n",
    "\n",
    "A message like this should also appear in your console where the server is currently running\n",
    "\n",
    "```\n",
    "127.0.0.1 - - [2018-07-19 15:55:28] \"GET / HTTP/1.1\" 200 143 0.001693\n",
    "127.0.0.1 - - [2018-07-19 15:55:28] \"GET /favicon.ico HTTP/1.1\" 404 374 0.010400\n",
    "```"
   ]
  },
  {
   "cell_type": "markdown",
   "metadata": {
    "slideshow": {
     "slide_type": "slide"
    }
   },
   "source": [
    "## ![inline-img](img/guided.png)Rasa UI: start application\n",
    "\n",
    "Open a new terminal and navigate to the folder `rasaui` inside of your `home` directory\n",
    "\n",
    "```\n",
    "cd ~/rasa-ui\n",
    "```\n",
    "\n",
    "From your `rasa-ui` directory, execute the following command to start Rasa UI\n",
    "\n",
    "```\n",
    "npm start\n",
    "```"
   ]
  },
  {
   "cell_type": "markdown",
   "metadata": {
    "slideshow": {
     "slide_type": "slide"
    }
   },
   "source": [
    "## ![inline-img](img/examine.png)Rasa UI: start application\n",
    "\n",
    "Your console should populate with a similar output if your connection was successful.\n",
    "\n",
    "```\n",
    "> RasaUI@0.2.0 start /home/[user]/rasa-ui\n",
    "> node server/server.js\n",
    "\n",
    "Rasa UI Server: http://localhost:5001\n",
    "\n",
    "Express server listening on port 5001\n",
    "\n",
    "Rasa NLU Connected\n",
    "Using connection string from: package.json\n",
    "Rasa NLU Server: http://localhost:5000\n",
    "\n",
    "Rasa Core Connected\n",
    "Using connection string from: package.json\n",
    "Rasa Core Server: http://localhost:5005\n",
    "\n",
    "Postgres DB Connected\n",
    "Using connection string from: package.json\n",
    "Postgres Server: 127.0.0.1:5432\n",
    "Database:rasaui\n",
    "Schema:public\n",
    "```"
   ]
  },
  {
   "cell_type": "markdown",
   "metadata": {
    "slideshow": {
     "slide_type": "slide"
    }
   },
   "source": [
    "## ![inline-img](img/examine.png)Rasa UI: start application\n",
    "\n",
    "Notice that we have 4 servers running simultaneously:\n",
    "\n",
    "1. `Rasa UI Server: http://localhost:5001`\n",
    "2. `Rasa NLU Server: http://localhost:5000`\n",
    "3. `Rasa Core Server: http://localhost:5005`\n",
    "4. `Postgres Server: 127.0.0.1:5432`\n",
    "\n",
    "All of these servers run on your local machine, therefore the URLs that you see either include `localhost` or `127.0.0.1`. "
   ]
  },
  {
   "cell_type": "markdown",
   "metadata": {
    "slideshow": {
     "slide_type": "slide"
    }
   },
   "source": [
    "## Rasa UI: start application\n",
    "\n",
    "- If you were to run remote server(s), you would replace the URLs with the IP address or domain name of your remote server(s) \n",
    "- If you are using alternative ports, also replace those in `rasa-ui/package.json` file (lines 40-48) that define the configuration of the servers:\n",
    "\n",
    "```\n",
    "\"config\": {\n",
    "  \"rasanluendpoint\": \"http://NLU_server_domain:NLU_server_port\",\n",
    "  \"rasacoreendpoint\": \"http://CORE_server_domain:CORE_server_port\",\n",
    "  \"coresecuritytoken\": \"\",\n",
    "  \"nlusecuritytoken\": \"\",\n",
    "  \"cacheagents\": false,\n",
    "  \"jwtsecret\": \"your_JWT_secret\",\n",
    "  \"postgresserver\": \"postgres://DB_username:DB_password@DB_server_domain:DB_server_port/DB_name\"\n",
    "}\n",
    "```"
   ]
  },
  {
   "cell_type": "markdown",
   "metadata": {
    "slideshow": {
     "slide_type": "slide"
    }
   },
   "source": [
    "## Rasa UI: login\n",
    "\n",
    "You should now be able to see the `login` screen when you paste `http://localhost:5001` into your browser\n",
    "\n",
    "![centered-max-height-500](img/rasaui-login.png)"
   ]
  },
  {
   "cell_type": "markdown",
   "metadata": {
    "slideshow": {
     "slide_type": "slide"
    }
   },
   "source": [
    "## Module completion checklist\n",
    "\n",
    "| Objective | Complete |\n",
    "| --------- | -------- |\n",
    "| Summarize and explore the capabilities and functionalities of Rasa UI | **YES** |\n",
    "| Demonstrate the use of Rasa NLU, Rasa Core & Rasa UI as HTTP servers | **YES** |\n",
    "| Use Rasa UI to create a simple bot |  |\n",
    "| Use Rasa UI to train and test the Rasa NLU model |  |\n",
    "| Practice replicating `moodbot` with the Rasa UI framework |  |"
   ]
  },
  {
   "cell_type": "markdown",
   "metadata": {
    "slideshow": {
     "slide_type": "slide"
    }
   },
   "source": [
    "## ![inline-img](img/guided.png)Rasa UI: login\n",
    "\n",
    "Your `login` name is `admin` and your `password` is also `admin`, type it in and click **Submit**!\n",
    "\n",
    "![centered-max-height-500](img/rasaui-login2.png)"
   ]
  },
  {
   "cell_type": "markdown",
   "metadata": {
    "slideshow": {
     "slide_type": "slide"
    }
   },
   "source": [
    "## ![inline-img](img/examine.png)Rasa UI: dashboard\n",
    "\n",
    "If you are greeted with a view of your Rasa UI **Dashboard**, you have successfully set up Rasa UI. Congratulations!\n",
    "\n",
    "![centered-max-height-500](img/rasaui-login-dashboard.png)"
   ]
  },
  {
   "cell_type": "markdown",
   "metadata": {
    "slideshow": {
     "slide_type": "slide"
    }
   },
   "source": [
    "## Rasa UI: Agents\n",
    "\n",
    "- An **agent** is your bot\n",
    "- You can either **Add Agent** like we do with `test`, or\n",
    "- **Import Agent** from a pre-populated Rasa NLU training data in `json` format\n",
    "\n",
    "![centered-max-height-500](img/rasaui-agents.png)"
   ]
  },
  {
   "cell_type": "markdown",
   "metadata": {
    "slideshow": {
     "slide_type": "slide"
    }
   },
   "source": [
    "## Rasa UI: populate an agent with data\n",
    "\n",
    "If you click on the name of the agent (e.g. click on `test`), you will see 4 tabs for editing:\n",
    "1. **Intents**\n",
    "2. **Entities**\n",
    "3. **Actions**\n",
    "4. **Stories**"
   ]
  },
  {
   "cell_type": "markdown",
   "metadata": {
    "slideshow": {
     "slide_type": "slide"
    }
   },
   "source": [
    "## Rasa UI: populate an agent with data\n",
    "\n",
    "![centered-max-height-500](img/rasaui-agent-test.png)"
   ]
  },
  {
   "cell_type": "markdown",
   "metadata": {
    "slideshow": {
     "slide_type": "slide"
    }
   },
   "source": [
    "## ![inline-img](img/guided.png)Rasa UI: add intent\n",
    "\n",
    "To add an **intent**, you simply need to click the **Add Intent** button in **Intents** tab\n",
    "\n",
    "![centered-max-height-500](img/rasaui-agent-test-add-intent.png)"
   ]
  },
  {
   "cell_type": "markdown",
   "metadata": {
    "slideshow": {
     "slide_type": "slide"
    }
   },
   "source": [
    "## ![inline-img](img/guided.png)Rasa UI: add intent\n",
    "\n",
    "Type in the name of the **intent** and click the **Save** button\n",
    "\n",
    "![centered-max-height-500](img/rasaui-agent-test-thank.png)"
   ]
  },
  {
   "cell_type": "markdown",
   "metadata": {
    "slideshow": {
     "slide_type": "slide"
    }
   },
   "source": [
    "## Rasa UI: intent details\n",
    "\n",
    "- Your intent is now created, but it has no expressions associated with it\n",
    "- Let's populate it with expressions, after all, this is what the NLU engine will use to train our model!\n",
    "\n",
    "![centered-max-height-500](img/rasaui-agent-test-thank-details.png)"
   ]
  },
  {
   "cell_type": "markdown",
   "metadata": {
    "slideshow": {
     "slide_type": "slide"
    }
   },
   "source": [
    "## ![inline-img](img/guided.png)Rasa UI: intent details\n",
    "\n",
    "- Just type an expression that a user might say to express the intent (e.g. **thank**) in **User Says** box and hit `Enter` \n",
    "- Your expression will appear at the bottom of the page. You can add as many as you want, the bigger the pool of different expressions, the better model!\n",
    "\n",
    "![centered-max-height-500](img/rasaui-agent-test-thank-expressions.png)"
   ]
  },
  {
   "cell_type": "markdown",
   "metadata": {
    "slideshow": {
     "slide_type": "slide"
    }
   },
   "source": [
    "## Rasa UI: add action\n",
    "\n",
    "If you would like to add a new **action**, you can click the **Add Action** button in the **Actions** tab\n",
    "\n",
    "![centered-max-height-500](img/rasaui-agent-test-add-action.png)"
   ]
  },
  {
   "cell_type": "markdown",
   "metadata": {
    "slideshow": {
     "slide_type": "slide"
    }
   },
   "source": [
    "## ![inline-img](img/guided.png)Rasa UI: add action\n",
    "\n",
    "Select action type **utter_** or **utter_webhook** and add the name for your desired **action** (e.g. **utter_welcome**)\n",
    "\n",
    "![centered-max-height-500](img/rasaui-agent-test-action-welcome.png)"
   ]
  },
  {
   "cell_type": "markdown",
   "metadata": {
    "slideshow": {
     "slide_type": "slide"
    }
   },
   "source": [
    "## ![inline-img](img/guided.png)Rasa UI: adding action templates\n",
    "\n",
    "Your **templates** are what your bot uses to respond to user **intents**, add a few sample responses and the bot will randomly pick either of them!\n",
    "\n",
    "![centered-max-height-500](img/rasaui-agent-test-welcome-templates.png)"
   ]
  },
  {
   "cell_type": "markdown",
   "metadata": {
    "slideshow": {
     "slide_type": "slide"
    }
   },
   "source": [
    "## ![inline-img](img/guided.png)Rasa UI: edit stories\n",
    "\n",
    "In the the **Stories** tab of your agent details editor, click on the **Stories Editor** button.\n",
    "\n",
    "![centered-max-height-500](img/rasaui-agent-test-edit-stories.png)"
   ]
  },
  {
   "cell_type": "markdown",
   "metadata": {
    "slideshow": {
     "slide_type": "slide"
    }
   },
   "source": [
    "## ![inline-img](img/guided.png)Rasa UI: edit stories\n",
    "\n",
    "You will see a text editor, where you can write stories in `Markdown` format just like you would in your regular text editor outside of Rasa UI. Once you are done, you can save the stories.\n",
    "\n",
    "![centered-max-height-500](img/rasaui-agent-test-stories-editor.png)"
   ]
  },
  {
   "cell_type": "markdown",
   "metadata": {
    "slideshow": {
     "slide_type": "notes"
    }
   },
   "source": [
    "NOTE: do not use tab. Use four spaces."
   ]
  },
  {
   "cell_type": "markdown",
   "metadata": {
    "slideshow": {
     "slide_type": "slide"
    }
   },
   "source": [
    "## ![inline-img](img/guided.png)Rasa UI: enable Rasa Core integration\n",
    "\n",
    "If you want to integrate your bot with Rasa Core and test it within Rasa UI, you need to enable Rasa Core for the appropriate **agent**\n",
    "\n",
    "![centered-max-height-500](img/rasaui-edit-agent.png)"
   ]
  },
  {
   "cell_type": "markdown",
   "metadata": {
    "slideshow": {
     "slide_type": "slide"
    }
   },
   "source": [
    "## ![inline-img](img/examine.png)Rasa UI: enable Rasa Core integration\n",
    "\n",
    "You will see the toggle buttons for Rasa Core Enablement and Service Fullfillment \n",
    "\n",
    "![centered-max-height-500](img/rasaui-edit-agent-buttons.png)"
   ]
  },
  {
   "cell_type": "markdown",
   "metadata": {
    "slideshow": {
     "slide_type": "slide"
    }
   },
   "source": [
    "## ![inline-img](img/guided.png)Rasa UI: enable Rasa Core integration\n",
    "\n",
    "Toggle the Rasa Core Enablement button to on and click **Save**\n",
    "\n",
    "![centered-max-height-500](img/rasaui-edit-agent-buttons-enable.png)"
   ]
  },
  {
   "cell_type": "markdown",
   "metadata": {
    "slideshow": {
     "slide_type": "slide"
    }
   },
   "source": [
    "## Module completion checklist\n",
    "\n",
    "| Objective | Complete |\n",
    "| --------- | -------- |\n",
    "| Summarize and explore the capabilities and functionalities of Rasa UI | **YES** |\n",
    "| Demonstrate the use of Rasa NLU, Rasa Core & Rasa UI as HTTP servers | **YES** |\n",
    "| Use Rasa UI to create a simple bot | **YES** |\n",
    "| Use Rasa UI to train and test the Rasa NLU model |  |\n",
    "| Practice replicating `moodbot` with the Rasa UI framework |  |"
   ]
  },
  {
   "cell_type": "markdown",
   "metadata": {
    "slideshow": {
     "slide_type": "slide"
    }
   },
   "source": [
    "## ![inline-img](img/guided.png)Rasa UI: train NLU model\n",
    "\n",
    "To train your NLU model through Rasa UI, go to **Training** tab on the sidebar menu:\n",
    "\n",
    "![centered-max-height-500](img/training-tab.png)"
   ]
  },
  {
   "cell_type": "markdown",
   "metadata": {
    "slideshow": {
     "slide_type": "slide"
    }
   },
   "source": [
    "## ![inline-img](img/guided.png)Rasa UI: select Agent\n",
    "\n",
    "From the **Agent** dropdown menu, select the agent that you would like to train\n",
    "\n",
    "![centered-max-height-500](img/rasaui-training1.png)"
   ]
  },
  {
   "cell_type": "markdown",
   "metadata": {
    "slideshow": {
     "slide_type": "slide"
    }
   },
   "source": [
    "## ![inline-img](img/examine.png)Rasa UI: inspect the files\n",
    "\n",
    "- You should see both your NLU data (on the left), and\n",
    "- Your Core files (on the right) available for detailed inspection\n",
    "\n",
    "![centered-max-height-500](img/rasaui-training2.png)"
   ]
  },
  {
   "cell_type": "markdown",
   "metadata": {
    "slideshow": {
     "slide_type": "slide"
    }
   },
   "source": [
    "## ![inline-img](img/examine.png)Rasa UI: start training\n",
    "\n",
    "- If you are satisfied with what you see, click the **Start Training** button\n",
    "- Once done, you should have a message dialogue appear at the top that the training was successful\n",
    "\n",
    "![centered-max-height-500](img/rasaui-agent-test-retrain.png)"
   ]
  },
  {
   "cell_type": "markdown",
   "metadata": {
    "slideshow": {
     "slide_type": "slide"
    }
   },
   "source": [
    "## ![inline-img](img/guided.png)Rasa UI: test your model\n",
    "\n",
    "- Go back to **Agents** tab\n",
    "- You should see a dropdown with available models on the right hand side\n",
    "- Select the desired model and type a message \n",
    "- The parsed output should appear below\n",
    "\n",
    "![centered-max-height-500](img/rasaui-parse.png)"
   ]
  },
  {
   "cell_type": "markdown",
   "metadata": {
    "slideshow": {
     "slide_type": "slide"
    }
   },
   "source": [
    "## ![inline-img](img/examine.png)Rasa UI: response object\n",
    "\n",
    "The parsed response contains both the information about \n",
    "\n",
    "1. The **request** (i.e. the text that was entered, user information), and \n",
    "2. The **response** (i.e. the object with parsed intent, next action and response text produced by the bot) \n",
    "\n",
    "Since the actions of the bot are predicted using some kind of classification algorithm, there are multiple objects, arranged in descending order of _confidence_ level.\n",
    "\n"
   ]
  },
  {
   "cell_type": "markdown",
   "metadata": {
    "slideshow": {
     "slide_type": "slide"
    }
   },
   "source": [
    "## ![inline-img](img/examine.png)Rasa UI: Conversations\n",
    "\n",
    "- To view the recorded parse requests in the form of conversations in a messenger-like window, you can go to **Conversations** tab\n",
    "- In the **Agent** dropdown, just choose the agent for which you would like to view the conversations (the default view will be for the first agent in the dropdown)\n",
    "\n",
    "![centered-max-height-500](img/rasaui-conversations.png)"
   ]
  },
  {
   "cell_type": "markdown",
   "metadata": {
    "slideshow": {
     "slide_type": "slide"
    }
   },
   "source": [
    "## ![inline-img](img/examine.png)Rasa UI: Insights\n",
    "\n",
    "- A very convenient way to view usage statistics is presented in the **Insights** tab\n",
    "\n",
    "![centered-max-height-500](img/rasaui-insights.png)"
   ]
  },
  {
   "cell_type": "markdown",
   "metadata": {
    "slideshow": {
     "slide_type": "slide"
    }
   },
   "source": [
    "## Rasa UI: Configuration\n",
    "\n",
    "- When we started the NLU server with `nlu_config.yml`, we uploaded our desired NLU configuration to the UI as well\n",
    "- You can view your loaded NLU configuration if you click on **Configuration** tab\n",
    "\n",
    "![centered-max-height-500](img/rasaui-config1.png)"
   ]
  },
  {
   "cell_type": "markdown",
   "metadata": {
    "slideshow": {
     "slide_type": "slide"
    }
   },
   "source": [
    "## ![inline-img](img/examine.png)Rasa UI: Configuration\n",
    "\n",
    "- At the bottom of the configuration explorer, you have an actual parsed YAML file\n",
    "\n",
    "![centered-max-height-500](img/rasaui-config2.png)"
   ]
  },
  {
   "cell_type": "markdown",
   "metadata": {
    "slideshow": {
     "slide_type": "slide"
    }
   },
   "source": [
    "## ![inline-img](img/examine.png)Rasa UI: Where are the models stored?\n",
    "\n",
    "- The files for the models you have trained for a given agent will be stored in `./models/nlu/name_of_agent` directory\n",
    "- The `./` represents the directory, out of which you have started your NLU server\n",
    "- Since our NLU server start was initiated from the following directory:\n",
    "\n",
    "```\n",
    "~/Desktop/chatbot/rasamodels\n",
    "```\n",
    "\n",
    "- The full path to our models for agent `test` will look like this\n",
    "\n",
    "```\n",
    "~/Desktop/chatbot/rasamodels/models/nlu/name_of_agent\n",
    "```\n",
    "\n",
    "![centered-max-height-500](img/rasaui-test-models.png)"
   ]
  },
  {
   "cell_type": "markdown",
   "metadata": {
    "slideshow": {
     "slide_type": "slide"
    }
   },
   "source": [
    "## Module completion checklist\n",
    "\n",
    "| Objective | Complete |\n",
    "| --------- | -------- |\n",
    "| Summarize and explore the capabilities and functionalities of Rasa UI | **YES** |\n",
    "| Demonstrate the use of Rasa NLU, Rasa Core & Rasa UI as HTTP servers | **YES** |\n",
    "| Use Rasa UI to create a simple bot | **YES** |\n",
    "| Use Rasa UI to train and test the Rasa NLU model | **YES** |\n",
    "| Practice replicating `moodbot` with the Rasa UI framework |  |"
   ]
  },
  {
   "cell_type": "markdown",
   "metadata": {
    "slideshow": {
     "slide_type": "slide"
    }
   },
   "source": [
    "## Moodbot\n",
    "\n",
    "- You have already seen `moodbot` doing exercises\n",
    "- It is a simple bot that asks about the user's mood and cheers up the user \n",
    "- It is one of the bots offered through Rasa tutorial materials\n",
    "\n",
    "![centered-max-height-500](img/moodbot.png)"
   ]
  },
  {
   "cell_type": "markdown",
   "metadata": {
    "slideshow": {
     "slide_type": "slide"
    }
   },
   "source": [
    "## ![inline-img](img/guided.png) Moodbot agent\n",
    "\n",
    "- We have already added it to your Rasa UI database, inspect it and then **delete** agent `moodbot` for now\n",
    "- We will **replicate** this bot through Rasa UI again and test it "
   ]
  },
  {
   "cell_type": "markdown",
   "metadata": {
    "slideshow": {
     "slide_type": "slide"
    }
   },
   "source": [
    "## ![inline-img](img/guided.png) Creating moodbot agent from scratch\n",
    "\n",
    "- Let's start by creating the **Agent**, we will call it `moodbot`\n",
    "- We can enable the Rasa Core, but we really don't have to for our intents and purposes\n",
    "\n",
    "![centered-max-height-500](img/moodbot-agent.png)"
   ]
  },
  {
   "cell_type": "markdown",
   "metadata": {
    "slideshow": {
     "slide_type": "slide"
    }
   },
   "source": [
    "## ![inline-img](img/examine.png)Moodbot: intents\n",
    "\n",
    "- There are 6 intents in `domain.yaml`\n",
    "\n",
    "![centered-max-height-500](img/moodbot-domain.png)"
   ]
  },
  {
   "cell_type": "markdown",
   "metadata": {
    "slideshow": {
     "slide_type": "slide"
    }
   },
   "source": [
    "## ![inline-img](img/guided.png)Moodbot: intents\n",
    "\n",
    "- Let's add them to our agent\n",
    "\n",
    "![centered-max-height-500](img/moodbot-intents.png)"
   ]
  },
  {
   "cell_type": "markdown",
   "metadata": {
    "slideshow": {
     "slide_type": "slide"
    }
   },
   "source": [
    "## ![inline-img](img/examine.png)Moodbot: NLU training data\n",
    "\n",
    "- Moodbot's training data is stored in `moodbot/data/nlu.md` file\n",
    "\n",
    "![centered-max-height-500](img/moodbot-nlu-data.png)"
   ]
  },
  {
   "cell_type": "markdown",
   "metadata": {
    "slideshow": {
     "slide_type": "slide"
    }
   },
   "source": [
    "## ![inline-img](img/guided.png)Moodbot: NLU training data\n",
    "\n",
    "- Each of the intents in UI needs to have sample expressions that the user might say\n",
    "- Let's add them to our intents\n",
    "\n",
    "![centered](img/moodbot-sample-intent.png)"
   ]
  },
  {
   "cell_type": "markdown",
   "metadata": {
    "slideshow": {
     "slide_type": "slide"
    }
   },
   "source": [
    "## Moodbot: actions\n",
    "\n",
    "- Since the bot needs to respond to user's messages, we need to now add the actions to our bot that were also defined in `domain.yml`\n",
    "\n",
    "![centered-max-height-500](img/moodbot-actions.png)"
   ]
  },
  {
   "cell_type": "markdown",
   "metadata": {
    "slideshow": {
     "slide_type": "slide"
    }
   },
   "source": [
    "## ![inline-img](img/examine.png)Moodbot: action templates\n",
    "\n",
    "- We now need to add templates to each of the actions - we had a few in our domain file\n",
    "\n",
    "![centered-max-height-500](img/moodbot-domain-templates.png)"
   ]
  },
  {
   "cell_type": "markdown",
   "metadata": {
    "slideshow": {
     "slide_type": "slide"
    }
   },
   "source": [
    "## ![inline-img](img/guided.png)Moodbot: action templates\n",
    "\n",
    "- The simple templates with just expressions are no different than those that we have added to `test` agent\n",
    "- Other actions have either buttons or an image URL"
   ]
  },
  {
   "cell_type": "markdown",
   "metadata": {
    "slideshow": {
     "slide_type": "slide"
    }
   },
   "source": [
    "## ![inline-img](img/guided.png)Moodbot: action templates with buttons\n",
    "\n",
    "- To add buttons, simply use the **Buttons** field in the action details window\n",
    "- They are added in the format `title:payload`, so in our case, `great:great` and `super sad:super sad`\n",
    "- Each time you want add a button, just hit **Enter** and add another one\n",
    "\n",
    "![centered-max-height-500](img/moodbot-action-with-buttons.png)"
   ]
  },
  {
   "cell_type": "markdown",
   "metadata": {
    "slideshow": {
     "slide_type": "slide"
    }
   },
   "source": [
    "## ![inline-img](img/guided.png)Moodbot: action templates with images\n",
    "\n",
    "- To add a URL of an image, you would like to display as a part of bot's response, simply use the **Image URL** field in the action details window\n",
    "\n",
    "![centered-max-height-500](img/moodbot-action-with-image.png)"
   ]
  },
  {
   "cell_type": "markdown",
   "metadata": {
    "slideshow": {
     "slide_type": "slide"
    }
   },
   "source": [
    "## ![inline-img](img/examine.png)Moodbot: stories\n",
    "\n",
    "- The stories for the Mood Bot are in `moodbot/data/stories.md`\n",
    "- There are 4 stories currently there\n",
    "\n",
    "![centered-max-height-500](img/moodbot-stories-file.png)"
   ]
  },
  {
   "cell_type": "markdown",
   "metadata": {
    "slideshow": {
     "slide_type": "slide"
    }
   },
   "source": [
    "## ![inline-img](img/guided.png)Moodbot: stories\n",
    "\n",
    "- Let's add them to the stories editor in UI\n",
    "\n",
    "![centered-max-height-500](img/moodbot-stories-editor.png)"
   ]
  },
  {
   "cell_type": "markdown",
   "metadata": {
    "slideshow": {
     "slide_type": "slide"
    }
   },
   "source": [
    "## ![inline-img](img/examine.png)Moodbot: stories\n",
    "\n",
    "- Once added, they should appear in your **Stories** tab\n",
    "\n",
    "![centered-max-height-500](img/moodbot-stories.png)"
   ]
  },
  {
   "cell_type": "markdown",
   "metadata": {
    "slideshow": {
     "slide_type": "slide"
    }
   },
   "source": [
    "## ![inline-img](img/guided.png)Moodbot: train NLU\n",
    "\n",
    "- When we start NLU server, we can keep our old configuration file or swap it for any other configuration you would like\n",
    "- We have pre-saved a configuration file in `~/Desktop/chatbot/rasamodels` and named it `moodbot_config.yml`\n",
    "- Start your NLU server with the following command: \n",
    "\n",
    "```\n",
    "python -m rasa_nlu.server -c moodbot_config.yml --path models/nlu\n",
    "```"
   ]
  },
  {
   "cell_type": "markdown",
   "metadata": {
    "slideshow": {
     "slide_type": "slide"
    }
   },
   "source": [
    "## ![inline-img](img/guided.png)Moodbot: train Core (optional)\n",
    "\n",
    "- If you would also like to start Rasa Core server, you would need to provide a pre-trained model\n",
    "- We have saved the core model for `moodbot` in `models/dialogue/moodbot` and our domain and stories in `data/moodbot_domain.yml` and `data/moodbot_stories.md` inside of our `rasamodels` directory\n",
    "- To train the core model, run this line in your console\n",
    "\n",
    "```\n",
    "python -m rasa_core.train -d data/moodbot_domain.yml -s data/moodbot_stories.md -o models/dialogue/moodbot --epochs 200\n",
    "```\n",
    "\n",
    "- To start Rasa Core server, run this command in your console\n",
    "\n",
    "```\n",
    "python -m rasa_core.server -d models/dialogue/moodbot -o rasa-core.log\n",
    "```"
   ]
  },
  {
   "cell_type": "markdown",
   "metadata": {
    "slideshow": {
     "slide_type": "slide"
    }
   },
   "source": [
    "## ![inline-img](img/examine.png)Moodbot: trained model\n",
    "\n",
    "- When training is complete, you should see the model appear at the bottom of your screen in a table\n",
    "\n",
    "![centered-max-height-500](img/moodbot-trained-model.png)"
   ]
  },
  {
   "cell_type": "markdown",
   "metadata": {
    "slideshow": {
     "slide_type": "slide"
    }
   },
   "source": [
    "## ![inline-img](img/guided.png) Moodbot: test\n",
    "\n",
    "- Once you are ready to test, go to your **Agents** tab and select the appropriate model from the dropdown on the right hand side of the screen\n",
    "\n",
    "![centered-max-height-500](img/moodbot-parse.png)"
   ]
  },
  {
   "cell_type": "markdown",
   "metadata": {
    "slideshow": {
     "slide_type": "slide"
    }
   },
   "source": [
    "## ![inline-img](img/examine.png)Moodbot: conversations\n",
    "\n",
    "- Your conversations should now appear in the **Conversations** tab, once you select the **moodbot** agent\n",
    "\n",
    "![centered-max-height-500](img/moodbot-conversations.png)"
   ]
  },
  {
   "cell_type": "markdown",
   "metadata": {},
   "source": [
    "## ![inline-img](img/exercise-code.png) Exercise 1: **implement case study chatbots using Rasa UI**"
   ]
  },
  {
   "cell_type": "markdown",
   "metadata": {
    "slideshow": {
     "slide_type": "slide"
    }
   },
   "source": [
    "## Module completion checklist\n",
    "\n",
    "| Objective | Complete |\n",
    "| --------- | -------- |\n",
    "| Summarize and explore the capabilities and functionalities of Rasa UI | **YES** |\n",
    "| Demonstrate the use of Rasa NLU, Rasa Core & Rasa UI as HTTP servers | **YES** |\n",
    "| Use Rasa UI to create a simple bot | **YES** |\n",
    "| Use Rasa UI to train and test the Rasa NLU model | **YES** |\n",
    "| Practice replicating `moodbot` with the Rasa UI framework | **YES** |"
   ]
  },
  {
   "cell_type": "markdown",
   "metadata": {
    "slideshow": {
     "slide_type": "slide"
    }
   },
   "source": [
    "# Lesson 2: _build a custom drugbot_ \n",
    "## Students will follow the lifecycle steps for creating a custom bot in the pharmaceutical domain\n",
    "\n",
    "#### Students will be able to:\n",
    "\n",
    "| Objectives | Complete |\n",
    "| ---------- | -------- |\n",
    "| Discuss the data, its format, and features that will power the bot |  |\n",
    "| Define bot requirements, specifications and conversational script |  |\n",
    "| Scope out `drugbot`'s architecture and its components |  |\n",
    "| Explain the process of transforming of the tabular data from RxNorm to `data/nlu_data.json` file |  |\n",
    "| Explain the contents of `bot_domain.yml` file |  |\n",
    "| Explain the contents of `bot.py` file |  |\n",
    "| Train NLU, Core and visualize initial bot stories |  |\n",
    "| Interactively train dialogue of `drugbot`, re-train and test the bot |  |"
   ]
  },
  {
   "cell_type": "markdown",
   "metadata": {
    "slideshow": {
     "slide_type": "slide"
    }
   },
   "source": [
    "## Purpose of RxNorm\n",
    "- Hospitals, pharmacies, and other organizations use computer systems to record and process drug information\n",
    "- Because these systems use many different sets of drug names, it can be difficult for one system to communicate with another \n",
    "- To address this challenge, RxNorm provides normalized names and unique identifiers for medicines and drugs\n",
    "- The goal of RxNorm is to allow computer systems to communicate drug-related information efficiently and unambiguously\n",
    "\n",
    "Source : https://www.nlm.nih.gov/research/umls/rxnorm/overview.html"
   ]
  },
  {
   "cell_type": "markdown",
   "metadata": {
    "slideshow": {
     "slide_type": "slide"
    }
   },
   "source": [
    "## Where to find RxNorm Data\n",
    "\n",
    "- Dataset can be found on Google Cloud BigQuery platform\n",
    "  https://cloud.google.com/bigquery/public-data/rxnorm  \n",
    "- Dataset is also hosted on Kaggle https://www.kaggle.com/nlm-nih/nlm-rxnorm \n",
    "- Since the size of the dataset is fairly large (14 GB) and distributed over 100+ tables, it is recommended to query the data online and use the results for research/development purposes"
   ]
  },
  {
   "cell_type": "markdown",
   "metadata": {
    "slideshow": {
     "slide_type": "slide"
    }
   },
   "source": [
    "## RxNorm Dataset on Google Cloud Platform\n",
    "\n",
    "![centered-max-height-500](img/bigquery_rxnorm.png)"
   ]
  },
  {
   "cell_type": "markdown",
   "metadata": {
    "slideshow": {
     "slide_type": "slide"
    }
   },
   "source": [
    "## BigQuery console for RxNorm\n",
    "\n",
    "![centered-max-height-500](img/bigquery_console.png)"
   ]
  },
  {
   "cell_type": "markdown",
   "metadata": {
    "slideshow": {
     "slide_type": "slide"
    }
   },
   "source": [
    "## The dataset description\n",
    "\n",
    "![centered-max-height-500](img/RxNorm_dataset_content.png)"
   ]
  },
  {
   "cell_type": "markdown",
   "metadata": {
    "slideshow": {
     "slide_type": "slide"
    }
   },
   "source": [
    "## Extract relevant data from the BigQuery\n",
    "\n",
    "![centered-max-height-500](img/SQLbigQuery.png)"
   ]
  },
  {
   "cell_type": "markdown",
   "metadata": {
    "slideshow": {
     "slide_type": "slide"
    }
   },
   "source": [
    "## Cloud BigQuery platform accepts standard SQL syntax \n",
    "  \n",
    "  Source : https://cloud.google.com/bigquery/public-data/rxnorm \n",
    "  \n",
    "![centered-max-height-500](img/empty_console.png)  "
   ]
  },
  {
   "cell_type": "markdown",
   "metadata": {
    "slideshow": {
     "slide_type": "slide"
    }
   },
   "source": [
    "## Write a final SQL query and download the results in csv format\n",
    "\n",
    "- **Note:** Google Cloud only allows to download up to 16,000 rows of data in csv format\n",
    "\n",
    "![centered-max-height-500](img/bigquery_console.png)"
   ]
  },
  {
   "cell_type": "markdown",
   "metadata": {
    "slideshow": {
     "slide_type": "slide"
    }
   },
   "source": [
    "## Purpose of drugbot using RxNorm data\n",
    "\n",
    "- Automate manual querying process\n",
    "- Help doctors and pharmacists get quick drug information pertaining to dosage form, brand, ingredients of the drug, their suppressibility and prescribability"
   ]
  },
  {
   "cell_type": "markdown",
   "metadata": {
    "slideshow": {
     "slide_type": "slide"
    }
   },
   "source": [
    "## RxNorm data for the drugbot\n",
    "\n",
    "We have queried the dataset and extracted \n",
    "\n",
    "1. `cvf` \n",
    "2. `suppress`\n",
    "3. `source_rxcui`\n",
    "4. `target_tty`\n",
    "5. `target_name`\n",
    "\n",
    "Ingredients, Brand Name and Dose Form are categories of the variable `target_tty` (Term Type) where as `target_name` stores the value of the variable `term_type`.\n",
    "\n",
    "\n",
    "source: [ https://www.nlm.nih.gov/research/umls/rxnorm/docs/2018/appendix5.html ]\n"
   ]
  },
  {
   "cell_type": "markdown",
   "metadata": {
    "slideshow": {
     "slide_type": "slide"
    }
   },
   "source": [
    "## Data transformation performed\n",
    "\n",
    "We transformed the data so that there is a separate column for brand, dose form and ingredient and removed the column `source_rxcui` (id for drugs).\n",
    "\n",
    "1. Brand - brand Name of the drug\n",
    "2. Dose Form - prescribed dose form for the drug \n",
    "   https://www.nlm.nih.gov/research/umls/rxnorm/docs/2015/appendix2.html\n",
    "3. Ingredient - active ingredient used in the drug\n",
    "4. Suppress - suppress flag with possible values Not Suppressible, Suppressed by RxNorm editors and Obsolete\n",
    "5. Prescribable - whether drug is prescribable in the United States. Named as CVF (Content View Flag) in the RxNorm Dataset \n",
    "https://www.nlm.nih.gov/research/umls/rxnorm/docs/2012/rxnorm_doco_full_2012-1.html"
   ]
  },
  {
   "cell_type": "code",
   "execution_count": 1,
   "metadata": {
    "slideshow": {
     "slide_type": "slide"
    }
   },
   "outputs": [
    {
     "data": {
      "text/html": [
       "<div>\n",
       "<style scoped>\n",
       "    .dataframe tbody tr th:only-of-type {\n",
       "        vertical-align: middle;\n",
       "    }\n",
       "\n",
       "    .dataframe tbody tr th {\n",
       "        vertical-align: top;\n",
       "    }\n",
       "\n",
       "    .dataframe thead th {\n",
       "        text-align: right;\n",
       "    }\n",
       "</style>\n",
       "<table border=\"1\" class=\"dataframe\">\n",
       "  <thead>\n",
       "    <tr style=\"text-align: right;\">\n",
       "      <th></th>\n",
       "      <th>brand</th>\n",
       "      <th>dose_form</th>\n",
       "      <th>ingredient</th>\n",
       "      <th>suppress</th>\n",
       "      <th>prescribable</th>\n",
       "    </tr>\n",
       "  </thead>\n",
       "  <tbody>\n",
       "    <tr>\n",
       "      <th>0</th>\n",
       "      <td>Aminosyn 10%, Sulfite-Free</td>\n",
       "      <td>Topical Cream</td>\n",
       "      <td>Arginine</td>\n",
       "      <td>Not suppressible</td>\n",
       "      <td>Not prescribable</td>\n",
       "    </tr>\n",
       "    <tr>\n",
       "      <th>1</th>\n",
       "      <td>Aminosyn 10%, Sulfite-Free</td>\n",
       "      <td>Oral Capsule</td>\n",
       "      <td>Arginine</td>\n",
       "      <td>Not suppressible</td>\n",
       "      <td>Not prescribable in the US</td>\n",
       "    </tr>\n",
       "    <tr>\n",
       "      <th>2</th>\n",
       "      <td>Aminosyn 10%, Sulfite-Free</td>\n",
       "      <td>Injectable Solution</td>\n",
       "      <td>Arginine</td>\n",
       "      <td>Not suppressible</td>\n",
       "      <td>Prescribable in the US</td>\n",
       "    </tr>\n",
       "    <tr>\n",
       "      <th>3</th>\n",
       "      <td>Aminosyn 10%, Sulfite-Free</td>\n",
       "      <td>Extended Release Oral Tablet</td>\n",
       "      <td>Arginine</td>\n",
       "      <td>Not suppressible</td>\n",
       "      <td>Not prescribable in the US</td>\n",
       "    </tr>\n",
       "    <tr>\n",
       "      <th>4</th>\n",
       "      <td>Aminosyn 10%, Sulfite-Free</td>\n",
       "      <td>Oral Tablet</td>\n",
       "      <td>Arginine</td>\n",
       "      <td>Not suppressible</td>\n",
       "      <td>Not prescribable in the US</td>\n",
       "    </tr>\n",
       "    <tr>\n",
       "      <th>5</th>\n",
       "      <td>Trophamine 6 %</td>\n",
       "      <td>Topical Cream</td>\n",
       "      <td>Arginine</td>\n",
       "      <td>Not suppressible</td>\n",
       "      <td>Prescribable in the US</td>\n",
       "    </tr>\n",
       "    <tr>\n",
       "      <th>6</th>\n",
       "      <td>Trophamine 6 %</td>\n",
       "      <td>Oral Capsule</td>\n",
       "      <td>Arginine</td>\n",
       "      <td>Not suppressible</td>\n",
       "      <td>Not prescribable in the US</td>\n",
       "    </tr>\n",
       "    <tr>\n",
       "      <th>7</th>\n",
       "      <td>Trophamine 6 %</td>\n",
       "      <td>Injectable Solution</td>\n",
       "      <td>Arginine</td>\n",
       "      <td>Not suppressible</td>\n",
       "      <td>Prescribable in the US</td>\n",
       "    </tr>\n",
       "    <tr>\n",
       "      <th>8</th>\n",
       "      <td>Trophamine 6 %</td>\n",
       "      <td>Extended Release Oral Tablet</td>\n",
       "      <td>Arginine</td>\n",
       "      <td>Not suppressible</td>\n",
       "      <td>Not prescribable in the US</td>\n",
       "    </tr>\n",
       "    <tr>\n",
       "      <th>9</th>\n",
       "      <td>Trophamine 6 %</td>\n",
       "      <td>Oral Tablet</td>\n",
       "      <td>Arginine</td>\n",
       "      <td>Not suppressible</td>\n",
       "      <td>Not prescribable in the US</td>\n",
       "    </tr>\n",
       "  </tbody>\n",
       "</table>\n",
       "</div>"
      ],
      "text/plain": [
       "                        brand                     dose_form ingredient  \\\n",
       "0  Aminosyn 10%, Sulfite-Free                 Topical Cream   Arginine   \n",
       "1  Aminosyn 10%, Sulfite-Free                  Oral Capsule   Arginine   \n",
       "2  Aminosyn 10%, Sulfite-Free           Injectable Solution   Arginine   \n",
       "3  Aminosyn 10%, Sulfite-Free  Extended Release Oral Tablet   Arginine   \n",
       "4  Aminosyn 10%, Sulfite-Free                   Oral Tablet   Arginine   \n",
       "5              Trophamine 6 %                 Topical Cream   Arginine   \n",
       "6              Trophamine 6 %                  Oral Capsule   Arginine   \n",
       "7              Trophamine 6 %           Injectable Solution   Arginine   \n",
       "8              Trophamine 6 %  Extended Release Oral Tablet   Arginine   \n",
       "9              Trophamine 6 %                   Oral Tablet   Arginine   \n",
       "\n",
       "           suppress                prescribable  \n",
       "0  Not suppressible            Not prescribable  \n",
       "1  Not suppressible  Not prescribable in the US  \n",
       "2  Not suppressible      Prescribable in the US  \n",
       "3  Not suppressible  Not prescribable in the US  \n",
       "4  Not suppressible  Not prescribable in the US  \n",
       "5  Not suppressible      Prescribable in the US  \n",
       "6  Not suppressible  Not prescribable in the US  \n",
       "7  Not suppressible      Prescribable in the US  \n",
       "8  Not suppressible  Not prescribable in the US  \n",
       "9  Not suppressible  Not prescribable in the US  "
      ]
     },
     "execution_count": 1,
     "metadata": {},
     "output_type": "execute_result"
    }
   ],
   "source": [
    "import pandas as pd\n",
    "drug = pd.read_csv('drugbot/data/drug_data.csv')\n",
    "drug.head(10)"
   ]
  },
  {
   "cell_type": "markdown",
   "metadata": {
    "slideshow": {
     "slide_type": "notes"
    }
   },
   "source": [
    "The final csv file for the drugbot would look like this."
   ]
  },
  {
   "cell_type": "markdown",
   "metadata": {
    "slideshow": {
     "slide_type": "slide"
    }
   },
   "source": [
    "## Module completion checklist\n",
    "\n",
    "| Objectives | Complete |\n",
    "| ---------- | -------- |\n",
    "| Discuss the data, its format, and features that will power the bot | **YES**  |\n",
    "| Define bot requirements, specifications and conversational script |  |\n",
    "| Scope out `drugbot`'s architecture and its components |  |\n",
    "| Explain the process of transforming of the tabular data from RxNorm to `data/nlu_data.json` file |  |\n",
    "| Explain the contents of `bot_domain.yml` file |  |\n",
    "| Explain the contents of `bot.py` file |  |\n",
    "| Train NLU, Core and visualize initial bot stories |  |\n",
    "| Interactively train dialogue of `drugbot`, re-train and test the bot |  |"
   ]
  },
  {
   "cell_type": "markdown",
   "metadata": {
    "slideshow": {
     "slide_type": "slide"
    }
   },
   "source": [
    "## ![inline-img](img/architecture.png) Drugbot architecture\n",
    "\n",
    "As any other Rasa-based chatbot, `drugbot` architecture is comprised of \n",
    "\n",
    "- **NLU**:\n",
    "    - `drugbot/data/nlu_data.json` \n",
    "\n",
    "- **Core**:\n",
    "    - **Stories:** `drugbot/data/stories.md`\n",
    "    - **Domain file:** `drugbot/bot_domain.yml`\n",
    "    - **Bot policy file:** `drugbot/policy.py` contains a `BotPolicy` class definition, which is a modification of Rasa's standard Keras Policy that uses an LSTM model  "
   ]
  },
  {
   "cell_type": "markdown",
   "metadata": {
    "slideshow": {
     "slide_type": "slide"
    }
   },
   "source": [
    "## ![inline-img](img/architecture.png) Drugbot architecture\n",
    "**Configuration files:** \n",
    "- `drugbot/nlu_model_config.yml`: the NLU pipeline being used for the drugbot\n",
    "- `drugbot/config_spacy.json`: `spacy` settings used as a part of the NLU pipeline\n",
    "\n",
    "**Python script:** \n",
    "- `drugbot/bot.py`: contains custom actions, API, `train-nlu` and `train-dialogue` functions"
   ]
  },
  {
   "cell_type": "markdown",
   "metadata": {
    "slideshow": {
     "slide_type": "slide"
    }
   },
   "source": [
    "## ![inline-img](img/examine.png) Helper files\n",
    "\n",
    "- `drugbot/train_online.py`: Python script used for interactive learning\n",
    "- `drugbot/visualize.py`: Python script used for visualizing the stories of the `drugbot`\n",
    "- `drugbot/data/Drugbot_Data_transform.ipynb`: Python notebook used for transforming the downloaded sample of tabular RxNorm data into a Rasa-friendly NLU training data in JSON format\n"
   ]
  },
  {
   "cell_type": "markdown",
   "metadata": {
    "slideshow": {
     "slide_type": "slide"
    }
   },
   "source": [
    "## Drugbot architecture overview\n",
    "\n",
    "![centered](img/drugbot-architecture-chart.png)"
   ]
  },
  {
   "cell_type": "markdown",
   "metadata": {
    "slideshow": {
     "slide_type": "slide"
    }
   },
   "source": [
    "## Interactive learning \n",
    "\n",
    "- With just handful of stories, we will bootstrap and create full-blown robust conversations using Rasa Core\n",
    "- You can always go ahead and add intents, template responses, custom actions and change the course of bot's conversational ability"
   ]
  },
  {
   "cell_type": "markdown",
   "metadata": {
    "slideshow": {
     "slide_type": "slide"
    }
   },
   "source": [
    "## Conversational flow\n",
    "\n",
    "1. The user greets the bot\n",
    "2. The bot greets back and asks how it can help\n",
    "3. The user can inquire about\n",
    "    1. Active ingredients contained in a brand he/she provides\n",
    "    2. Brand names that contain an active ingredient that the user provides\n",
    "4. After that, the user can\n",
    "    1. Ask for more information\n",
    "        1. The bot will then ask what the user would like to know\n",
    "        2. The user will again either ask about brands or active ingredients, looping the conversation back to item `3` in the flow ...\n",
    "    2. Thank the bot\n",
    "5. The bot will say welcome\n",
    "6. The user will say bye\n",
    "7. The bot will also say goodbye"
   ]
  },
  {
   "cell_type": "markdown",
   "metadata": {
    "slideshow": {
     "slide_type": "slide"
    }
   },
   "source": [
    "## Module completion checklist\n",
    "\n",
    "| Objectives | Complete |\n",
    "| ---------- | -------- |\n",
    "| Discuss the data, its format, and features that will power the bot | **YES**  |\n",
    "| Define bot requirements, specifications and conversational script | **YES**  |\n",
    "| Scope out `drugbot`'s architecture and its components |  |\n",
    "| Explain the process of transforming of the tabular data from RxNorm to `data/nlu_data.json` file |  |\n",
    "| Explain the contents of `bot_domain.yml` file |  |\n",
    "| Explain the contents of `bot.py` file |  |\n",
    "| Train NLU, Core and visualize initial bot stories |  |\n",
    "| Interactively train dialogue of `drugbot`, re-train and test the bot |  |"
   ]
  },
  {
   "cell_type": "markdown",
   "metadata": {
    "slideshow": {
     "slide_type": "slide"
    }
   },
   "source": [
    "## ![inline-img](img/examine.png) Make an entity for each column\n",
    "\n",
    "For the sake of simplicity and leaving scope for improving the quality of `drugbot`, we have used two entities\n",
    "\n",
    "- Brand\n",
    "- Ingredient\n",
    "\n",
    "from `drugbot/bot_domain.yml`\n",
    "\n",
    "![centered](img/drugbot_entities.png)"
   ]
  },
  {
   "cell_type": "markdown",
   "metadata": {
    "slideshow": {
     "slide_type": "slide"
    }
   },
   "source": [
    "## ![inline-img](img/examine.png) What can user do?\n",
    "\n",
    "User can either find the brand name of a drug using a specific active ingredient or find the active ingredient used by a specific brand. Thus we will have two intents:\n",
    "\n",
    "- `search_ingredients_by_brand`\n",
    "- `search_brands_by_ingredient`\n",
    "\n",
    "from `drugbot/bot_domain.yml`\n",
    "\n",
    "![centered](img/drugbot_intents.png)"
   ]
  },
  {
   "cell_type": "markdown",
   "metadata": {
    "slideshow": {
     "slide_type": "slide"
    }
   },
   "source": [
    "## Module completion checklist\n",
    "\n",
    "| Objectives | Complete |\n",
    "| ---------- | -------- |\n",
    "| Discuss the data, its format, and features that will power the bot | **YES**  |\n",
    "| Define bot requirements, specifications and conversational script | **YES**  |\n",
    "| Scope out `drugbot`'s architecture and its components | **YES** |\n",
    "| Explain the process of transforming of the tabular data from RxNorm to `data/nlu_data.json` file |  |\n",
    "| Explain the contents of `bot_domain.yml` file |  |\n",
    "| Explain the contents of `bot.py` file |  |\n",
    "| Train NLU, Core and visualize initial bot stories |  |\n",
    "| Interactively train dialogue of `drugbot`, re-train and test the bot |  |"
   ]
  },
  {
   "cell_type": "markdown",
   "metadata": {
    "slideshow": {
     "slide_type": "slide"
    }
   },
   "source": [
    "## ![inline-img](img/examine.png)Understanding drugbot files\n",
    "\n",
    "The main `drugbot` directory will have two folders:\n",
    "\n",
    "```\n",
    "drugbot/data \n",
    "```\n",
    "\n",
    "```\n",
    "drugbot/models\n",
    "```\n",
    "\n",
    "`drugbot/data` folder will have all the data files for the `drugbot`, while `drugbot/model` folder will store the NLU and core models.\n"
   ]
  },
  {
   "cell_type": "markdown",
   "metadata": {
    "slideshow": {
     "slide_type": "slide"
    }
   },
   "source": [
    "## ![inline-img](img/examine.png)Data preparation\n",
    "\n",
    "This has been already done for you.<br/>\n",
    "Open data folder `drugbot/data` and find the `drug_data.csv`.<br/> \n",
    "We converted this data to the `JSON` format required for the training the NLU model. \n",
    "\n",
    "`Drugbot_Data_transform.ipynb` details the functions created to transform data from csv format to JSON script. "
   ]
  },
  {
   "cell_type": "markdown",
   "metadata": {
    "slideshow": {
     "slide_type": "slide"
    }
   },
   "source": [
    "## ![inline-img](img/examine.png) Examine Drugbot_Data_transform.ipynb\n",
    "- We have created a entity dictionary `ent_dict` with 2 keys:\n",
    "    - `brand`\n",
    "    - `ingredient`\n",
    "- We have also created text files with sample phrases a user might say for the two `entities`:\n",
    "    - `brand-search-phrases.txt`\n",
    "    - `ingredient-search-phrases.txt`\n",
    "- The above text files are read into the Python script and stored as `brand_phrases` and `ingredient_phrases` variables respectively\n",
    "- Using the custom function `create_ent_entry`, we identify the entity, its value and the position where it lies in the sentence\n",
    "- Then we create a function `create_syn_and_regex` with `ent_dict` as argument synonyms and regex features for each entity \n"
   ]
  },
  {
   "cell_type": "markdown",
   "metadata": {
    "slideshow": {
     "slide_type": "slide"
    }
   },
   "source": [
    "## ![inline-img](img/examine.png) Examine Drugbot_Data_transform.ipynb \n",
    "\n",
    "- We fill in the phrases we defined above with all possible combinations of the brand names and ingredient `entities` by using `fill_in_phrases` function\n",
    "- We append the data for each `entity` using `augment_train_data` function that writes/appends a json file with phrase examples, synonyms and regex\n",
    "- The final result of the data preparation step is the `data/nlu_data.json` file"
   ]
  },
  {
   "cell_type": "markdown",
   "metadata": {
    "slideshow": {
     "slide_type": "slide"
    }
   },
   "source": [
    "## ![inline-img](img/examine.png) The final NLU data is chatbot/drugbot/data/nlu_data.json\n",
    "\n",
    "We have a total of \n",
    "- 5,389 `regex_features`\n",
    "- 1,715 `entity_synonyms`\n",
    "- 2,069 `common_examples`\n",
    "\n",
    "![centered](img/drugbot_nlu_data.png)\n",
    "\n",
    "\n"
   ]
  },
  {
   "cell_type": "markdown",
   "metadata": {
    "slideshow": {
     "slide_type": "slide"
    }
   },
   "source": [
    "## ![inline-img](img/examine.png)Configuration file\n",
    "\n",
    "- The `drugbot/nlu_model_config.yml` configuration file defines the NLU pipeline used for classifying intents and detecting entities:\n",
    "\n",
    "\n",
    "![centered](img/drugbot_config.png)"
   ]
  },
  {
   "cell_type": "markdown",
   "metadata": {
    "slideshow": {
     "slide_type": "slide"
    }
   },
   "source": [
    "## Module completion checklist\n",
    "\n",
    "| Objectives | Complete |\n",
    "| ---------- | -------- |\n",
    "| Discuss the data, its format, and features that will power the bot | **YES**  |\n",
    "| Define bot requirements, specifications and conversational script | **YES**  |\n",
    "| Scope out `drugbot`'s architecture and its components | **YES** |\n",
    "| Explain the process of transforming of the tabular data from RxNorm to `data/nlu_data.json` file | **YES** |\n",
    "| Explain the contents of `bot_domain.yml` file |  |\n",
    "| Explain the contents of `bot.py` file |  |\n",
    "| Train NLU, Core and visualize initial bot stories |  |\n",
    "| Interactively train dialogue of `drugbot`, re-train and test the bot |  |"
   ]
  },
  {
   "cell_type": "markdown",
   "metadata": {
    "slideshow": {
     "slide_type": "slide"
    }
   },
   "source": [
    "## Domain file\n",
    "- Domain file is the universe in which your bot operates\n",
    "- We will define the slots, intents, entities, template responses, actions and custom actions \n"
   ]
  },
  {
   "cell_type": "markdown",
   "metadata": {
    "slideshow": {
     "slide_type": "slide"
    }
   },
   "source": [
    "## ![inline-img](img/examine.png)Slots\n",
    "\n",
    "We have 4 slots in `drugbot/bot_domain.yml`\n",
    "- `brand`: stores the brand name provided by the **user** as `text` type\n",
    "- `brands`: stores the brand names output by the `drugbot` in `list` type\n",
    "- `ingredient`: stores the ingredient provided by the **user** as `text` type\n",
    "- `ingredients`: stores the ingredients output by the `drugbot` in `list` type\n",
    "\n",
    "![centered](img/drugbot_slots.png)"
   ]
  },
  {
   "cell_type": "markdown",
   "metadata": {
    "slideshow": {
     "slide_type": "slide"
    }
   },
   "source": [
    "## ![inline-img](img/examine.png)Intents \n",
    "\n",
    "We have the following intents defined in `drugbot/bot_domain.yml`:\n",
    "\n",
    "![centered](img/drugbot_intents.png)"
   ]
  },
  {
   "cell_type": "markdown",
   "metadata": {
    "slideshow": {
     "slide_type": "slide"
    }
   },
   "source": [
    "## ![inline-img](img/examine.png)Entities\n",
    "\n",
    "- We have already determined that we will use 2 entities when we were preparing the data\n",
    "- The `drugbot/bot_domain.yml` file must list them as well\n",
    "\n",
    "![centered](img/drugbot_entities.png)"
   ]
  },
  {
   "cell_type": "markdown",
   "metadata": {
    "slideshow": {
     "slide_type": "slide"
    }
   },
   "source": [
    "## ![inline-img](img/examine.png) Actions\n",
    "\n",
    "We have a total of 8 `actions` in `drugbot/bot_domain.yml`:\n",
    "- 6 standard actions that start with `utter_*` pattern\n",
    "- 2 custom:\n",
    "    - `bot.ActionIngredientsByBrand`\n",
    "    - `bot.ActionBrandsByIngredient`\n",
    "\n",
    "![centered](img/drugbot_actions.png)"
   ]
  },
  {
   "cell_type": "markdown",
   "metadata": {
    "slideshow": {
     "slide_type": "slide"
    }
   },
   "source": [
    "## ![inline-img](img/examine.png) Standard actions: template responses\n",
    "\n",
    "- All pre-determined bot responses for standard `actions` must be listed in `drugbot/bot_domain.yml` under `templates`:\n",
    "\n",
    "![centered](img/drugbot_templates.png)\n",
    "\n",
    "\n"
   ]
  },
  {
   "cell_type": "markdown",
   "metadata": {},
   "source": [
    "## Module completion checklist\n",
    "\n",
    "| Objectives | Complete |\n",
    "| ---------- | -------- |\n",
    "| Discuss the data, its format, and features that will power the bot | **YES**  |\n",
    "| Define bot requirements, specifications and conversational script | **YES**  |\n",
    "| Scope out `drugbot`'s architecture and its components | **YES** |\n",
    "| Explain the process of transforming of the tabular data from RxNorm to `data/nlu_data.json` file | **YES** |\n",
    "| Explain the contents of `bot_domain.yml` file | **YES** |\n",
    "| Explain the contents of `bot.py` file |  |\n",
    "| Train NLU, Core and visualize initial bot stories |  |\n",
    "| Interactively train dialogue of `drugbot`, re-train and test the bot |  |"
   ]
  },
  {
   "cell_type": "markdown",
   "metadata": {
    "slideshow": {
     "slide_type": "slide"
    }
   },
   "source": [
    "## ![inline-img](img/examine.png)Python Script - drugbot/bot.py\n",
    "\n",
    "Our Python script `drugbot/bot.py` contains the following:\n",
    "\n",
    "- API definition \n",
    "- Custom action definitions\n",
    "- Train NLU convenience function\n",
    "- Train dialogue convenience function \n",
    "- Run bot convenience function"
   ]
  },
  {
   "cell_type": "markdown",
   "metadata": {
    "slideshow": {
     "slide_type": "slide"
    }
   },
   "source": [
    "## ![inline-img](img/examine.png) Libraries for the Python script in bot.py\n",
    "\n",
    "![centered-max-height-500](img/drugbot_import_libraries.png)"
   ]
  },
  {
   "cell_type": "markdown",
   "metadata": {
    "slideshow": {
     "slide_type": "notes"
    }
   },
   "source": [
    "`Action` module from `rasa_core.agent` will be used to create the custom action"
   ]
  },
  {
   "cell_type": "markdown",
   "metadata": {
    "slideshow": {
     "slide_type": "slide"
    }
   },
   "source": [
    "## Why do we need an API? \n",
    "\n",
    "- When building scalable chatbots, data that feeds the chatbot would live in databases or cloud\n",
    "- We will be required to make an API call to the database/cloud to query the data for the chatbot\n",
    "- In case of our sample `drugbot`, we have the data on local machine\n",
    "    - We will make a class for our API that reads in the data from `drugbot/data/drug_data.csv`\n",
    "- **Note:** This is where you would define your connection to a remote server/database to query/retrieve the data you need for your bot to operate\n"
   ]
  },
  {
   "cell_type": "markdown",
   "metadata": {
    "slideshow": {
     "slide_type": "slide"
    }
   },
   "source": [
    "## ![inline-img](img/examine.png) Class DrugAPI \n",
    "\n",
    "`DrugAPI` is a class that defines the way we perform the main three data-related functions based on user's message:\n",
    "- Retrieve our data\n",
    "- Search for brand\n",
    "- Search for ingredient \n",
    "\n",
    "![centered](img/drugbot_fake_api_func.png)"
   ]
  },
  {
   "cell_type": "markdown",
   "metadata": {
    "slideshow": {
     "slide_type": "slide"
    }
   },
   "source": [
    "## ![inline-img](img/examine.png) Custom action definitions\n",
    "\n",
    "- Next, we have two separate classes for \n",
    "    - `ActionBrandsByIngredient` that searches for brands given an active ingredient\n",
    "    - `ActionIngredientsByBrand` that searches for ingredients given a brand of the drug"
   ]
  },
  {
   "cell_type": "markdown",
   "metadata": {
    "slideshow": {
     "slide_type": "slide"
    }
   },
   "source": [
    "## ![inline-img](img/examine.png) Custom action class overview\n",
    "\n",
    "The `run` function is where all action happens, it takes 3 arguments:\n",
    "- `dispatcher`: a Rasa Core module responsible for dispatching a message to screen\n",
    "- `tracker`: a Rasa Core module responsible for keeping track of `slots`, where `entities` found in user's message are placed\n",
    "- `domain`: a Rasa Core module responsible for storing bot domain information\n",
    "\n",
    "![centered](img/drugbot_BrandsByIng.png)"
   ]
  },
  {
   "cell_type": "markdown",
   "metadata": {
    "slideshow": {
     "slide_type": "slide"
    }
   },
   "source": [
    "## ![inline-img](img/examine.png) Custom action class ActionBrandsByIngredient\n",
    "\n",
    "- Since we are given an ingredient, we retrieve it using the `\"ingredient\"` stored in `tracker`'s `slot` and search for it using our `DrugAPI` function `searchIngredient`\n",
    "    - If the ingredient is not found, we dispatch a **\"No results found\"** message to screen\n",
    "    - Otherwise, we fill the `\"brands\"` slot in the `tracker` with a list of found brand names that contain the drug\n",
    "\n",
    "![centered-max-height-300](img/drugbot_BrandsByIng.png)"
   ]
  },
  {
   "cell_type": "markdown",
   "metadata": {
    "slideshow": {
     "slide_type": "slide"
    }
   },
   "source": [
    "## ![inline-img](img/examine.png) Custom action class ActionIngredientsByBrand\n",
    "\n",
    "- Since we are given a brand, we retrieve it using the `\"brand\"` stored in `tracker`'s `slot` and search for it using our `DrugAPI` function `searchBrand`\n",
    "    - If the brand is not found, we dispatch a **\"No results found\"** message to screen\n",
    "    - Otherwise, we fill the `\"ingredients\"` slot in the `tracker` with a list of found ingredients for a given brand\n",
    "\n",
    "![centered](img/drugbot_IngByBrand.png)"
   ]
  },
  {
   "cell_type": "markdown",
   "metadata": {
    "slideshow": {
     "slide_type": "slide"
    }
   },
   "source": [
    "## ![inline-img](img/examine.png) Train NLU\n",
    "\n",
    "Moving ahead, you will find the `train_nlu` function, which trains the file `nlu_data.json` and saves the model in the defined model directory\n",
    "\n",
    "![centered](img/drugbot_train_nlu.png)\n"
   ]
  },
  {
   "cell_type": "markdown",
   "metadata": {
    "slideshow": {
     "slide_type": "slide"
    }
   },
   "source": [
    "## ![inline-img](img/examine.png) Bot policy\n",
    "\n",
    "Next, we train the Rasa Core dialogue system using the memoization and bot policy\n",
    "\n",
    "- `BotPolicy` is a modification of a Keras Policy and defined in the `drugbot/policy.py` script\n",
    "\n",
    "![centered](img/drugbot_train_dialogue.png)"
   ]
  },
  {
   "cell_type": "markdown",
   "metadata": {
    "slideshow": {
     "slide_type": "slide"
    }
   },
   "source": [
    "## ![inline-img](img/examine.png) Run bot in console\n",
    "\n",
    "Finally, we have the `run` function to start the `drugbot` on console\n",
    "\n",
    "![max-height-500](img/drugbot_train_run.png)"
   ]
  },
  {
   "cell_type": "markdown",
   "metadata": {
    "slideshow": {
     "slide_type": "slide"
    }
   },
   "source": [
    "## Module completion checklist\n",
    "\n",
    "| Objectives | Complete |\n",
    "| ---------- | -------- |\n",
    "| Discuss the data, its format, and features that will power the bot | **YES**  |\n",
    "| Define bot requirements, specifications and conversational script | **YES**  |\n",
    "| Scope out `drugbot`'s architecture and its components | **YES** |\n",
    "| Explain the process of transforming of the tabular data from RxNorm to `data/nlu_data.json` file | **YES** |\n",
    "| Explain the contents of `bot_domain.yml` file | **YES** |\n",
    "| Explain the contents of `bot.py` file | **YES** |\n",
    "| Train NLU, Core and visualize initial bot stories |  |\n",
    "| Interactively train dialogue of `drugbot`, re-train and test the bot |  |"
   ]
  },
  {
   "cell_type": "markdown",
   "metadata": {
    "slideshow": {
     "slide_type": "slide"
    }
   },
   "source": [
    "## Conversational script - drugbot/data/stories.md\n",
    "\n",
    "- As explained earlier, training example for the Rasa Core dialogue system is called a **story**\n",
    "- We start training the `drugbot` with few very basic stories added manually, then we can add more using interactive learning"
   ]
  },
  {
   "cell_type": "markdown",
   "metadata": {
    "slideshow": {
     "slide_type": "slide"
    }
   },
   "source": [
    "## ![inline-img](img/examine.png) Conversational script - drugbot/data/stories.md\n",
    "\n",
    "File location `drugbot/data/stories.md`\n",
    "\n",
    "![img](img/drugbot_stories.png)"
   ]
  },
  {
   "cell_type": "markdown",
   "metadata": {
    "slideshow": {
     "slide_type": "slide"
    }
   },
   "source": [
    "## Visualizing drugbot stories\n",
    "\n",
    "- Generate the initial stories graph\n",
    "\n",
    "```\n",
    "python visualize.py\n",
    "```\n",
    "\n",
    "![centered](img/drugbot_graph_before.png)"
   ]
  },
  {
   "cell_type": "markdown",
   "metadata": {
    "slideshow": {
     "slide_type": "slide"
    }
   },
   "source": [
    "## ![inline-img](img/guided.png) Looks like we have everything in control, time to start some training\n",
    "\n",
    "- Open your terminal and enter the following commands one by one:\n",
    "\n",
    "```\n",
    "cd drugbot\n",
    "python bot.py train-nlu\n",
    "python bot.py train-dialogue\n",
    "```"
   ]
  },
  {
   "cell_type": "markdown",
   "metadata": {
    "slideshow": {
     "slide_type": "slide"
    }
   },
   "source": [
    "## Module completion checklist\n",
    "\n",
    "| Objectives | Complete |\n",
    "| ---------- | -------- |\n",
    "| Discuss the data, its format, and features that will power the bot | **YES**  |\n",
    "| Define bot requirements, specifications and conversational script | **YES**  |\n",
    "| Scope out `drugbot`'s architecture and its components | **YES** |\n",
    "| Explain the process of transforming of the tabular data from RxNorm to `data/nlu_data.json` file | **YES** |\n",
    "| Explain the contents of `bot_domain.yml` file | **YES** |\n",
    "| Explain the contents of `bot.py` file | **YES** |\n",
    "| Train NLU, Core and visualize initial bot stories | **YES** |\n",
    "| Interactively train dialogue of `drugbot`, re-train and test the bot |  |"
   ]
  },
  {
   "cell_type": "markdown",
   "metadata": {
    "slideshow": {
     "slide_type": "slide"
    }
   },
   "source": [
    "## ![inline-img](img/guided.png) Begin interactive learning session \n",
    "\n",
    "- Now we have the NLU and core dialogue management models trained\n",
    "- But we should not start the `drugbot`, instead we should move over to interactive learning and add quite a few sample conversations for a nice conversational flow of the bot\n",
    "- The online training script is already prepared for you, so enter the following command and start the interactive learning session\n",
    "\n",
    "```\n",
    "python train_online.py\n",
    "```"
   ]
  },
  {
   "cell_type": "markdown",
   "metadata": {
    "slideshow": {
     "slide_type": "slide"
    }
   },
   "source": [
    "## Interactive learning \n",
    "\n",
    "- We input `intents` with `entities`, instead of a sentence \n",
    "\n",
    "We will start with `/greet` then enter 1, 2, or 0 based on how we feel with the action `drugbot` chooses. \n",
    "![centered](img/drugbot_greet.png)"
   ]
  },
  {
   "cell_type": "markdown",
   "metadata": {
    "slideshow": {
     "slide_type": "slide"
    }
   },
   "source": [
    "## Interactive learning input format\n",
    "\n",
    "- We will use the following format for user input while using interactive learning \n",
    "\n",
    "```\n",
    "intent{\"entity\" : \"value\"}\n",
    "```\n",
    "\n",
    "![centered](img/drugbot_search_ing_by_brand.png)"
   ]
  },
  {
   "cell_type": "markdown",
   "metadata": {
    "slideshow": {
     "slide_type": "slide"
    }
   },
   "source": [
    "## Interactive learning input format\n",
    "\n",
    "`drugbot` has correctly filled the slot and wants to respond with `action_ingredient_by_brand`.\n",
    "\n",
    "We choose 1, and the drugbot correctly queries the dataframe and returns the active ingredient for the brand `Prosol`.\n",
    "\n",
    "![centered](img/drugbot_interactive_learning_output.png)\n",
    "\n",
    "We can continue to add as many stories as we want and then export the conversations to `data/stories.md` file."
   ]
  },
  {
   "cell_type": "markdown",
   "metadata": {
    "slideshow": {
     "slide_type": "slide"
    }
   },
   "source": [
    "## ![inline-img](img/examine.png) Export stories\n",
    "\n",
    "- Exported stories are appended to the `drugbot/data/stories.md` \n",
    "\n",
    "![centered](img/drugbot_exp_stories.png)"
   ]
  },
  {
   "cell_type": "markdown",
   "metadata": {
    "slideshow": {
     "slide_type": "slide"
    }
   },
   "source": [
    "## Visualize stories after interactive learning\n",
    "\n",
    "![centered-max-height-500](img/drugbot_graph_after.png)"
   ]
  },
  {
   "cell_type": "markdown",
   "metadata": {
    "slideshow": {
     "slide_type": "notes"
    }
   },
   "source": [
    "This graph was generated after just a few stories, we need to add more stories to make the `drugbot` more robust."
   ]
  },
  {
   "cell_type": "markdown",
   "metadata": {
    "slideshow": {
     "slide_type": "slide"
    }
   },
   "source": [
    "## ![inline-img](img/guided.png) Retrain model\n",
    "\n",
    "- Once we have enough stories, we can retrain the model and start the actual `drugbot` \n",
    "- Enter the following commands in your terminal one by one\n",
    "\n",
    "```\n",
    "python bot.py train-nlu\n",
    "python bot.py train-dialogue\n",
    "```"
   ]
  },
  {
   "cell_type": "markdown",
   "metadata": {
    "slideshow": {
     "slide_type": "slide"
    }
   },
   "source": [
    "## ![inline-img](img/guided.png) Start the bot\n",
    "\n",
    "```\n",
    "python bot.py run\n",
    "```"
   ]
  },
  {
   "cell_type": "markdown",
   "metadata": {
    "slideshow": {
     "slide_type": "slide"
    }
   },
   "source": [
    "## ![inline-img](img/guided.png) Test the bot\n",
    "\n",
    "- You will see the message: \n",
    "\n",
    "```\n",
    "Bot loaded. Type a message and press enter:\n",
    "```\n",
    "- Now you can start real conversation with the chatbot\n",
    "- Here is a sample conversation, **text** is user inputs while `text` is `drugbot` response.\n",
    "\n",
    "**hi**\n",
    "```\n",
    "hey there!\n",
    "how can I help you?\n",
    "```"
   ]
  },
  {
   "cell_type": "markdown",
   "metadata": {
    "slideshow": {
     "slide_type": "slide"
    }
   },
   "source": [
    "## ![inline-img](img/guided.png) Test the bot\n",
    "\n",
    "**which active ingredient does OCUSAN have?**\n",
    "\n",
    "```\n",
    "Polyethylene Glycol 400, tetrahydrozoline\n",
    "```"
   ]
  },
  {
   "cell_type": "markdown",
   "metadata": {
    "slideshow": {
     "slide_type": "slide"
    }
   },
   "source": [
    "## ![inline-img](img/guided.png) Test the bot\n",
    "\n",
    "**I want to ask more** \n",
    "\n",
    "```\n",
    "What else would you like to know?\n",
    "```"
   ]
  },
  {
   "cell_type": "markdown",
   "metadata": {
    "slideshow": {
     "slide_type": "slide"
    }
   },
   "source": [
    "## ![inline-img](img/guided.png)  Test the bot\n",
    "**What's the brand with active ingredient CAFFEINE?** \n",
    "\n",
    "```\n",
    "Diurex Water Caps, Goody's Headache Relief Shot, Painaid ESF\n",
    "```"
   ]
  },
  {
   "cell_type": "markdown",
   "metadata": {
    "slideshow": {
     "slide_type": "slide"
    }
   },
   "source": [
    "## ![inline-img](img/guided.png)  Test the bot\n",
    "**alright, thanks man!** \n",
    "\n",
    "```\n",
    "you're very welcome\n",
    "```"
   ]
  },
  {
   "cell_type": "markdown",
   "metadata": {
    "slideshow": {
     "slide_type": "slide"
    }
   },
   "source": [
    "## ![inline-img](img/guided.png) Test the bot\n",
    "**cool, goodbye** \n",
    "\n",
    "```\n",
    "goodbye :(\n",
    "```    "
   ]
  },
  {
   "cell_type": "markdown",
   "metadata": {
    "slideshow": {
     "slide_type": "slide"
    }
   },
   "source": [
    "## ![inline-img](img/exercise-code.png) Exercise 2: **modifying drugbot**"
   ]
  },
  {
   "cell_type": "markdown",
   "metadata": {
    "slideshow": {
     "slide_type": "slide"
    }
   },
   "source": [
    "## Module completion checklist\n",
    "\n",
    "| Objectives | Complete |\n",
    "| ---------- | -------- |\n",
    "| Discuss the data, its format, and features that will power the bot | **YES**  |\n",
    "| Define bot requirements, specifications and conversational script | **YES**  |\n",
    "| Scope out `drugbot`'s architecture and its components | **YES** |\n",
    "| Explain the process of transforming of the tabular data from RxNorm to `data/nlu_data.json` file | **YES** |\n",
    "| Explain the contents of `bot_domain.yml` file | **YES** |\n",
    "| Explain the contents of `bot.py` file | **YES** |\n",
    "| Train NLU, Core and visualize initial bot stories | **YES** |\n",
    "| Interactively train dialogue of `drugbot`, re-train and test the bot | **YES** |"
   ]
  },
  {
   "cell_type": "markdown",
   "metadata": {
    "slideshow": {
     "slide_type": "slide"
    }
   },
   "source": [
    "# Congratulations on finishing Day 2!\n",
    "![max-height-500](img/end-robot.png)"
   ]
  }
 ],
 "metadata": {
  "kernelspec": {
   "display_name": "Python 3",
   "language": "python",
   "name": "python3"
  },
  "language_info": {
   "codemirror_mode": {
    "name": "ipython",
    "version": 3
   },
   "file_extension": ".py",
   "mimetype": "text/x-python",
   "name": "python",
   "nbconvert_exporter": "python",
   "pygments_lexer": "ipython3",
   "version": "3.6.5"
  }
 },
 "nbformat": 4,
 "nbformat_minor": 2
}
