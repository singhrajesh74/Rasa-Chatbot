{
 "cells": [
  {
   "cell_type": "markdown",
   "metadata": {},
   "source": [
    "## ![inline-img](img/exercise-code.png) Exercise 1: **implement case study chatbots using Rasa UI**\n",
    "\n",
    "So far we have had very specific tasks for exercises.<br/> \n",
    "Today will be more self directed. <br/>\n",
    "On day one, you manually added self-generated training data to Markdown files. Today we will use a different tool set.\n",
    "\n",
    "### Task\n",
    "In small groups, create bots from the day 1 case studies.\n",
    "- Start with the conversational scripts and makrdown file from day one.\n",
    "- Populate the Rasa UI with the desired data:\n",
    " - Intents\n",
    " - Actions\n",
    " - Stories \n",
    " - Entities, etc.\n",
    "\n",
    "What NLU configuration will you need?\n",
    "\n",
    "For this exercise there is no **right** answer.\n",
    "\n",
    "We do provide two **SAMPLES** of how this process could be approached.\n",
    "- Simple Banking Chatbot\n",
    "- Simple Healthcare Chatbot\n",
    "\n",
    "Please use these examples as references to assist you with the thinking process."
   ]
  },
  {
   "cell_type": "markdown",
   "metadata": {},
   "source": [
    "## ![inline-img](img/examine.png) Sample one: simple banking chatbot"
   ]
  },
  {
   "cell_type": "markdown",
   "metadata": {},
   "source": [
    "#### Requirements:\n",
    "- For a simple banking bot which would respond to the user question\n",
    "- 'May I know my account balance?' would need simple intents like 'greet', 'thanks', 'welcome', and other intents that are necessary to inquire about the balance."
   ]
  },
  {
   "cell_type": "markdown",
   "metadata": {},
   "source": [
    "#### Data:\n",
    "\n",
    "- The bot needs to understand that user is enquiring about the account balance. \n",
    "- Also it has to verify if the inquiry is about the checkings or the savings account. \n",
    "- Below are the basic Intents, Entities, Actions and Stories required to perform this task."
   ]
  },
  {
   "cell_type": "markdown",
   "metadata": {},
   "source": [
    "#### The intents can be as follows\n",
    "![max-height-500](img/day3_exercise_bank_intent.png)\n",
    "#### Sample expressions from the customers can be as follows for the intent `savings_balance_check`\n",
    "![max-height-500](img/day3_exercise_bankbot_intent1.png)\n",
    "#### Sample expressions for the intent `balance_check` can be as follows\n",
    "![max-height-500](img/day3_exercise_bankbot_intents2.png)"
   ]
  },
  {
   "cell_type": "markdown",
   "metadata": {},
   "source": [
    "#### Few entities can be used in this case\n",
    "![max-height-500](img/day3_exercise_bankbot_entities.png)"
   ]
  },
  {
   "cell_type": "markdown",
   "metadata": {},
   "source": [
    "#### Sample actions:\n",
    "\n",
    "- A bot would need to responding to customer intents\n",
    "- The actions need not be limited to the following\n",
    "\n",
    "![max-height-500](img/day3_exercise_bankbot_actions.png)\n",
    "\n",
    "For `savings_balance action`, `savings_account` entity can be used (which is a float value).\n",
    "\n",
    "![max-height-500](img/day3_exercise_bankbot_action_savings_balance.png)"
   ]
  },
  {
   "cell_type": "markdown",
   "metadata": {},
   "source": [
    "#### Stories could go as follows:\n",
    "\n",
    "![max-height-500](img/day3_exercise_bankbot_stories.png)"
   ]
  },
  {
   "cell_type": "markdown",
   "metadata": {},
   "source": [
    "## ![inline-img](img/examine.png) Sample one: simple healthcare chatbot"
   ]
  },
  {
   "cell_type": "markdown",
   "metadata": {},
   "source": [
    "#### Requirements:\n",
    "\n",
    "A health care bot would need to respond to the questions:\n",
    "- 'I have the following symptoms. May I schedule an appointment?' \n",
    "\n",
    "#### Intents:\n",
    "The bot would need simple intents like:\n",
    "- `greet`\n",
    "- `thanks`\n",
    "- `welcome`, and other intents that are necessary to schedule appointments\n",
    "\n",
    "The bot needs to be able to distinguish between when the user is reporting the symptoms and when the user is making an appointment.m"
   ]
  },
  {
   "cell_type": "markdown",
   "metadata": {},
   "source": [
    "Sample intents could be:\n",
    "\n",
    "![max-height-500](img/day3_exercise_healthbot_intents.png)\n",
    "\n",
    "Sample expressions from the customers for `schedule_appointment` could be: \n",
    "\n",
    "![max-height-500](img/day3_exercise_healthbot_intent1.png)"
   ]
  },
  {
   "cell_type": "markdown",
   "metadata": {},
   "source": [
    "#### Entities\n",
    "\n",
    "To make appointments, the bot would need:\n",
    "- the time \n",
    "- the date \n",
    "\n",
    "For when the user wants to schedule an appointment.\n",
    "\n",
    "Below are example entities.\n",
    "\n",
    "![max-height-500](img/day3_exercise_healthbot_entities.png)"
   ]
  },
  {
   "cell_type": "markdown",
   "metadata": {},
   "source": [
    "#### Actions\n",
    "The following actions can be used in this case\n",
    "\n",
    "Here are some sample actions for the bot to use after responding to the patient intents <br/>\n",
    "\n",
    "![max-height-500](img/day3_exercise_healthbot_Actions.png)"
   ]
  },
  {
   "cell_type": "markdown",
   "metadata": {},
   "source": [
    "### Stories\n",
    "\n",
    "A sample of health care bot related stories:\n",
    "\n",
    "![max-height-500](img/day3_exercise_healthbot_stories.png)"
   ]
  },
  {
   "cell_type": "markdown",
   "metadata": {},
   "source": [
    "## ![inline-img](img/exercise-code.png) Exercise 2: **modifying drugbot**\n",
    "\n",
    "## Task\n",
    "### Enhance drugbot\n",
    "\n",
    "Individually or in pairs, we will think through adding functionality to Drugbot.\n",
    "\n",
    "Below there is a series of questions to guide you through this process.\n",
    "\n",
    "Again, for this exercise there is no **right** answer.\n",
    "\n",
    "We expect you to use as many sticky notes and markers and you do lines of code in this exercise. \n",
    "\n",
    "Please use these examples as references to assist you with the thinking process."
   ]
  },
  {
   "cell_type": "markdown",
   "metadata": {},
   "source": [
    "## Question 1\n",
    "\n",
    "- What additional question could the bot answer if we used ALL of the data that we have in the `drug_data.csv`?"
   ]
  },
  {
   "cell_type": "markdown",
   "metadata": {},
   "source": [
    "#### Sample answer:"
   ]
  },
  {
   "cell_type": "code",
   "execution_count": 4,
   "metadata": {},
   "outputs": [
    {
     "data": {
      "text/html": [
       "<div>\n",
       "<style scoped>\n",
       "    .dataframe tbody tr th:only-of-type {\n",
       "        vertical-align: middle;\n",
       "    }\n",
       "\n",
       "    .dataframe tbody tr th {\n",
       "        vertical-align: top;\n",
       "    }\n",
       "\n",
       "    .dataframe thead th {\n",
       "        text-align: right;\n",
       "    }\n",
       "</style>\n",
       "<table border=\"1\" class=\"dataframe\">\n",
       "  <thead>\n",
       "    <tr style=\"text-align: right;\">\n",
       "      <th></th>\n",
       "      <th>brand</th>\n",
       "      <th>dose_form</th>\n",
       "      <th>ingredient</th>\n",
       "      <th>suppress</th>\n",
       "      <th>prescribable</th>\n",
       "    </tr>\n",
       "  </thead>\n",
       "  <tbody>\n",
       "    <tr>\n",
       "      <th>0</th>\n",
       "      <td>Aminosyn 10%, Sulfite-Free</td>\n",
       "      <td>Topical Cream</td>\n",
       "      <td>Arginine</td>\n",
       "      <td>Not suppressible</td>\n",
       "      <td>Not prescribable</td>\n",
       "    </tr>\n",
       "    <tr>\n",
       "      <th>1</th>\n",
       "      <td>Aminosyn 10%, Sulfite-Free</td>\n",
       "      <td>Oral Capsule</td>\n",
       "      <td>Arginine</td>\n",
       "      <td>Not suppressible</td>\n",
       "      <td>Not prescribable in the US</td>\n",
       "    </tr>\n",
       "    <tr>\n",
       "      <th>2</th>\n",
       "      <td>Aminosyn 10%, Sulfite-Free</td>\n",
       "      <td>Injectable Solution</td>\n",
       "      <td>Arginine</td>\n",
       "      <td>Not suppressible</td>\n",
       "      <td>Prescribable in the US</td>\n",
       "    </tr>\n",
       "    <tr>\n",
       "      <th>3</th>\n",
       "      <td>Aminosyn 10%, Sulfite-Free</td>\n",
       "      <td>Extended Release Oral Tablet</td>\n",
       "      <td>Arginine</td>\n",
       "      <td>Not suppressible</td>\n",
       "      <td>Not prescribable in the US</td>\n",
       "    </tr>\n",
       "    <tr>\n",
       "      <th>4</th>\n",
       "      <td>Aminosyn 10%, Sulfite-Free</td>\n",
       "      <td>Oral Tablet</td>\n",
       "      <td>Arginine</td>\n",
       "      <td>Not suppressible</td>\n",
       "      <td>Not prescribable in the US</td>\n",
       "    </tr>\n",
       "  </tbody>\n",
       "</table>\n",
       "</div>"
      ],
      "text/plain": [
       "                        brand                     dose_form ingredient  \\\n",
       "0  Aminosyn 10%, Sulfite-Free                 Topical Cream   Arginine   \n",
       "1  Aminosyn 10%, Sulfite-Free                  Oral Capsule   Arginine   \n",
       "2  Aminosyn 10%, Sulfite-Free           Injectable Solution   Arginine   \n",
       "3  Aminosyn 10%, Sulfite-Free  Extended Release Oral Tablet   Arginine   \n",
       "4  Aminosyn 10%, Sulfite-Free                   Oral Tablet   Arginine   \n",
       "\n",
       "           suppress                prescribable  \n",
       "0  Not suppressible            Not prescribable  \n",
       "1  Not suppressible  Not prescribable in the US  \n",
       "2  Not suppressible      Prescribable in the US  \n",
       "3  Not suppressible  Not prescribable in the US  \n",
       "4  Not suppressible  Not prescribable in the US  "
      ]
     },
     "execution_count": 4,
     "metadata": {},
     "output_type": "execute_result"
    }
   ],
   "source": [
    "import pandas as pd \n",
    "drug = pd.read_csv('drugbot/data/drug_data.csv')\n",
    "drug.head(5)"
   ]
  },
  {
   "cell_type": "code",
   "execution_count": 5,
   "metadata": {},
   "outputs": [
    {
     "data": {
      "text/plain": [
       "array(['Not suppressible', 'Suppressed by RxNorm editors', 'Obsolete'],\n",
       "      dtype=object)"
      ]
     },
     "execution_count": 5,
     "metadata": {},
     "output_type": "execute_result"
    }
   ],
   "source": [
    "drug.suppress.unique()"
   ]
  },
  {
   "cell_type": "markdown",
   "metadata": {},
   "source": [
    "### Existing Drug Bot entities\n",
    "Currently, we have just used `brand` and `ingredient` as entities for our Drug Bot, which results in intents `search_brand_byingredient` and `search_ingredients_by_brand`."
   ]
  },
  {
   "cell_type": "markdown",
   "metadata": {},
   "source": [
    "### New possible entities\n",
    "\n",
    "Our Drug Bot can have the following entities from `drug_data.csv`\n",
    "\n",
    "**Entity**\n",
    "1. `brand` (already exists)\n",
    "2. `ingredient` (already exists) \n",
    "3. `dose_form` \n",
    "4. `suppress`\n",
    "5. `prescribable`\n",
    "\n"
   ]
  },
  {
   "cell_type": "markdown",
   "metadata": {},
   "source": [
    "**Intents**\n",
    "\n",
    "Now we can use the 5 entities total and create mutiple intents or additional types of questions. There will be 20 unique `search_one_entity_given_other` type of intents possible."
   ]
  },
  {
   "cell_type": "markdown",
   "metadata": {},
   "source": [
    "1. `search_brands_by_ingredient` (already exists)\n",
    "2. `search_ingredients_by_brand` (already exists)\n",
    "3. `search_dose_forms_by_brand`\n",
    "4. `search_brands_by_dose_form`\n",
    "5. `search_dose_forms_by_ingredient`\n",
    "6. `search_ingredients_by_dose_form`\n",
    "7. `search_suppress_by_brand`\n",
    "8. `search_brands_by_suppress`\n",
    "9. `search_suppress_by_ingredient`\n",
    "10. `search_ingredients_by_suppress`\n",
    "11. `search_suppress_by_dose_form`\n",
    "12. `search_dose_forms_by_suppress`\n",
    "13. `search_prescribable_by_brand`\n",
    "14. `search_brands_by_prescribable`\n",
    "15. `search_prescribable_by_dose_form`\n",
    "16. `search_dose_forms_by_prescribable`\n",
    "17. `search_prescribable_by_ingredient`\n",
    "18. `search_ingredients_by_prescribable`\n",
    "19. `search_prescribable_by_suppress`\n",
    "20. `search_suppress_by_precribable`"
   ]
  },
  {
   "cell_type": "markdown",
   "metadata": {},
   "source": [
    "**Refined Intents**\n",
    "\n",
    "Are all of these possible combinations actually helpful and useful to the user? That's more of a common sense kind of question, for example the last two actions (`search_prescribable_by_suppress` and `search_suppress_by_precribable`) are not helpful at all. Most of these actions will hinge either on the active ingredient or the brand of the drug. Searching brands by dose form or ingredients by suppressed status is not very sensible either. We could shorten this list to the following:\n",
    "\n",
    "1. `search_brands_by_ingredient` (already exists)\n",
    "2. `search_ingredients_by_brand` (already exists)\n",
    "3. `search_dose_forms_by_brand`\n",
    "4. `search_dose_forms_by_ingredient`\n",
    "5. `search_suppress_by_brand`\n",
    "6. `search_suppress_by_ingredient`\n",
    "7. `search_prescribable_by_brand`\n",
    "8. `search_prescribable_by_ingredient`"
   ]
  },
  {
   "cell_type": "markdown",
   "metadata": {},
   "source": [
    "We could also have intents based on aggregated data and counts. For example :\n",
    "\n",
    "- How many brands have are marked as `Suppressed by RxNorm editors` ?\n",
    "- Which brand has the most `obsolete` drugs ?\n",
    "- How many ingredients are `Not prescribable in the US` \n",
    "\n",
    "There are several more possible questions one can think of from `drug_data.csv`."
   ]
  },
  {
   "cell_type": "markdown",
   "metadata": {},
   "source": [
    "## Question 2\n",
    "\n",
    "### What parts of bot architecture would change if we were to implement our ideas?\n",
    "### How?"
   ]
  },
  {
   "cell_type": "markdown",
   "metadata": {},
   "source": [
    "#### Answer:\n",
    "\n",
    "- `drugbot/data/nlu_data.json`\n",
    "- `drugbot/bot_domain.yml`\n",
    "- `drugbot/bot.py`\n",
    "- `drugbot/data/stories.md`"
   ]
  },
  {
   "cell_type": "markdown",
   "metadata": {},
   "source": [
    "## Question 3\n",
    "\n",
    "### What additional elements would we need? \n",
    "### Draft out the changes needed to implement changes\n",
    " - no need to code or write out the functions in full\n",
    " - flowcharts or function skeletons will sufficem"
   ]
  },
  {
   "cell_type": "markdown",
   "metadata": {},
   "source": [
    "#### Sample answer:"
   ]
  },
  {
   "cell_type": "markdown",
   "metadata": {},
   "source": [
    "#### _Creating new intents and entities_\n",
    "\n",
    "**`drugbot/data/nlu_data.json`**\n",
    "\n",
    "- First, we would be required to generate the `drugbot/data/nlu_data.json` file using the `Drugbot_Data_transform.ipynb` \n",
    "- In order to create new `intents`, you will need to first edit the `ent_dict` dictionary and add the entities you would like the Drug Bot to identify\n",
    "- Next, you need to create separate text files for each intent you wish to add\n",
    "- One extra text file `drugbot/data/dose_forms_by_brand.txt` has been created for you\n",
    "- You would have to add around 5-7 sample sentences for each new intent\n",
    "- Then, you can follow the functions defined in `Drugbot_Data_transform.ipynb` to create `regex_feature`, `entity_synonyms` and `common_examples` for each intent added and create the new training data JSON file  "
   ]
  },
  {
   "cell_type": "markdown",
   "metadata": {},
   "source": [
    "**`drugbot/bot_domain.yml`** \n",
    "\n",
    "- Once you have the `nlu_data.json` file with all possible intents you wish for, you need to define those intents in the `drugbot/bot_domain.yml` file\n",
    "- Add all `entities` in the `bot_domain.yml`\n",
    "- You will have to come back to this file and add custom actions and slots later on"
   ]
  },
  {
   "cell_type": "markdown",
   "metadata": {},
   "source": [
    "#### _Custom Actions_\n",
    "\n",
    "**`drugbot/bot.py`**\n",
    "- You will be required to edit the Python script and define all `custom actions` here\n",
    "- Each `custom action` will be defined through a separate class, for example `intent` `search_prescribable_by_brand` will have a class `ActionSearchPrescribableByBrand`\n",
    "- In this class, you need to write your queries by calling the `DrugAPI` defined initially in the script\n",
    "- Once you have working `custom actions` defined, you will be required to update the `drugbot/bot_domain.yml` file `action` section\n",
    "- For example, if you have defined the class`ActionSearchPrescribableByBrand` in `drugbot/bot.py`, you will add `bot.ActionSearchPrescribableByBrand` to `actions` in the `drugbot/bot_domain.yml`m"
   ]
  },
  {
   "cell_type": "markdown",
   "metadata": {},
   "source": [
    "#### _Creating Slots_\n",
    "- Now you need to add the slots for the output of the `custom function`\n",
    "- For example class `ActionSearchPrescribableByBrand` takes in `slot brand` from user message and returns `slot prescribables` \n",
    "- In such case, `slot brand` will be of `type: text` (we already have it defined in our existing bot) and `slot prescribables` will be of `type: list` (depending on what your function returns, of course) \n",
    "- Be careful in defining the slots, there should be one `slot` from `user message` (which is brand in this case) and another from `custom action` output\n",
    "- Of course, this would change based on how a given `custom action` is defined\n",
    "- Each `slot` must be added in `drugbot/bot_domain.yml` file"
   ]
  },
  {
   "cell_type": "markdown",
   "metadata": {},
   "source": [
    "#### _Training the NLU and core model_\n",
    "\n",
    "Once you have completed your draft, you can train the NLU and core dialogue system model using \n",
    "\n",
    "```\n",
    "cd drugbot\n",
    "python bot.py train-nlu\n",
    "python bot.py train-dialogue\n",
    "```"
   ]
  },
  {
   "cell_type": "markdown",
   "metadata": {},
   "source": [
    "#### Modifying stories through interactive learning\n",
    "\n",
    "- Now you can use `python train_online.py` to run the script with interactive learning for the Drug Bot\n",
    "- Keep in mind the format of user message will be `/intent` and `intent{\"entity\": \"value\"}\n",
    "- Since we have a fairly large NLU data file with lots of intents and entities, you will probably need to generate at least 20-25 stories to make the bot robust\n",
    "- Once you have enough interactive learning conversations, make sure to conclude by entering `0` and specifying the location of stories file - `data/stories.md`\n",
    "- Always check the generated stories are appended to `data/stories.md` file"
   ]
  },
  {
   "cell_type": "markdown",
   "metadata": {},
   "source": [
    "#### _Retraining the Drug Bot_\n",
    "\n",
    "- It is very important to retrain the Drug Bot with the added stories\n",
    "- Many times we forget to retrain after all the hard work\n",
    "- Result would be inefficient responses from the Drug Bot\n",
    "- So always retrain the Drug Bot after every modifications made using \n",
    "\n",
    "\n",
    "```\n",
    "cd drugbot\n",
    "python bot.py train-nlu\n",
    "python bot.py train-dialogue\n",
    "```"
   ]
  },
  {
   "cell_type": "markdown",
   "metadata": {},
   "source": [
    "#### _Run the modified drugbot_\n",
    "\n",
    "Once you have everything in place, you can run the final Drug Bot using \n",
    "\n",
    "```\n",
    "python bot.py run\n",
    "```\n",
    "\n",
    "However, this would not be final Drug Bot, as explained earlier in course, chatbot development is an interative process.\n",
    "This iteration, from NLU data generation to executing the final bot will have to be repeated several times to debug and add more functionalities."
   ]
  }
 ],
 "metadata": {
  "kernelspec": {
   "display_name": "Python 3",
   "language": "python",
   "name": "python3"
  },
  "language_info": {
   "codemirror_mode": {
    "name": "ipython",
    "version": 3
   },
   "file_extension": ".py",
   "mimetype": "text/x-python",
   "name": "python",
   "nbconvert_exporter": "python",
   "pygments_lexer": "ipython3",
   "version": "3.6.5"
  }
 },
 "nbformat": 4,
 "nbformat_minor": 2
}
