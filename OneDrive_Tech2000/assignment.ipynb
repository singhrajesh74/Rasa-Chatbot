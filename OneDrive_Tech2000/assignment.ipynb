{
 "cells": [
  {
   "cell_type": "markdown",
   "metadata": {
    "slideshow": {
     "slide_type": "slide"
    }
   },
   "source": [
    "# Assignment: weatherbot development"
   ]
  },
  {
   "cell_type": "markdown",
   "metadata": {},
   "source": [
    "## Task:\n",
    "\n",
    "- By completing this assignment you will be able to build weatherbot using Rasa AI stack\n",
    "- Follow the overview and steps below to create your own weatherbot"
   ]
  },
  {
   "cell_type": "markdown",
   "metadata": {
    "slideshow": {
     "slide_type": "-"
    }
   },
   "source": [
    "## Overview:\n",
    "\n",
    "- This is how the architecture of the weatherbot looks\n",
    "- Users asks for weather condition in London\n",
    "- Text is processed in Rasa NLU (Natural Language Understanding), where the models identify the intent and entities\n",
    "- Then Rasa Core responds with the action corresponding to the itent of the user input\n",
    "- If the user asks for weather condition of a location, Rasa Core uses an API call to retrieve the weather conditions in that location and outputs the message as shown in the text box"
   ]
  },
  {
   "cell_type": "markdown",
   "metadata": {
    "slideshow": {
     "slide_type": "-"
    }
   },
   "source": [
    "## Steps to create `weatherbot`\n",
    "![centered](img/bot-development-process.png)"
   ]
  },
  {
   "cell_type": "markdown",
   "metadata": {
    "slideshow": {
     "slide_type": "slide"
    }
   },
   "source": [
    "## Installation and setup\n",
    "\n",
    "Go to `weatherbot` directory\n",
    "\n",
    "```\n",
    "cd weatherbot\n",
    "```\n",
    "\n",
    "Install all the requirements for `weatherbot`:\n",
    "\n",
    "```\n",
    "pip install -r requirements.txt\n",
    "```"
   ]
  },
  {
   "cell_type": "markdown",
   "metadata": {
    "slideshow": {
     "slide_type": "slide"
    }
   },
   "source": [
    "## Building or enhancing data for NLU\n",
    "\n",
    "Intent classification and entity extraction are machine learning tasks and all predictive models need training data. To date, we have seen data stored in `JSON` format<br/>\n",
    "\n",
    "There are two methods of creating the training data:\n",
    "1. Writing NLU data manually (what we have done so far, and is _time consuming and tedious_)\n",
    "2. rasa-nlu-trainer (online tool to generate data which can be used to train the chatbot)\n"
   ]
  },
  {
   "cell_type": "markdown",
   "metadata": {},
   "source": [
    "### Setting up rasa-nlu-trainer\n",
    "\n",
    "We have already done this for you, but to set it up in the future, you would run the following code:\n",
    "\n",
    "```\n",
    "npm i -g rasa-nlu-trainer\n",
    "```\n",
    "\n",
    "If you are getting `Permission denied` error, you need to run this command as a super user (you would need to enter your password in that case)\n",
    "\n",
    "```\n",
    "sudo npm i -g rasa-nlu-trainer\n",
    "```"
   ]
  },
  {
   "cell_type": "markdown",
   "metadata": {
    "slideshow": {
     "slide_type": "slide"
    }
   },
   "source": [
    "### ![inline-img](img/examine.png) NLU data for weatherbot\n",
    "\n",
    "- The data file can be found: `weatherbot/data/data.json`\n",
    "- As with other NLU training data we have viewed, this file stores the `intent` and `entity` of the user input\n",
    "\n",
    "![max-height-300](img/data.png)"
   ]
  },
  {
   "cell_type": "markdown",
   "metadata": {
    "slideshow": {
     "slide_type": "notes"
    }
   },
   "source": [
    "### Visualize weatherbot stories\n",
    "\n",
    "- To visualize the weatherbot stories as graph we follow the same steps for installation we used earlier in the day\n",
    "- To review, here is what was run:\n",
    "\n",
    "```\n",
    "sudo apt-get install graphviz\n",
    "dot -V\n",
    "alias graphviz='dot'\n",
    "sudo apt-get install python-dev graphviz libgraphviz-dev pkg-config\n",
    "pip install pygraphviz\n",
    "```"
   ]
  },
  {
   "cell_type": "markdown",
   "metadata": {
    "slideshow": {
     "slide_type": "slide"
    }
   },
   "source": [
    "### ![inline-img](img/guided.png) Produce graph\n",
    "- Run the `rasa_core` visualization function to create graph\n",
    "- Make sure that your current directory includes `weather_domain.yml` and a data folder which would have `stories.md`\n",
    "\n",
    "```\n",
    "python -m rasa_core.visualize -d weather_domain.yml -s data/stories.md -o graph.png\n",
    "```"
   ]
  },
  {
   "cell_type": "markdown",
   "metadata": {
    "slideshow": {
     "slide_type": "slide"
    }
   },
   "source": [
    "![max-height-500](img/graph.png)"
   ]
  },
  {
   "cell_type": "markdown",
   "metadata": {
    "slideshow": {
     "slide_type": "slide"
    }
   },
   "source": [
    "## ![inline-img](img/activity.png) Activity - translate graph"
   ]
  },
  {
   "cell_type": "markdown",
   "metadata": {
    "slideshow": {
     "slide_type": "-"
    }
   },
   "source": [
    "### Things to look out for:\n",
    "- How many stories are in this graph?\n",
    "- What did those stories look like conversationally?\n",
    "- What entities were relevant?"
   ]
  },
  {
   "cell_type": "markdown",
   "metadata": {
    "slideshow": {
     "slide_type": "slide"
    }
   },
   "source": [
    "## ![inline-img](img/activity.png) Activity - weatherbot repo exploration\n",
    "\n",
    "- Inspect the structure of the folder with\n",
    "\n",
    "```\n",
    "ls -al\n",
    "```"
   ]
  },
  {
   "cell_type": "markdown",
   "metadata": {
    "slideshow": {
     "slide_type": "-"
    }
   },
   "source": [
    "### Overall file structure in repo:\n",
    " - Which files are relevant to NLU?\n",
    " - Which files are relevant to Core?\n",
    " - Which files are just nice to haves?\n",
    "\n",
    "### NLU Questions\n",
    "- How many intents are there?\n",
    "- How many entities can it recognize?\n",
    "- What pipeline elements is it using?\n",
    "\n",
    "### Core questions\n",
    "- How many stories are in the training data?\n",
    "- What actions are there?"
   ]
  },
  {
   "cell_type": "markdown",
   "metadata": {
    "slideshow": {
     "slide_type": "slide"
    }
   },
   "source": [
    "### ![inline-img](img/examine.png)![inline-img](img/small-nlu.png)Configuration file\n",
    "\n",
    "* Configuration file provides important parameters for training the model. We will be using the sklearn based pipeline - spacy_sklearn pipeline. \n",
    "* This has already been created for you, named `config_spacy.json`, and it is located in the weatherbot folder. `.weather/config_spacy`\n",
    "![centered](img/config_spacy.png)"
   ]
  },
  {
   "cell_type": "markdown",
   "metadata": {
    "slideshow": {
     "slide_type": "slide"
    }
   },
   "source": [
    "### ![inline-img](img/small-nlu.png)\n",
    "\n",
    "![centered](img/assess-nlu-data.png)"
   ]
  },
  {
   "cell_type": "markdown",
   "metadata": {
    "slideshow": {
     "slide_type": "slide"
    }
   },
   "source": [
    "### ![inline-img](img/small-nlu.png) Training data structure and format\n",
    "Data file location `./weatherbot/data/data.json`\n",
    "![centered](img/data_file.png)"
   ]
  },
  {
   "cell_type": "markdown",
   "metadata": {
    "slideshow": {
     "slide_type": "notes"
    }
   },
   "source": [
    "Training Data for chatbots is stored in `JSON` format. You can find the file in data folder by the name `data.json`. `JSON` stands for JavaScript Object Notation, it is a human readable text notation using attribute-value pair. All data is stored in attribute \"rasa_nlu_data\". Every user input or custom examples will be stored as value of attribute text. Then we will have the intent and entity of the text stored in subsequent attributes. Intent and entity are identified using the nlu_model.py script which will be expalined to you shortly. "
   ]
  },
  {
   "cell_type": "markdown",
   "metadata": {
    "slideshow": {
     "slide_type": "notes"
    }
   },
   "source": [
    "* **Important Note:** In case you want to edit the YML files, never use tab for indenting! "
   ]
  },
  {
   "cell_type": "markdown",
   "metadata": {
    "slideshow": {
     "slide_type": "slide"
    }
   },
   "source": [
    "### ![inline-img](img/small-nlu.png)Enhance NLU\n",
    "\n",
    "* Since we want a robust chatbot, we need **more data**\n",
    "* You can use GUI tool provided by Rasa:\n",
    "\n",
    "_**Rasa NLU trainer**_"
   ]
  },
  {
   "cell_type": "markdown",
   "metadata": {
    "slideshow": {
     "slide_type": "slide"
    }
   },
   "source": [
    "### ![inline-img](img/guided.png)![inline-img](img/small-nlu.png) Accessing Rasa NLU trainer\n",
    "* Rasa NLU trainer is a useful tool to create training data for chatbots\n",
    "* You can access rasa-nlu-trainer by executing following command on your terminal \n",
    "\n",
    "```\n",
    " rasa-nlu-trainer\n",
    "```\n",
    "* The online trainer should open in your default browser. If your default browser is not Google Chrome, copy the URL and open the trainer in Chrome as it works best in that browser."
   ]
  },
  {
   "cell_type": "markdown",
   "metadata": {
    "slideshow": {
     "slide_type": "slide"
    }
   },
   "source": [
    "### ![inline-img](img/small-nlu.png)Interactive NLU training data generation tool\n",
    "![max-height-500](img/nlu-train-data-tool.png)"
   ]
  },
  {
   "cell_type": "markdown",
   "metadata": {
    "slideshow": {
     "slide_type": "notes"
    }
   },
   "source": [
    "Within it you can easily label entities along with categorizing them by intent"
   ]
  },
  {
   "cell_type": "markdown",
   "metadata": {
    "slideshow": {
     "slide_type": "slide"
    }
   },
   "source": [
    "### ![inline-img](img/small-nlu.png)Easy to download\n",
    "![max-height-500](img/test-data-download.png)"
   ]
  },
  {
   "cell_type": "markdown",
   "metadata": {
    "slideshow": {
     "slide_type": "notes"
    }
   },
   "source": [
    "Once the added content is there, you can easily download the updated file. "
   ]
  },
  {
   "cell_type": "markdown",
   "metadata": {
    "slideshow": {
     "slide_type": "slide"
    }
   },
   "source": [
    "### ![inline-img](img/examine.png)![inline-img](img/small-nlu.png) Created in Rasa NLU-compatible JSON format\n",
    "![max-height-500](img/test-json.png)"
   ]
  },
  {
   "cell_type": "markdown",
   "metadata": {
    "slideshow": {
     "slide_type": "slide"
    }
   },
   "source": [
    "## ![inline-img](img/guided.png)![inline-img](img/small-nlu.png) Enhance NLU Training Data\n",
    "### Add two to three training examples\n",
    "\n",
    "Here is a screenshot of Rasa online trainer. You can go ahead add your own example by clicking on 'add example' button on top right corner.\n",
    "![centered](img/online_trainer.png)"
   ]
  },
  {
   "cell_type": "markdown",
   "metadata": {
    "slideshow": {
     "slide_type": "slide"
    }
   },
   "source": [
    "### ![inline-img](img/guided.png)![inline-img](img/small-nlu.png) Adding an example - start with text box\n",
    "\n",
    "You can write your example in the text box and choose the intent in the intent box\n",
    "![centered](img/trainer_add_example.png)"
   ]
  },
  {
   "cell_type": "markdown",
   "metadata": {
    "slideshow": {
     "slide_type": "slide"
    }
   },
   "source": [
    "### ![inline-img](img/guided.png)![inline-img](img/small-nlu.png) Add content - weather in Virginia\n",
    "\n",
    "Suppose you want to know about the weather in Virginia. Then you should select 'Virginia' as the entity.\n",
    "![centered](img/trainer_virginia.png)"
   ]
  },
  {
   "cell_type": "markdown",
   "metadata": {
    "slideshow": {
     "slide_type": "slide"
    }
   },
   "source": [
    "### ![inline-img](img/guided.png)![inline-img](img/small-nlu.png)Identify entities\n",
    "\n",
    "* Click on the `add an entity for \"Virginia\"` and identify the entity as location and click add\n",
    "* Now the text should appear in the existing list\n",
    "\n",
    "![centered](img/trainer_location1.png)"
   ]
  },
  {
   "cell_type": "markdown",
   "metadata": {
    "slideshow": {
     "slide_type": "slide"
    }
   },
   "source": [
    "### ![inline-img](img/examine.png)![inline-img](img/small-nlu.png) Confirming the data is added \n",
    "\n",
    "#### You should see the text added to the existing list of text and its intent\n",
    "![centered](img/trainer_added.png)"
   ]
  },
  {
   "cell_type": "markdown",
   "metadata": {
    "slideshow": {
     "slide_type": "slide"
    }
   },
   "source": [
    "### ![inline-img](img/guided.png)![inline-img](img/small-nlu.png) Save changes\n",
    "\n",
    "* You can go ahead and save the added data to your existing `.weather/data/data.json` file \n",
    "  by clicking \"Save\" in the top right corner\n",
    "* Location of the data file is also shown in the top left corner\n",
    "\n",
    "![centered](img/trainer_save.png)"
   ]
  },
  {
   "cell_type": "markdown",
   "metadata": {
    "slideshow": {
     "slide_type": "slide"
    }
   },
   "source": [
    "### ![inline-img](img/examine.png)![inline-img](img/small-nlu.png)Confirm changes in `json`\n",
    "\n",
    "We can see the example added to data file `.weather/data/data.json`\n",
    "\n",
    "![centered-image](img/virginia_added.png)"
   ]
  },
  {
   "cell_type": "markdown",
   "metadata": {
    "slideshow": {
     "slide_type": "slide"
    }
   },
   "source": [
    "## ![inline-img](img/examine.png)![inline-img](img/small-nlu.png)Prepare to create NLU model from our data"
   ]
  },
  {
   "cell_type": "markdown",
   "metadata": {
    "slideshow": {
     "slide_type": "slide"
    }
   },
   "source": [
    "### ![inline-img](img/examine.png)![inline-img](img/small-nlu.png)`nlu_model.py` First part - import\n",
    "We start by importing the necessary libraries from the rasa_nlu module\n",
    " \n",
    "```python\n",
    "from rasa_nlu.training_data import load_data\n",
    "from rasa_nlu import config\n",
    "from rasa_nlu.model import Trainer\n",
    "from rasa_nlu.model import Metadata, Interpreter\n",
    "```"
   ]
  },
  {
   "cell_type": "markdown",
   "metadata": {
    "slideshow": {
     "slide_type": "slide"
    }
   },
   "source": [
    "### ![inline-img](img/examine.png)![inline-img](img/small-nlu.png)`nlu_model.py` Second part - `def train_nlu`\n",
    "\n",
    "This function will train the model and store it in the model directory\n",
    "\n",
    "```python\n",
    "def train_nlu(data, configs, model_dir):\n",
    "    training_data = load_data(data)\n",
    "    trainer = Trainer(config.load(configs))\n",
    "    trainer.train(training_data)\n",
    "    model_directory = trainer.persist(model_dir, fixed_model_name = 'weathernlu')\n",
    "```"
   ]
  },
  {
   "cell_type": "markdown",
   "metadata": {
    "slideshow": {
     "slide_type": "notes"
    }
   },
   "source": [
    "Then we define a `train_nlu` function with data file (`data.json`), configuration file and model directory where all model files will be saved. Function loads the data file using the `load_data` method of `rasa_nlu.training_data`, initialize trainer which stores the `Trainer` class from `rasa_nlu` which trains the model using the configuration file. Then call the trainer's method train on the `training_data` file. At last we can define the `model_directory` by calling the trainer's method called persist and give `model_dir` and model name as parameters."
   ]
  },
  {
   "cell_type": "markdown",
   "metadata": {
    "slideshow": {
     "slide_type": "slide"
    }
   },
   "source": [
    "### ![inline-img](img/examine.png)![inline-img](img/small-nlu.png) `nlu_model.py` Third part - `def run_nlu`\n",
    "\n",
    "Our second function is `run_nlu`, which parses the user input using Interpreter's method `parse`\n",
    "\n",
    "```python\n",
    "def run_nlu():\n",
    "    interpreter = Interpreter.load('./models/nlu/default/weathernlu')\n",
    "    print(interpreter.parse(\"I am planning my holiday to LA. I wonder what is the weather \n",
    "    out there\"))\n",
    "\n",
    "```"
   ]
  },
  {
   "cell_type": "markdown",
   "metadata": {
    "slideshow": {
     "slide_type": "slide"
    }
   },
   "source": [
    "### ![inline-img](img/examine.png)![inline-img](img/small-nlu.png)`nlu_model.py` Put it all together and call it\n",
    "\n",
    "Now we create `main` function that calls the `train_nlu` function with appropriate arguments\n",
    "\n",
    "```python\n",
    "if __name__ == '__main__':\n",
    "    train_nlu('./data/data.json', 'config_spacy.json', './weatherbot/models/nlu')\n",
    "    run_nlu()\n",
    "```"
   ]
  },
  {
   "cell_type": "markdown",
   "metadata": {
    "slideshow": {
     "slide_type": "slide"
    }
   },
   "source": [
    "## ![inline-img](img/guided.png)![inline-img](img/small-nlu.png)  Run `nlu_model.py` to train NLU model for weather bot\n",
    "\n",
    "Run the `.weather/nlu_model.py` from your terminal to get intent classification and entity extraction output. Make sure you are in the `weatherbot` folder. \n",
    "```\n",
    "python nlu_model.py\n",
    "```"
   ]
  },
  {
   "cell_type": "markdown",
   "metadata": {
    "slideshow": {
     "slide_type": "slide"
    }
   },
   "source": [
    "## ![inline-img](img/examine.png)![inline-img](img/small-core.png)Examining the Core data for enhancement\n",
    "\n",
    "### First we will look at the files relevant to the Core\n",
    "\n",
    "Now we will work on  the python file `.weather/actions.py` "
   ]
  },
  {
   "cell_type": "markdown",
   "metadata": {
    "slideshow": {
     "slide_type": "slide"
    }
   },
   "source": [
    "### ![inline-img](img/small-core.png) Rasa Core components of Weather Bot\n",
    "\n",
    "* Dialogue management model will predict actions/response chatbot should make using the machine learning models, based on the context and state of the conversation\n",
    "* This allows the chatbot to keep a natural conversation flow and ensure better user experience"
   ]
  },
  {
   "cell_type": "markdown",
   "metadata": {
    "slideshow": {
     "slide_type": "slide"
    }
   },
   "source": [
    "### ![inline-img](img/examine.png)![inline-img](img/small-core.png) Domain file \n",
    "`.weather/weather_domain.yml`\n",
    "\n",
    "* As explained previously, domain is the universe where chatbot lives and operates\n",
    "* Define the 5 key parts of a domain:\n",
    "\n",
    "\n",
    "1. Slots\n",
    "2. Intent\n",
    "3. Entities\n",
    "4. Templates \n",
    "5. Actions\n",
    "\n",
    "Our dialogue management model would use this data to decide what action should be executed next."
   ]
  },
  {
   "cell_type": "markdown",
   "metadata": {
    "slideshow": {
     "slide_type": "slide"
    }
   },
   "source": [
    "### ![inline-img](img/examine.png)![inline-img](img/small-core.png)\n",
    "\n",
    "![centered](img/domain_shot.png)"
   ]
  },
  {
   "cell_type": "markdown",
   "metadata": {
    "slideshow": {
     "slide_type": "notes"
    }
   },
   "source": [
    "* Slots are the placeholders where you can store things you want to track during the conversation\n",
    "* Since we have only text data, type of slot would be `text`\n",
    "* We have three intents defined here `greet`, `goodbye` and `inform`\n",
    "* And only `entity` defined is `location`"
   ]
  },
  {
   "cell_type": "markdown",
   "metadata": {
    "slideshow": {
     "slide_type": "slide"
    }
   },
   "source": [
    "### ![inline-img](img/examine.png)![inline-img](img/small-core.png)\n",
    "\n",
    "![centered](img/domain2.png)"
   ]
  },
  {
   "cell_type": "markdown",
   "metadata": {
    "slideshow": {
     "slide_type": "notes"
    }
   },
   "source": [
    "* Templates are text responses from chatbot once the specific actions are predicted \n",
    "  \n",
    "  For example: \n",
    "  When the action predicted is a greeting (**utter_greet**), then bot would respond\n",
    "     **'Hello! How can I help?'**\n",
    "     \n",
    "* You need to create a custom action in Python, which will be used to make an API call to create response message when we ask for weather conditions of a specific location\n"
   ]
  },
  {
   "cell_type": "markdown",
   "metadata": {
    "slideshow": {
     "slide_type": "slide"
    }
   },
   "source": [
    "### ![inline-img](img/examine.png)![inline-img](img/small-core.png)\n",
    "* Import the libraries from `__future__` package  to ensure the new language is compatible with the interpreter\n",
    "\n",
    "```python\n",
    "from __future__ import absolute_import\n",
    "from __future__ import division\n",
    "from __future__ import unicode_literals\n",
    "\n",
    "from rasa_core.actions.action import Action\n",
    "from rasa_core.events import SlotSet\n",
    "```"
   ]
  },
  {
   "cell_type": "markdown",
   "metadata": {
    "slideshow": {
     "slide_type": "slide"
    }
   },
   "source": [
    "### ![inline-img](img/small-core.png)\n",
    "\n",
    "* You should have a class `ActionWeather` defined with parameter `Action` which is being called in `weather_domain`\n",
    "* Whenever `action_weather` is predicted, the chatbot will run everything in this class\n",
    "* You need to get your API keys to authenticate the API calls. You can sign in https://www.apixu.com/ and get free API key\n",
    "* Once you have the key, you become an authenticated client to retrieve weather updates from the website ActionWeather class in `.weatherbot/weather_domain.yml` \n",
    "* This file makes an API call to get the weather conditions of the specified location\n",
    "\n",
    "```python\n",
    "class ActionWeather(Action):\n",
    "    \n",
    "    def name(self):\n",
    "        return 'action_weather'\n",
    "    \n",
    "    def run(self, dispatcher, tracker, domain):\n",
    "        from apixu.client import ApixuClient\n",
    "        api_key = '...' #your apixu key from https://www.apixu.com/\n",
    "        client = ApixuClient(api_key) \n",
    "\n",
    "        loc = tracker.get_slot('location') #loc will be used keep track of locations \n",
    "        mentioned by the users throughout the converstaion\n",
    "        current = client.getCurrentWeather(q=loc) #we use the client and the\n",
    "        method getCurrentWeather with location as paramater.\n",
    "```            "
   ]
  },
  {
   "cell_type": "markdown",
   "metadata": {
    "slideshow": {
     "slide_type": "slide"
    }
   },
   "source": [
    "### ![inline-img](img/examine.png)![inline-img](img/small-core.png)\n",
    "\n",
    "- The response of this API call will be a Python `dictionary`\n",
    "- You can retrieve the country name, city name, weather condition, temperature in\n",
    "  celsius, humidity, wind_mph\n",
    "- You can use the `dispatcher` from `rasa_core` with method `utter_message` having the parameters\n",
    "  as `message` and finally \n",
    "- We can return the current slot value of the `location`\n",
    "\n",
    "```python\n",
    "        country = current['location']['country']\n",
    "        city = current['location']['name']\n",
    "        condition = current['current']['condition']['text'] \n",
    "        temperature_c = current['current']['temp_c']\n",
    "        humidity = current['current']['humidity']\n",
    "        wind_mph = current['current']['wind_mph']\n",
    "\n",
    "        response = \"\"\"It is currently {} in {} at the moment. The temperature \n",
    "        is {} degrees, the humidity is {}% and the wind speed is\n",
    "        {} mph.\"\"\".format(condition, city, temperature_c, humidity, wind_mph)\n",
    "         \n",
    "        dispatcher.utter_message(response)\n",
    "        return [SlotSet('location',loc)]\n",
    "```    "
   ]
  },
  {
   "cell_type": "markdown",
   "metadata": {
    "slideshow": {
     "slide_type": "slide"
    }
   },
   "source": [
    "### ![inline-img](img/small-core.png)\n",
    "\n",
    "Example response to an API call\n",
    "\n",
    "![max-height-500](img/apixu.png)"
   ]
  },
  {
   "cell_type": "markdown",
   "metadata": {
    "slideshow": {
     "slide_type": "slide"
    }
   },
   "source": [
    "### ![inline-img](img/examine.png)![inline-img](img/small-core.png)\n",
    "\n",
    " *  Save the `actions.py` file after you have updated it with your API key\n",
    " *  Now the class `ActionWeather` call from the `weather_domain.yml` is executable, so it can make an API call to get the weather conditions of the specified location"
   ]
  },
  {
   "cell_type": "markdown",
   "metadata": {
    "slideshow": {
     "slide_type": "slide"
    }
   },
   "source": [
    "### ![inline-img](img/examine.png)![inline-img](img/small-core.png)Stories \n",
    "\n",
    "![centered](img/stories.png)"
   ]
  },
  {
   "cell_type": "markdown",
   "metadata": {
    "slideshow": {
     "slide_type": "notes"
    }
   },
   "source": [
    "* As explained earlier, training data sample for the dialogue system is called a `story`\n",
    "* A new `story` starts with `##` followed by a name, which can be used for debugging\n",
    "* Snapshot below shows how a conversation is being stored in the form of a story"
   ]
  },
  {
   "cell_type": "markdown",
   "metadata": {
    "slideshow": {
     "slide_type": "slide"
    }
   },
   "source": [
    "### ![inline-img](img/small-core.png) Note:\n",
    "\n",
    "**Entities** in NLU fill in the **Slots** in Core Dialogue Actions\n",
    "\n",
    "![max-height-300](img/new-vocab-slots.png)"
   ]
  },
  {
   "cell_type": "markdown",
   "metadata": {
    "slideshow": {
     "slide_type": "slide"
    }
   },
   "source": [
    "### ![inline-img](img/small-core.png) Key point - stories reference previous actions and intents\n",
    "\n",
    "- The bot was able to retrieve the weather for Italy because it had the `location` slot\n",
    "- But before that it had to ask for the location because the user hadn't given the location\n",
    "- The user only asked for the weather\n",
    "\n",
    "![max-height-300](img/core-story-sequence.png)\n",
    "\n"
   ]
  },
  {
   "cell_type": "markdown",
   "metadata": {},
   "source": [
    "# Dialogue model overview"
   ]
  },
  {
   "cell_type": "markdown",
   "metadata": {
    "slideshow": {
     "slide_type": "slide"
    }
   },
   "source": [
    "### ![inline-img](img/small-core.png) Inputs to Rasa Core dialogue model\n",
    "\n",
    "The dialogue and actions of the bot are determined by two main inputs\n",
    "\n",
    "![max-height-500](img/core-inputs.png)"
   ]
  },
  {
   "cell_type": "markdown",
   "metadata": {
    "slideshow": {
     "slide_type": "slide"
    }
   },
   "source": [
    "### ![inline-img](img/small-core.png) Output of Rasa core dialogue model\n",
    "\n",
    "The core then uses the `KerasPolicy` of a neural network, frequently a Long Short Term Memory (LSTM) NN, to predict the next appropriate action\n",
    "\n",
    "![max-height-500](img/core-output.png)"
   ]
  },
  {
   "cell_type": "markdown",
   "metadata": {
    "slideshow": {
     "slide_type": "slide"
    }
   },
   "source": [
    "### ![inline-img](img/small-core.png) KerasPolicy chooses the action with the highest probability\n",
    "\n",
    "- The LSTM handles the classification problem \"out of all the potential actions, which one is most likely correct?\"\n",
    "- The LSTM assigns probabilities to each potential action and the `KerasPolicy` chooses the action with the highest probability\n",
    "\n",
    "![max-height-500](img/LSTM-core.png)"
   ]
  },
  {
   "cell_type": "markdown",
   "metadata": {
    "slideshow": {
     "slide_type": "slide"
    }
   },
   "source": [
    "### ![inline-img](img/small-core.png) Output becomes next input\n",
    "\n",
    "The dialogue model then uses the current output to inform the next action's input\n",
    "\n",
    "![max-height-500](img/output-to-input.png)"
   ]
  },
  {
   "cell_type": "markdown",
   "metadata": {
    "slideshow": {
     "slide_type": "slide"
    }
   },
   "source": [
    "### ![inline-img](img/small-core.png) Review core vocabulary\n",
    "\n",
    "- **State** = previous action of the bot, used as an input to assign future actions\n",
    "- **Policy** = the model or function you are using to predict and assign actions\n",
    "- **LSTM** = a particular type of recurrent neural network; Keras policy uses an LSTM to train on the stories to generate predictions for actions"
   ]
  },
  {
   "cell_type": "markdown",
   "metadata": {
    "slideshow": {
     "slide_type": "slide"
    }
   },
   "source": [
    "### ![inline-img](img/small-core.png) The role every component plays in the overall bot architecture\n",
    "\n",
    "![max-height-500](img/rasa_architecture.png)"
   ]
  },
  {
   "cell_type": "markdown",
   "metadata": {
    "slideshow": {
     "slide_type": "slide"
    }
   },
   "source": [
    "### ![inline-img](img/small-core.png) Specific partitioning of Rasa architecture\n",
    "\n",
    "![max-height-500](img/rasa-core-model-complex.png)"
   ]
  },
  {
   "cell_type": "markdown",
   "metadata": {
    "slideshow": {
     "slide_type": "slide"
    }
   },
   "source": [
    "### ![inline-img](img/small-core.png) Creating custom data - stories\n",
    "\n",
    "* You will create custom stories using the interactive learning tool provided by Rasa Core. \n",
    "* Your conversation with your bot can be exported to `.data/stories.md` \n",
    "* You will then be using the two training Python files, \n",
    " - `.weatherbot/train_init.py`\n",
    " - `.weatherbot/train_online.py`"
   ]
  },
  {
   "cell_type": "markdown",
   "metadata": {
    "slideshow": {
     "slide_type": "slide"
    }
   },
   "source": [
    "### ![inline-img](img/examine.png)![inline-img](img/small-core.png) Examine scripts to train Core\n",
    "\n",
    "`train_init.py`\n",
    "\n",
    "* You will use predefined models of `rasa_core` on our training data\n",
    "* Our training data will be `stories.md`\n",
    "\n",
    "```python\n",
    "import logging\n",
    "from rasa_core.agent import Agent\n",
    "from rasa_core.policies.keras_policy import KerasPolicy\n",
    "from rasa_core.policies.memoization import MemoizationPolicy\n",
    "\n",
    "if __name__ == '__main__':\n",
    "    logging.basicConfig(level='INFO')\n",
    "    training_data_file = './data/stories.md' \n",
    "    model_path = './models/dialogue' \n",
    "```"
   ]
  },
  {
   "cell_type": "markdown",
   "metadata": {
    "slideshow": {
     "slide_type": "slide"
    }
   },
   "source": [
    "### ![inline-img](img/small-core.png) Policy Options: standard Rasa AI Keras Policy\n",
    "\n",
    "#### This script uses two different policies:\n",
    "- `KerasPolicy` which works with neural networks\n",
    "- `Memoization` which works with a dictionary of keys and entries of conditionals and actions\n",
    "\n",
    "#### Sometimes another policy will be included:\n",
    "- `FallbackPolicy`\n"
   ]
  },
  {
   "cell_type": "markdown",
   "metadata": {
    "slideshow": {
     "slide_type": "slide"
    }
   },
   "source": [
    "### ![inline-img](img/examine.png)![inline-img](img/small-core.png)Script for Fallback Policy \n",
    "\n",
    "If a fallback policy is included, it would appear in the script like so:\n",
    "\n",
    "\n",
    "```python\n",
    "...\n",
    "from rasa_core.policies.fallback import FallbackPolicy\n",
    "from rasa_core.policies.keras_policy import KerasPolicy\n",
    "from rasa_core.agent import Agent\n",
    "\n",
    "fallback = FallbackPolicy(fallback_action_name=\"action_default_fallback\",\n",
    "                          core_threshold=0.3,\n",
    "                          nlu_threshold=0.3)\n",
    "\n",
    "agent = Agent(\"domain.yml\",\n",
    "               policies=[KerasPolicy(), fallback])\n",
    "...\n",
    "```\n"
   ]
  },
  {
   "cell_type": "markdown",
   "metadata": {
    "slideshow": {
     "slide_type": "slide"
    }
   },
   "source": [
    "### ![inline-img](img/examine.png)![inline-img](img/small-core.png)Fallback Policy scenario\n",
    "\n",
    "![max-height-500](img/fallback1.png)"
   ]
  },
  {
   "cell_type": "markdown",
   "metadata": {
    "slideshow": {
     "slide_type": "slide"
    }
   },
   "source": [
    "### ![inline-img](img/examine.png)![inline-img](img/small-core.png)Fallback policy evaluates and implements action\n",
    "\n",
    "- Policy evaluates prediced probabilities at a `core_threshold=0.3`\n",
    "- If not probability is greater than `0.3`, the `action_default_fallback` is used\n",
    "\n",
    "![max-height-500](img/fallback2.png)"
   ]
  },
  {
   "cell_type": "markdown",
   "metadata": {
    "slideshow": {
     "slide_type": "notes"
    }
   },
   "source": [
    "- Note:`action_fallback` is a default action in Rasa Core, which will send the `utter_default` template message to the user\n",
    "- Make sure to specify this template in your domain file\n",
    "- It will also revert back to the state of the conversation before the user message that caused the fallback, so that it will not influence the prediction of future actions. You can take a look at the source of the action below:\n",
    "    - `class rasa_core.actions.action.ActionDefaultFallback` \n",
    "- It Executes the fallback action and goes back to the previous state of the dialogue"
   ]
  },
  {
   "cell_type": "markdown",
   "metadata": {
    "slideshow": {
     "slide_type": "slide"
    }
   },
   "source": [
    "### ![inline-img](img/examine.png)![inline-img](img/small-core.png) Specifications within script\n",
    "\n",
    "* We are using the `Agent` class from `rasa_core` with `MemoizationPolicy` and `KerasPolicy` \n",
    "* The Keras Policy being used is an LSTM model, you can tune the parameters, add or remove layers etc.\n",
    "\n",
    "```python\n",
    "    agent = Agent('weather_domain.yml', \n",
    "                  policies = [MemoizationPolicy(max_history = 2),\n",
    "                  KerasPolicy()]) \n",
    "\n",
    "    agent.train(training_data_file, \n",
    "                epochs = 500,\n",
    "                batch_size = 10, \n",
    "                validation_split = 0.2)\n",
    "\n",
    "    agent.persist(model_path)\n",
    "```    "
   ]
  },
  {
   "cell_type": "markdown",
   "metadata": {
    "slideshow": {
     "slide_type": "slide"
    }
   },
   "source": [
    "### ![inline-img](img/guided.png)![inline-img](img/small-core.png) Train core model\n",
    "Now run this script in your terminal.\n",
    "```\n",
    "python train_init.py\n",
    "```\n",
    "This would train the model with 500 epochs. An epoch describes the number of times the algorithm sees the entire dataset. So, each time the algorithm has seen all samples in the dataset, an epoch has completed.\n",
    "\n",
    "```\n",
    "...\n",
    "Using TensorFlow backend.\n",
    "WARNING:rasa_core.agent:Passing a file name to `agent.train(...)` is deprecated. Rather load the data with `data = agent.load_data(file_name)` and pass it to `agent.train(data)`.\n",
    "Processed Story Blocks: 100%|██████████████████████████████████████████| 10/10 [00:00<00:00, 3745.58it/s, # trackers=1]\n",
    "...\n",
    "```"
   ]
  },
  {
   "cell_type": "markdown",
   "metadata": {
    "slideshow": {
     "slide_type": "slide"
    }
   },
   "source": [
    "### ![inline-img](img/examine.png)![inline-img](img/small-core.png) The Keras model has the following structure: \n",
    "```\n",
    "...\n",
    "Instructions for updating:\n",
    "keep_dims is deprecated, use keepdims instead\n",
    "_________________________________________________________________\n",
    "Layer (type)                 Output Shape              Param #   \n",
    "=================================================================\n",
    "masking_1 (Masking)          (None, 5, 11)             0         \n",
    "_________________________________________________________________\n",
    "lstm_1 (LSTM)                (None, 32)                5632      \n",
    "_________________________________________________________________\n",
    "dense_1 (Dense)              (None, 6)                 198       \n",
    "_________________________________________________________________\n",
    "activation_1 (Activation)    (None, 6)                 0         \n",
    "=================================================================\n",
    "Total params: 5,830\n",
    "Trainable params: 5,830\n",
    "Non-trainable params: 0\n",
    "_________________________________________________________________\n",
    "...\n",
    "```"
   ]
  },
  {
   "cell_type": "markdown",
   "metadata": {
    "slideshow": {
     "slide_type": "slide"
    }
   },
   "source": [
    "### ![inline-img](img/small-core.png) Keras LSTM specification:\n",
    "\n",
    "Network architecture of LSTM has four layers\n",
    "1. Masking\n",
    "2. LSTM  \n",
    "3. Dense\n",
    "4. Activation\n",
    "\n",
    "- The output shape of each layer is defined in the `rasa_core.keras_policy.py`.\n",
    "- Parameters for a layer are calculated as follows:\n",
    "\n",
    "```python\n",
    "num_params = [(num_units + input_dim + 1) * num_units] * number_of_layers\n",
    "```"
   ]
  },
  {
   "cell_type": "markdown",
   "metadata": {
    "slideshow": {
     "slide_type": "slide"
    }
   },
   "source": [
    "### ![inline-img](img/examine.png)\n",
    "```\n",
    "...\n",
    "Epoch 500/500\n",
    "31/31 [==============================] - 0s - loss: 0.0052 - acc: 1.0000 - val_loss: 0.1900 - val_acc: 0.8750\n",
    "INFO:rasa_core.policies.keras_policy:Done fitting keras policy model\n",
    "INFO:rasa_core.agent:Persisted model to '/Users/praneeshkhanna/weatherbot/Weatherbot_Tutorial/weatherbot/models/dialogue'\n",
    "...\n",
    "```\n",
    "The model is saved in the `models/dialogue directory`"
   ]
  },
  {
   "cell_type": "markdown",
   "metadata": {
    "slideshow": {
     "slide_type": "slide"
    }
   },
   "source": [
    "### ![inline-img](img/examine.png)![inline-img](img/small-core.png)The script we run to initialize the interactive training is `train_online.py` \n",
    "\n",
    "Let us inspect the first section of `train_online.py`\n",
    "\n",
    "```python\n",
    "from __future__ import absolute_import\n",
    "from __future__ import division\n",
    "from __future__ import print_function\n",
    "from __future__ import unicode_literals\n",
    "```"
   ]
  },
  {
   "cell_type": "markdown",
   "metadata": {
    "slideshow": {
     "slide_type": "slide"
    }
   },
   "source": [
    "### ![inline-img](img/examine.png)![inline-img](img/small-core.png) Next, we import methods to run an actual chatbot conversation\n",
    "\n",
    "We need additional methods from `rasa_core` as the online session is an actual conversation with the chatbot\n",
    " - `ConsoleInputChannel`, `RegexInterpreter`, and `RasaNLUInterpreter` function together to read input text from the console and classify intent with entities\n",
    " - `Agent`, `KerasPolicy`, and `MemoizationPolicy` should look familiar from developing our Core model\n",
    "\n",
    "```python\n",
    "import logging\n",
    "\n",
    "from rasa_core.agent import Agent\n",
    "from rasa_core.channels.console import ConsoleInputChannel\n",
    "from rasa_core.interpreter import RegexInterpreter\n",
    "from rasa_core.policies.keras_policy import KerasPolicy\n",
    "from rasa_core.policies.memoization import MemoizationPolicy\n",
    "from rasa_core.interpreter import RasaNLUInterpreter\n",
    "```"
   ]
  },
  {
   "cell_type": "markdown",
   "metadata": {
    "slideshow": {
     "slide_type": "slide"
    }
   },
   "source": [
    "### ![inline-img](img/examine.png)![inline-img](img/small-core.png)Much of this shoud look similar to `train_init.py`\n",
    "We are using `agent` the same way as we did in `train_init.py` with additional parameters like `input_channel` and `interpreter`\n",
    "\n",
    "```python\n",
    "logger = logging.getLogger(__name__)\n",
    "\n",
    "\n",
    "def run_weather_online(input_channel, interpreter,\n",
    "                       domain_file=\"weather_domain.yml\",\n",
    "                       training_data_file='data/stories.md'):\n",
    "    \n",
    "    agent = Agent(domain_file,\n",
    "                  policies=[MemoizationPolicy(max_history=2), KerasPolicy()],\n",
    "                  interpreter=interpreter)\n",
    "                  \n",
    "    agent.train_online(training_data_file,\n",
    "                       input_channel=input_channel, \n",
    "                       batch_size=50, \n",
    "                       epochs=200, \n",
    "                       max_training_samples=300)\n",
    "    return agent\n",
    "\n",
    "if __name__ == '__main__':\n",
    "    logging.basicConfig(level=\"INFO\")\n",
    "    nlu_interpreter = RasaNLUInterpreter('./models/nlu/default/weathernlu')\n",
    "    run_weather_online(ConsoleInputChannel(), nlu_interpreter)\n",
    "```"
   ]
  },
  {
   "cell_type": "markdown",
   "metadata": {
    "slideshow": {
     "slide_type": "slide"
    }
   },
   "source": [
    "### ![inline-img](img/guided.png)![inline-img](img/small-core.png) To initiate the interactive training, use the script `train_online.py`\n",
    "\n",
    "- You can interactively add new stories and train the dialogue model\n",
    "- Run this script on your terminal\n",
    "\n",
    "```\n",
    "python train_online.py\n",
    "``` "
   ]
  },
  {
   "cell_type": "markdown",
   "metadata": {
    "slideshow": {
     "slide_type": "slide"
    }
   },
   "source": [
    "### ![inline-img](img/examine.png) ![inline-img](img/small-core.png) Once initiated, the script outputs the parameters of the dialogue model:\n",
    "\n",
    "Architecture of the `train_online.py` model.\n",
    "```\n",
    "...\n",
    "keep_dims is deprecated, use keepdims instead\n",
    "_________________________________________________________________\n",
    "Layer (type)                 Output Shape              Param #   \n",
    "=================================================================\n",
    "masking_1 (Masking)          (None, 5, 14)             0         \n",
    "_________________________________________________________________\n",
    "lstm_1 (LSTM)                (None, 32)                6016      \n",
    "_________________________________________________________________\n",
    "dense_1 (Dense)              (None, 7)                 231       \n",
    "_________________________________________________________________\n",
    "activation_1 (Activation)    (None, 7)                 0         \n",
    "=================================================================\n",
    "Total params: 6,247\n",
    "Trainable params: 6,247\n",
    "Non-trainable params: 0\n",
    "_________________________________________________________________\n",
    "...\n",
    "\n",
    "```"
   ]
  },
  {
   "cell_type": "markdown",
   "metadata": {
    "slideshow": {
     "slide_type": "slide"
    }
   },
   "source": [
    "### ![inline-img](img/examine.png)![inline-img](img/small-core.png)And `train_online.py` outputs the baseline accuracy of the core model\n",
    "\n",
    "The model should run for 200 epochs, outputting the loss value and accuracy\n",
    "```\n",
    "Epoch 200/200\n",
    "39/39 [==============================] - 0s - loss: 0.5101 - acc: 0.8205\n",
    "INFO:rasa_core.policies.keras_policy:Done fitting keras policy model\n",
    "```"
   ]
  },
  {
   "cell_type": "markdown",
   "metadata": {
    "slideshow": {
     "slide_type": "slide"
    }
   },
   "source": [
    "### ![inline-img](img/guided.png)![inline-img](img/small-core.png)Begin to interactively train the bot\n",
    "\n",
    "- When the bot is loaded and you can start the conversation\n",
    "\n",
    "```\n",
    "Bot loaded. Type a message and press enter: \n",
    "Hello\n",
    "```"
   ]
  },
  {
   "cell_type": "markdown",
   "metadata": {
    "slideshow": {
     "slide_type": "slide"
    }
   },
   "source": [
    "### ![inline-img](img/examine.png)![inline-img](img/small-core.png) This is the start of the training conversation\n",
    "\n",
    "```bash\n",
    "------\n",
    "Chat history:\n",
    "\n",
    "\tbot did:\tNone  \n",
    "\n",
    "\tbot did:\taction_listen\n",
    "\n",
    "\tuser said:\tHello\n",
    "\n",
    "\t\t whose intent is:\tgreet\n",
    "\n",
    "we currently have slots: location: None\n",
    "\n",
    "------\n",
    "The bot wants to [action_listen] due to the intent. Is this correct?\n",
    "\n",
    "\t1.\tYes\n",
    "\t2.\tNo, intent is right but the action is wrong\n",
    "\t3.\tThe intent is wrong\n",
    "\t0.\tExport current conversations as stories and quit\n",
    "\n",
    "```"
   ]
  },
  {
   "cell_type": "markdown",
   "metadata": {
    "slideshow": {
     "slide_type": "notes"
    }
   },
   "source": [
    "Note that the bot is tracking previous actions on both parts and provides options for directing the bot"
   ]
  },
  {
   "cell_type": "markdown",
   "metadata": {
    "slideshow": {
     "slide_type": "slide"
    }
   },
   "source": [
    "### ![inline-img](img/guided.png)![inline-img](img/small-core.png) At each point, you can confirm if the bot acted as expected\n",
    "* Weather Bot correctly predicts the intent as greet, so the corresponding action is listen, so we respond 1.\n",
    "* Now we can ask about weather conditions of a city we like\n",
    "\n",
    "```\n",
    "1\n",
    "Next user input:\n",
    "How's the weather in Chicago ?\n",
    "```"
   ]
  },
  {
   "cell_type": "markdown",
   "metadata": {
    "slideshow": {
     "slide_type": "slide"
    }
   },
   "source": [
    "### ![inline-img](img/examine.png)![inline-img](img/small-core.png)Proceed to next part of the training conversation\n",
    "```\n",
    "------\n",
    "Chat history:\n",
    "\n",
    "\tbot did:\tNone\n",
    "\n",
    "\tbot did:\taction_listen\n",
    "\n",
    "\tuser did:\tgreet\n",
    "\n",
    "\tbot did:\taction_listen\n",
    "\n",
    "\tuser said:\tHow's the weather in Chicago ?\n",
    "\n",
    "\t\t whose intent is:\tinform\n",
    "\n",
    "\twith location:\tchicago\n",
    "\n",
    "we currently have slots: location: chicago\n",
    "\n",
    "------\n",
    "The bot wants to [action_weather] due to the intent. Is this correct?\n",
    "\n",
    "\t1.\tYes\n",
    "\t2.\tNo, intent is right but the action is wrong\n",
    "\t3.\tThe intent is wrong\n",
    "\t0.\tExport current conversations as stories and quit\n",
    "```"
   ]
  },
  {
   "cell_type": "markdown",
   "metadata": {
    "slideshow": {
     "slide_type": "slide"
    }
   },
   "source": [
    "### ![inline-img](img/guided.png)![inline-img](img/small-core.png)Once you confirm it does the correct action, the bot will respond accordingly\n",
    "- Respond 1 as `action_weather` is the correct response \n",
    "- Weatherbot will respond with weather conditions in selected location\n",
    "\n",
    "```\n",
    "1\n",
    "It is currently Partly cloudy in Chicago at the moment. The temperature is 27.2 degrees, the humidity is 49% and the wind speed is 6.9 mph.\n",
    "------\n",
    "```"
   ]
  },
  {
   "cell_type": "markdown",
   "metadata": {
    "slideshow": {
     "slide_type": "slide"
    }
   },
   "source": [
    "### ![inline-img](img/examine.png)![inline-img](img/small-core.png)Bot still wants to check if it should do anything next\n",
    "\n",
    "```\n",
    "------\n",
    "Chat history:\n",
    "\n",
    "\tbot did:\taction_listen\n",
    "\n",
    "\tuser did:\tgreet\n",
    "\n",
    "\tbot did:\taction_listen\n",
    "\n",
    "\tuser did:\tinform\n",
    "\n",
    "\twith location:\tchicago\n",
    "\n",
    "\tbot did:\taction_weather\n",
    "\n",
    "we currently have slots: location: chicago\n",
    "\n",
    "------\n",
    "The bot wants to [action_listen]. Is this correct?\n",
    "\n",
    "\t1.\tYes.\n",
    "\t2.\tNo, the action is wrong.\n",
    "\t0.\tExport current conversations as stories and quit\n",
    "    \n",
    "```"
   ]
  },
  {
   "cell_type": "markdown",
   "metadata": {
    "slideshow": {
     "slide_type": "slide"
    }
   },
   "source": [
    "### ![inline-img](img/guided.png)![inline-img](img/small-core.png)Exit the conversation and export the updated stories\n",
    "\n",
    "- Choose the third option 0 because we want to export the stories generated to our Markdown file `./weatherbot/stories.md` \n",
    "\n",
    "```\n",
    "0\n",
    "File to export to (if file exists, this will append the stories) [stories.md]:\n",
    "```\n",
    "\n",
    "- Give the location where `stories.md` should be saved\n",
    "\n",
    "```\n",
    ".data/stories.md\n",
    "```\n",
    "\n",
    "- You should see this message on your terminal\n",
    "\n",
    "```\n",
    "INFO:rasa_core.policies.online_trainer:Stories got exported to './weatherbot/.data/stories.md'.\n",
    "```\n"
   ]
  },
  {
   "cell_type": "markdown",
   "metadata": {
    "slideshow": {
     "slide_type": "slide"
    }
   },
   "source": [
    "### ![inline-img](img/examine.png)![inline-img](img/small-core.png)Check - the generated story is now in `stories.md`\n",
    "\n",
    "- `.weatherbot/data/stories.md` should now contain the conversation you just had with the bot"
   ]
  },
  {
   "cell_type": "markdown",
   "metadata": {
    "slideshow": {
     "slide_type": "slide"
    }
   },
   "source": [
    "![centered](img/new_convo.png)"
   ]
  },
  {
   "cell_type": "markdown",
   "metadata": {
    "slideshow": {
     "slide_type": "slide"
    }
   },
   "source": [
    "## ![inline-img](img/activity.png) Activity - add two more stories to the Weather Bot"
   ]
  },
  {
   "cell_type": "markdown",
   "metadata": {
    "slideshow": {
     "slide_type": "slide"
    }
   },
   "source": [
    "### ![inline-img](img/guided.png)![inline-img](img/small-core.png) Retrain core model with new story\n",
    "\n",
    "* Now you need to retrain the model with the new stories added\n",
    "* Run the `.weatherbot/train_init.py` in your terminal to retrain the model\n",
    "\n",
    "```\n",
    "python train_init.py\n",
    "```\n"
   ]
  },
  {
   "cell_type": "markdown",
   "metadata": {
    "slideshow": {
     "slide_type": "slide"
    }
   },
   "source": [
    "### ![inline-img](img/examine.png)![inline-img](img/small-core.png)Retrained model output\n",
    "\n",
    "- Observing from the last epoch, validation accuracy on `./weather/train_init.py` has increased from 87.5% to 100% on adding new data\n",
    "\n",
    "```\n",
    "Epoch 500/500\n",
    "43/43 [==============================] - 0s - loss: 0.0085 - acc: 1.0000 - val_loss: 0.0061 - val_acc: 1.0000\n",
    "INFO:rasa_core.policies.keras_policy:Done fitting keras policy model\n",
    "\n",
    "```"
   ]
  },
  {
   "cell_type": "markdown",
   "metadata": {
    "slideshow": {
     "slide_type": "slide"
    }
   },
   "source": [
    "### ![inline-img](img/examine.png)![inline-img](img/small-core.png) Revisit the original visualization graph\n",
    "\n",
    "- Visualize and see the difference in the graphs from before\n",
    "\n",
    "```\n",
    "python -m rasa_core.visualize -d weather_domain.yml -s data/stories.md -o graph.png\n",
    "```"
   ]
  },
  {
   "cell_type": "markdown",
   "metadata": {
    "slideshow": {
     "slide_type": "slide"
    }
   },
   "source": [
    "### ![inline-img](img/examine.png) ![inline-img](img/small-core.png) Review graph after story customization\n",
    "You can notice the new branch added to the graph.\n",
    "![max-height-500](img/graph_new1.png)"
   ]
  },
  {
   "cell_type": "markdown",
   "metadata": {
    "slideshow": {
     "slide_type": "notes"
    }
   },
   "source": [
    "* To visualize the customized stories, we would need to run the same command we used earlier\n",
    "* Make sure you can see the exported story in `.data/stories.md` file before executing the following command\n"
   ]
  },
  {
   "cell_type": "markdown",
   "metadata": {
    "slideshow": {
     "slide_type": "slide"
    }
   },
   "source": [
    "## ![inline-img](img/small-core.png) Last script to run Weather Bot\n",
    "\n",
    "The last script we need to execute and understand is `dialogue_management_model.py`"
   ]
  },
  {
   "cell_type": "markdown",
   "metadata": {
    "slideshow": {
     "slide_type": "slide"
    }
   },
   "source": [
    "### ![inline-img](img/examine.png)![inline-img](img/small-core.png) Examine `dialogue_management_model.py`\n",
    "\n",
    "- Import all the libraries and initialize the logger for debugging\n",
    "\n",
    "```python\n",
    "from __future__ import absolute_import\n",
    "from __future__ import division\n",
    "from __future__ import print_function\n",
    "from __future__ import unicode_literals\n",
    "\n",
    "import logging\n",
    "\n",
    "from rasa_core.agent import Agent\n",
    "from rasa_core.channels.console import ConsoleInputChannel\n",
    "from rasa_core.interpreter import RegexInterpreter\n",
    "from rasa_core.policies.keras_policy import KerasPolicy\n",
    "from rasa_core.policies.memoization import MemoizationPolicy\n",
    "from rasa_core.interpreter import RasaNLUInterpreter\n",
    "\n",
    "logger = logging.getLogger(__name__)\n",
    "```"
   ]
  },
  {
   "cell_type": "markdown",
   "metadata": {
    "slideshow": {
     "slide_type": "slide"
    }
   },
   "source": [
    "### ![inline-img](img/examine.png)![inline-img](img/small-core.png) Examine `dialogue_management_model.py`\n",
    "Examine functions in script\n",
    "\n",
    "```python\n",
    "def train_dialogue(domain_file = 'weather_domain.yml',\n",
    "                   model_path =  './weatherbot/models/dialogue',\n",
    "                   training_data_file = './weatherbot/data/stories.md'):\n",
    "    \n",
    "    agent = Agent(domain_file, policies = [MemoizationPolicy(), KerasPolicy()])\n",
    "    \n",
    "    agent.train(training_data_file,\n",
    "                epochs = 300,\n",
    "                batch_size = 50,\n",
    "                validation_split = 0.2)\n",
    "\n",
    "    agent.persist(model_path)\n",
    "    return agent\n",
    "```"
   ]
  },
  {
   "cell_type": "markdown",
   "metadata": {
    "slideshow": {
     "slide_type": "notes"
    }
   },
   "source": [
    "* Note: You can tweak model parameters and see if you can improve validation accuracy"
   ]
  },
  {
   "cell_type": "markdown",
   "metadata": {
    "slideshow": {
     "slide_type": "slide"
    }
   },
   "source": [
    "### ![inline-img](img/examine.png)![inline-img](img/small-core.png) Examine `dialogue_management_model.py`\n",
    "\n",
    "Examine functions in script\n",
    "\n",
    "```python\n",
    "def run_weather_bot(serve_forever=True):\n",
    "    interpreter =RasaNLUInterpreter('./weatherbot/models/nlu/default/weathernlu')\n",
    "    agent = Agent.load('.weatherbot/models/dialogue', interpreter = interpreter) \n",
    "    if serve_forever:\n",
    "        agent.handle_channel(ConsoleInputChannel())\n",
    "        return agent   \n",
    "if __name__ == '__main__':\n",
    "    train_dialogue()\n",
    "    run_weather_bot()\n",
    "```    "
   ]
  },
  {
   "cell_type": "markdown",
   "metadata": {
    "slideshow": {
     "slide_type": "notes"
    }
   },
   "source": [
    "* The second function of the script is used to check if the server is constantly listening to\n",
    "  the messages. \n",
    "* You can load the `rasa_nlu` model using `RasaNLUInterpreter` and the agent using `load` method of `Agent` class\n",
    "* Now you can start listening the incoming messages using `handle_channel` method\n",
    "* Finally you can call the `train_dialogue` and `run_weather_bot` function"
   ]
  },
  {
   "cell_type": "markdown",
   "metadata": {
    "slideshow": {
     "slide_type": "slide"
    }
   },
   "source": [
    "### ![inline-img](img/guided.png)![inline-img](img/small-core.png) Run script to run bot\n",
    "\n",
    "- Run the script on your terminal\n",
    "\n",
    "```\n",
    "python dialogue_management_model.py\n",
    "```"
   ]
  },
  {
   "cell_type": "markdown",
   "metadata": {
    "slideshow": {
     "slide_type": "slide"
    }
   },
   "source": [
    "### ![inline-img](img/examine.png)![inline-img](img/small-core.png)Check dialogue model output\n",
    "\n",
    "```\n",
    "Epoch 300/300\n",
    "43/43 [==============================] - 0s - loss: 0.2026 - acc: 1.0000 - val_loss: 0.2934 - val_acc: 0.9091\n",
    "\n",
    "/Users/[user-name]/anaconda3/lib/python3.6/site-packages/rasa_nlu/extractors/entity_synonyms.py:85: UserWarning: Failed to load synonyms file from './models/nlu/default/weathernlu/entity_synonyms.json'\n",
    "  \"\".format(entity_synonyms_file))\n",
    "\n",
    "```"
   ]
  },
  {
   "cell_type": "markdown",
   "metadata": {
    "slideshow": {
     "slide_type": "slide"
    }
   },
   "source": [
    "### ![inline-img](img/guided.png)![inline-img](img/small-core.png) Interact with bot\n",
    "\n",
    "```\n",
    "Bot loaded. Type a message and press enter: \n",
    "```\n",
    "\n",
    "Hello\n",
    "\n",
    "```\n",
    "Hello! How can I help?\n",
    "```\n",
    "\n",
    "How's the weather in Seattle?\n",
    "\n",
    "```\n",
    "It is currently Sunny in Seattle at the moment. The temperature is 26.1 degrees, the humidity is 44% and the wind speed is 0.0 mph.\n",
    "```"
   ]
  }
 ],
 "metadata": {
  "kernelspec": {
   "display_name": "Python 3",
   "language": "python",
   "name": "python3"
  },
  "language_info": {
   "codemirror_mode": {
    "name": "ipython",
    "version": 3
   },
   "file_extension": ".py",
   "mimetype": "text/x-python",
   "name": "python",
   "nbconvert_exporter": "python",
   "pygments_lexer": "ipython3",
   "version": "3.6.5"
  }
 },
 "nbformat": 4,
 "nbformat_minor": 2
}
