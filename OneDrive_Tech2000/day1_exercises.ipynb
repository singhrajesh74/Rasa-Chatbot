{
 "cells": [
  {
   "cell_type": "markdown",
   "metadata": {},
   "source": [
    "## ![inline-img](img/exercise-code.png) Exercise 1: **review, match & assess**"
   ]
  },
  {
   "cell_type": "markdown",
   "metadata": {},
   "source": [
    "Within the chatbot directory you should see the following folders:\n",
    "- `moodbot`\n",
    "- `concertbot`\n",
    "\n",
    "Each of those folders is a separate bot.<br/>\n",
    "Please split into **two** groups for this exercise and pick one of the bots.\n",
    "\n",
    "Each group is assigned the following tasks:\n",
    "- Examine the contents of the bot folders\n",
    " - What is the contents of the folders?\n",
    " - Which NLU pipeline components does the bot use?\n",
    " - Which files are related to which purpose within the bot architecture? NLU or Core?\n",
    " - Is there a `README` file with anything interesting?\n",
    "- Reporting out their findings to the rest of the group"
   ]
  },
  {
   "cell_type": "markdown",
   "metadata": {},
   "source": [
    "## ![inline-img](img/exercise-code.png) Exercise 2: **train, test & visualize your bot**\n",
    "\n",
    "\n",
    "Each group, from within your respective bot folder, train your respective bots.\n",
    "\n",
    "Then try to chat with your bot. \n",
    "- Take notes on your conversation\n",
    "- How smart was your bot?\n",
    "\n",
    "Then adapt the code below from the in-class activity to produce the graph for your bot.\n",
    "**Remember** you will need to specfiy the correct name of the `domain` file and the `stories` file.\n",
    "\n",
    "```\n",
    "python -m rasa_core.visualize -d domain.yml -s data/stories.md -o graph.png\n",
    "```\n",
    "\n",
    "Be prepared to share your graph and notes with the group."
   ]
  }
 ],
 "metadata": {
  "kernelspec": {
   "display_name": "Python 3",
   "language": "python",
   "name": "python3"
  },
  "language_info": {
   "codemirror_mode": {
    "name": "ipython",
    "version": 3
   },
   "file_extension": ".py",
   "mimetype": "text/x-python",
   "name": "python",
   "nbconvert_exporter": "python",
   "pygments_lexer": "ipython3",
   "version": "3.6.5"
  }
 },
 "nbformat": 4,
 "nbformat_minor": 2
}
